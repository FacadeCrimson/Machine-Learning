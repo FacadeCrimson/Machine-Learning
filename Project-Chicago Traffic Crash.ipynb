{
 "cells": [
  {
   "cell_type": "markdown",
   "metadata": {},
   "source": [
    "## Final Project - Chicago Accidents Dataset"
   ]
  },
  {
   "cell_type": "markdown",
   "metadata": {},
   "source": [
    "### 1.Acquire Data and Initial Exploration"
   ]
  },
  {
   "cell_type": "code",
   "execution_count": 1,
   "metadata": {},
   "outputs": [],
   "source": [
    "## The ipython-sql library is loaded using the %load_ext iPython extension syntax and is pointed to the connection object \n",
    "%load_ext sql"
   ]
  },
  {
   "cell_type": "code",
   "execution_count": 94,
   "metadata": {},
   "outputs": [
    {
     "name": "stdout",
     "output_type": "stream",
     "text": [
      "dropdb: database removal failed: ERROR:  database \"GROUP15\" does not exist\n"
     ]
    }
   ],
   "source": [
    "## drop database in case it is already created. Ignore error \"dbase_name does not exist\"\n",
    "!dropdb -U student dk"
   ]
  },
  {
   "cell_type": "code",
   "execution_count": 95,
   "metadata": {},
   "outputs": [],
   "source": [
    "## create a new database for user student and nameit group15\n",
    "!createdb -U student dk"
   ]
  },
  {
   "cell_type": "code",
   "execution_count": 2,
   "metadata": {},
   "outputs": [
    {
     "data": {
      "text/plain": [
       "'Connected: student@dk'"
      ]
     },
     "execution_count": 2,
     "metadata": {},
     "output_type": "execute_result"
    }
   ],
   "source": [
    "## connect to the database. \n",
    "%sql postgresql://student@/dk"
   ]
  },
  {
   "cell_type": "code",
   "execution_count": 97,
   "metadata": {},
   "outputs": [
    {
     "name": "stdout",
     "output_type": "stream",
     "text": [
      "--2019-12-01 03:27:38--  https://gwu-workshop-verma-2019.s3.amazonaws.com/Traffic_Crashes.csv\n",
      "Resolving gwu-workshop-verma-2019.s3.amazonaws.com (gwu-workshop-verma-2019.s3.amazonaws.com)... 52.216.184.107\n",
      "Connecting to gwu-workshop-verma-2019.s3.amazonaws.com (gwu-workshop-verma-2019.s3.amazonaws.com)|52.216.184.107|:443... connected.\n",
      "HTTP request sent, awaiting response... 200 OK\n",
      "Length: 97290092 (93M) [text/csv]\n",
      "Saving to: ‘Traffic_Crashes.csv’\n",
      "\n",
      "Traffic_Crashes.csv 100%[===================>]  92.78M  52.3MB/s    in 1.8s    \n",
      "\n",
      "2019-12-01 03:27:40 (52.3 MB/s) - ‘Traffic_Crashes.csv’ saved [97290092/97290092]\n",
      "\n"
     ]
    }
   ],
   "source": [
    "## fetching the data from the s3 bucket that is wrangled\n",
    "!wget https://gwu-workshop-verma-2019.s3.amazonaws.com/Traffic_Crashes.csv"
   ]
  },
  {
   "cell_type": "code",
   "execution_count": 98,
   "metadata": {},
   "outputs": [
    {
     "name": "stdout",
     "output_type": "stream",
     "text": [
      "--2019-12-01 03:27:41--  https://gwu-workshop-verma-2019.s3.amazonaws.com/weather_description.csv\n",
      "Resolving gwu-workshop-verma-2019.s3.amazonaws.com (gwu-workshop-verma-2019.s3.amazonaws.com)... 52.216.109.179\n",
      "Connecting to gwu-workshop-verma-2019.s3.amazonaws.com (gwu-workshop-verma-2019.s3.amazonaws.com)|52.216.109.179|:443... connected.\n",
      "HTTP request sent, awaiting response... 200 OK\n",
      "Length: 1236130 (1.2M) [text/csv]\n",
      "Saving to: ‘weather_description.csv’\n",
      "\n",
      "weather_description 100%[===================>]   1.18M  --.-KB/s    in 0.03s   \n",
      "\n",
      "2019-12-01 03:27:41 (46.5 MB/s) - ‘weather_description.csv’ saved [1236130/1236130]\n",
      "\n"
     ]
    }
   ],
   "source": [
    "!wget https://gwu-workshop-verma-2019.s3.amazonaws.com/weather_description.csv\n",
    "#weather data file just to help us in the analysis"
   ]
  },
  {
   "cell_type": "code",
   "execution_count": 99,
   "metadata": {},
   "outputs": [],
   "source": [
    "## lets examine data, moving it first to more friendly file name\n",
    "!mv Traffic_Crashes.csv chicago.csv"
   ]
  },
  {
   "cell_type": "code",
   "execution_count": 100,
   "metadata": {},
   "outputs": [
    {
     "name": "stdout",
     "output_type": "stream",
     "text": [
      "363062 chicago.csv\n"
     ]
    }
   ],
   "source": [
    "## check the number of lines in the file\n",
    "!wc -l chicago.csv"
   ]
  },
  {
   "cell_type": "code",
   "execution_count": 101,
   "metadata": {},
   "outputs": [
    {
     "name": "stdout",
     "output_type": "stream",
     "text": [
      "  1: RD_NO\n",
      "  2: CRASH_DATE\n",
      "  3: POSTED_SPEED_LIMIT\n",
      "  4: TRAFFIC_CONTROL_DEVICE\n",
      "  5: DEVICE_CONDITION\n",
      "  6: WEATHER_CONDITION\n",
      "  7: LIGHTING_CONDITION\n",
      "  8: ROADWAY_SURFACE_COND\n",
      "  9: ROAD_DEFECT\n",
      " 10: CRASH_TYPE\n",
      " 11: INTERSECTION_RELATED_I\n",
      " 12: HIT_AND_RUN_I\n",
      " 13: DAMAGE\n",
      " 14: DATE_POLICE_NOTIFIED\n",
      " 15: PRIM_CONTRIBUTORY_CAUSE\n",
      " 16: SEC_CONTRIBUTORY_CAUSE\n",
      " 17: STREET_NO\n",
      " 18: STREET_DIRECTION\n",
      " 19: STREET_NAME\n",
      " 20: BEAT_OF_OCCURRENCE\n",
      " 21: NUM_UNITS\n",
      " 22: INJURIES_TOTAL\n",
      " 23: INJURIES_FATAL\n",
      " 24: CRASH_HOUR\n",
      " 25: CRASH_DAY_OF_WEEK\n",
      " 26: CRASH_MONTH\n"
     ]
    }
   ],
   "source": [
    "## use csvcut to find the heading (attribute labels) of the file\n",
    "!csvcut -n chicago.csv"
   ]
  },
  {
   "cell_type": "code",
   "execution_count": 102,
   "metadata": {},
   "outputs": [
    {
     "name": "stdout",
     "output_type": "stream",
     "text": [
      "\"RD_NO\",\"CRASH_DATE\",\"POSTED_SPEED_LIMIT\",\"TRAFFIC_CONTROL_DEVICE\",\"DEVICE_CONDITION\",\"WEATHER_CONDITION\",\"LIGHTING_CONDITION\",\"ROADWAY_SURFACE_COND\",\"ROAD_DEFECT\",\"CRASH_TYPE\",\"INTERSECTION_RELATED_I\",\"HIT_AND_RUN_I\",\"DAMAGE\",\"DATE_POLICE_NOTIFIED\",\"PRIM_CONTRIBUTORY_CAUSE\",\"SEC_CONTRIBUTORY_CAUSE\",\"STREET_NO\",\"STREET_DIRECTION\",\"STREET_NAME\",\"BEAT_OF_OCCURRENCE\",\"NUM_UNITS\",\"INJURIES_TOTAL\",\"INJURIES_FATAL\",\"CRASH_HOUR\",\"CRASH_DAY_OF_WEEK\",\"CRASH_MONTH\"\n",
      "\"JC334993\",\"7/4/19 22:33\",\"45\",\"NO CONTROLS\",\"NO CONTROLS\",\"CLEAR\",\"\"\"DARKNESS, LIGHTED ROAD\"\"\",\"DRY\",\"NO DEFECTS\",\"NO INJURY / DRIVE AWAY\",\"\",\"\",\"1500\",\"7/4/19 23:05\",\"FOLLOWING TOO CLOSELY\",\"NOT APPLICABLE\",\"300\",\"N\",\"LAKE SHORE DR SB\",\"114\",\"\",\"\",\"\",\"22\",\"5\",\"7\"\n",
      "\"JC370822\",\"7/30/19 10:22\",\"30\",\"NO CONTROLS\",\"NO CONTROLS\",\"CLEAR\",\"DAYLIGHT\",\"DRY\",\"NO DEFECTS\",\"NO INJURY / DRIVE AWAY\",\"\",\"\",\"1500\",\"7/30/19 10:25\",\"FAILING TO YIELD RIGHT-OF-WAY\",\"IMPROPER TURNING/NO SIGNAL\",\"8201\",\"S\",\"DR MARTIN LUTHER KING JR DR\",\"631\",\"\",\"\",\"\",\"10\",\"3\",\"7\"\n",
      "\"JC387098\",\"8/10/19 17:00\",\"25\",\"NO CONTROLS\",\"NO CONTROLS\",\"CLEAR\",\"DAYLIGHT\",\"DRY\",\"NO DEFECTS\",\"NO INJURY / DRIVE AWAY\",\"\",\"\",\"1000\",\"8/10/19 17:35\",\"EQUIPMENT - VEHICLE CONDITION\",\"NOT APPLICABLE\",\"6747\",\"S\",\"CREGIER AVE\",\"332\",\"1\",\"\",\"\",\"17\",\"7\",\"8\"\n",
      "\"JC395195\",\"8/16/19 16:53\",\"30\",\"NO CONTROLS\",\"NO CONTROLS\",\"CLEAR\",\"DAYLIGHT\",\"DRY\",\"NO DEFECTS\",\"NO INJURY / DRIVE AWAY\",\"\",\"Y\",\"1000\",\"8/16/19 16:53\",\"UNABLE TO DETERMINE\",\"NOT APPLICABLE\",\"554\",\"N\",\"FRANKLIN ST\",\"1831\",\"1\",\"0\",\"0\",\"16\",\"6\",\"8\"\n"
     ]
    }
   ],
   "source": [
    "## let's first have a feeling for the data values in the 4 fields\n",
    "!head -n 5 chicago.csv"
   ]
  },
  {
   "cell_type": "code",
   "execution_count": 107,
   "metadata": {},
   "outputs": [
    {
     "name": "stdout",
     "output_type": "stream",
     "text": [
      "  1. \"RD_NO\"\n",
      "\n",
      "\tType of data:          Text\n",
      "\tContains null values:  False\n",
      "\tUnique values:         499\n",
      "\tLongest value:         8 characters\n",
      "\tMost common values:    JC334993 (1x)\n",
      "\t                       JC370822 (1x)\n",
      "\t                       JC387098 (1x)\n",
      "\t                       JC395195 (1x)\n",
      "\t                       JC396604 (1x)\n",
      "\n",
      "  2. \"CRASH_DATE\"\n",
      "\n",
      "\tType of data:          DateTime\n",
      "\tContains null values:  False\n",
      "\tUnique values:         421\n",
      "\tSmallest value:        2015-08-26 11:00:00\n",
      "\tLargest value:         2019-09-02 03:30:00\n",
      "\tMost common values:    2019-08-31 12:00:00 (5x)\n",
      "\t                       2019-08-30 18:30:00 (4x)\n",
      "\t                       2019-09-01 01:00:00 (4x)\n",
      "\t                       2019-08-30 16:45:00 (4x)\n",
      "\t                       2019-09-01 00:40:00 (3x)\n",
      "\n",
      "  3. \"POSTED_SPEED_LIMIT\"\n",
      "\n",
      "\tType of data:          Number\n",
      "\tContains null values:  False\n",
      "\tUnique values:         11\n",
      "\tSmallest value:        0\n",
      "\tLargest value:         55\n",
      "\tSum:                   14,195\n",
      "\tMean:                  28.447\n",
      "\tMedian:                30\n",
      "\tStDev:                 6.702\n",
      "\tMost common values:    30 (346x)\n",
      "\t                       35 (50x)\n",
      "\t                       25 (29x)\n",
      "\t                       10 (19x)\n",
      "\t                       20 (18x)\n",
      "\n",
      "  4. \"TRAFFIC_CONTROL_DEVICE\"\n",
      "\n",
      "\tType of data:          Text\n",
      "\tContains null values:  False\n",
      "\tUnique values:         7\n",
      "\tLongest value:         17 characters\n",
      "\tMost common values:    NO CONTROLS (296x)\n",
      "\t                       TRAFFIC SIGNAL (133x)\n",
      "\t                       STOP SIGN/FLASHER (52x)\n",
      "\t                       UNKNOWN (15x)\n",
      "\t                       YIELD (1x)\n",
      "\n",
      "  5. \"DEVICE_CONDITION\"\n",
      "\n",
      "\tType of data:          Text\n",
      "\tContains null values:  False\n",
      "\tUnique values:         5\n",
      "\tLongest value:         22 characters\n",
      "\tMost common values:    NO CONTROLS (300x)\n",
      "\t                       FUNCTIONING PROPERLY (166x)\n",
      "\t                       UNKNOWN (28x)\n",
      "\t                       FUNCTIONING IMPROPERLY (3x)\n",
      "\t                       NOT FUNCTIONING (2x)\n",
      "\n",
      "  6. \"WEATHER_CONDITION\"\n",
      "\n",
      "\tType of data:          Text\n",
      "\tContains null values:  False\n",
      "\tUnique values:         5\n",
      "\tLongest value:         21 characters\n",
      "\tMost common values:    CLEAR (369x)\n",
      "\t                       RAIN (95x)\n",
      "\t                       UNKNOWN (19x)\n",
      "\t                       CLOUDY/OVERCAST (15x)\n",
      "\t                       FREEZING RAIN/DRIZZLE (1x)\n",
      "\n",
      "  7. \"LIGHTING_CONDITION\"\n",
      "\n",
      "\tType of data:          Text\n",
      "\tContains null values:  False\n",
      "\tUnique values:         6\n",
      "\tLongest value:         24 characters\n",
      "\tMost common values:    DAYLIGHT (293x)\n",
      "\t                       \"DARKNESS, LIGHTED ROAD\" (145x)\n",
      "\t                       DARKNESS (26x)\n",
      "\t                       DUSK (17x)\n",
      "\t                       UNKNOWN (13x)\n",
      "\n",
      "  8. \"ROADWAY_SURFACE_COND\"\n",
      "\n",
      "\tType of data:          Text\n",
      "\tContains null values:  False\n",
      "\tUnique values:         3\n",
      "\tLongest value:         7 characters\n",
      "\tMost common values:    DRY (363x)\n",
      "\t                       WET (109x)\n",
      "\t                       UNKNOWN (27x)\n",
      "\n",
      "  9. \"ROAD_DEFECT\"\n",
      "\n",
      "\tType of data:          Text\n",
      "\tContains null values:  False\n",
      "\tUnique values:         4\n",
      "\tLongest value:         12 characters\n",
      "\tMost common values:    NO DEFECTS (408x)\n",
      "\t                       UNKNOWN (81x)\n",
      "\t                       \"RUT, HOLES\" (6x)\n",
      "\t                       WORN SURFACE (4x)\n",
      "\n",
      " 10. \"CRASH_TYPE\"\n",
      "\n",
      "\tType of data:          Text\n",
      "\tContains null values:  False\n",
      "\tUnique values:         2\n",
      "\tLongest value:         32 characters\n",
      "\tMost common values:    NO INJURY / DRIVE AWAY (344x)\n",
      "\t                       INJURY AND / OR TOW DUE TO CRASH (155x)\n",
      "\n",
      " 11. \"INTERSECTION_RELATED_I\"\n",
      "\n",
      "\tType of data:          Boolean\n",
      "\tContains null values:  True (excluded from calculations)\n",
      "\tUnique values:         3\n",
      "\tMost common values:    None (396x)\n",
      "\t                       True (97x)\n",
      "\t                       False (6x)\n",
      "\n",
      " 12. \"HIT_AND_RUN_I\"\n",
      "\n",
      "\tType of data:          Boolean\n",
      "\tContains null values:  True (excluded from calculations)\n",
      "\tUnique values:         3\n",
      "\tMost common values:    None (355x)\n",
      "\t                       True (138x)\n",
      "\t                       False (6x)\n",
      "\n",
      " 13. \"DAMAGE\"\n",
      "\n",
      "\tType of data:          Number\n",
      "\tContains null values:  False\n",
      "\tUnique values:         3\n",
      "\tSmallest value:        500\n",
      "\tLargest value:         1,500\n",
      "\tSum:                   612,000\n",
      "\tMean:                  1,226.453\n",
      "\tMedian:                1,500\n",
      "\tStDev:                 361.03\n",
      "\tMost common values:    1,500 (294x)\n",
      "\t                       1,000 (137x)\n",
      "\t                       500 (68x)\n",
      "\n",
      " 14. \"DATE_POLICE_NOTIFIED\"\n",
      "\n",
      "\tType of data:          DateTime\n",
      "\tContains null values:  False\n",
      "\tUnique values:         444\n",
      "\tSmallest value:        2015-08-26 11:19:00\n",
      "\tLargest value:         2019-09-02 04:00:00\n",
      "\tMost common values:    2019-08-31 11:00:00 (4x)\n",
      "\t                       2019-08-31 14:00:00 (4x)\n",
      "\t                       2019-08-31 22:50:00 (3x)\n",
      "\t                       2019-08-31 15:00:00 (3x)\n",
      "\t                       2019-09-01 01:00:00 (3x)\n",
      "\n",
      " 15. \"PRIM_CONTRIBUTORY_CAUSE\"\n",
      "\n",
      "\tType of data:          Text\n",
      "\tContains null values:  False\n",
      "\tUnique values:         28\n",
      "\tLongest value:         82 characters\n",
      "\tMost common values:    UNABLE TO DETERMINE (182x)\n",
      "\t                       FAILING TO YIELD RIGHT-OF-WAY (48x)\n",
      "\t                       FOLLOWING TOO CLOSELY (46x)\n",
      "\t                       FAILING TO REDUCE SPEED TO AVOID CRASH (37x)\n",
      "\t                       NOT APPLICABLE (27x)\n",
      "\n",
      " 16. \"SEC_CONTRIBUTORY_CAUSE\"\n",
      "\n",
      "\tType of data:          Text\n",
      "\tContains null values:  False\n",
      "\tUnique values:         25\n",
      "\tLongest value:         82 characters\n",
      "\tMost common values:    NOT APPLICABLE (226x)\n",
      "\t                       UNABLE TO DETERMINE (157x)\n",
      "\t                       FAILING TO REDUCE SPEED TO AVOID CRASH (20x)\n",
      "\t                       FAILING TO YIELD RIGHT-OF-WAY (17x)\n",
      "\t                       DRIVING SKILLS/KNOWLEDGE/EXPERIENCE (15x)\n",
      "\n",
      " 17. \"STREET_NO\"\n",
      "\n",
      "\tType of data:          Number\n",
      "\tContains null values:  False\n",
      "\tUnique values:         429\n",
      "\tSmallest value:        1\n",
      "\tLargest value:         13,500\n",
      "\tSum:                   1,864,680\n",
      "\tMean:                  3,736.834\n",
      "\tMedian:                3,111\n",
      "\tStDev:                 2,944.77\n",
      "\tMost common values:    2,400 (8x)\n",
      "\t                       1,200 (5x)\n",
      "\t                       300 (4x)\n",
      "\t                       2,100 (4x)\n",
      "\t                       3,700 (3x)\n",
      "\n",
      " 18. \"STREET_DIRECTION\"\n",
      "\n",
      "\tType of data:          Text\n",
      "\tContains null values:  False\n",
      "\tUnique values:         4\n",
      "\tLongest value:         1 characters\n",
      "\tMost common values:    W (193x)\n",
      "\t                       S (152x)\n",
      "\t                       N (118x)\n",
      "\t                       E (36x)\n",
      "\n",
      " 19. \"STREET_NAME\"\n",
      "\n",
      "\tType of data:          Text\n",
      "\tContains null values:  False\n",
      "\tUnique values:         231\n",
      "\tLongest value:         27 characters\n",
      "\tMost common values:    CICERO AVE (13x)\n",
      "\t                       WESTERN AVE (10x)\n",
      "\t                       PULASKI RD (10x)\n",
      "\t                       HALSTED ST (9x)\n",
      "\t                       FULLERTON AVE (9x)\n",
      "\n",
      " 20. \"BEAT_OF_OCCURRENCE\"\n",
      "\n",
      "\tType of data:          Number\n",
      "\tContains null values:  False\n",
      "\tUnique values:         204\n",
      "\tSmallest value:        111\n",
      "\tLargest value:         2,535\n",
      "\tSum:                   638,277\n",
      "\tMean:                  1,279.112\n",
      "\tMedian:                1,214\n",
      "\tStDev:                 665.154\n",
      "\tMost common values:    815 (11x)\n",
      "\t                       1,831 (10x)\n",
      "\t                       1,935 (8x)\n",
      "\t                       1,833 (8x)\n",
      "\t                       531 (7x)\n",
      "\n",
      " 21. \"NUM_UNITS\"\n",
      "\n",
      "\tType of data:          Number\n",
      "\tContains null values:  True (excluded from calculations)\n",
      "\tUnique values:         9\n",
      "\tSmallest value:        1\n",
      "\tLargest value:         10\n",
      "\tSum:                   1,013\n",
      "\tMean:                  2.059\n",
      "\tMedian:                2\n",
      "\tStDev:                 0.721\n",
      "\tMost common values:    2 (411x)\n",
      "\t                       1 (42x)\n",
      "\t                       3 (24x)\n",
      "\t                       4 (8x)\n",
      "\t                       None (7x)\n",
      "\n",
      " 22. \"INJURIES_TOTAL\"\n",
      "\n",
      "\tType of data:          Number\n",
      "\tContains null values:  True (excluded from calculations)\n",
      "\tUnique values:         6\n",
      "\tSmallest value:        0\n",
      "\tLargest value:         5\n",
      "\tSum:                   111\n",
      "\tMean:                  0.227\n",
      "\tMedian:                0\n",
      "\tStDev:                 0.64\n",
      "\tMost common values:    0 (413x)\n",
      "\t                       1 (54x)\n",
      "\t                       2 (15x)\n",
      "\t                       None (10x)\n",
      "\t                       3 (4x)\n",
      "\n",
      " 23. \"INJURIES_FATAL\"\n",
      "\n",
      "\tType of data:          Boolean\n",
      "\tContains null values:  True (excluded from calculations)\n",
      "\tUnique values:         3\n",
      "\tMost common values:    False (487x)\n",
      "\t                       None (10x)\n",
      "\t                       True (2x)\n",
      "\n",
      " 24. \"CRASH_HOUR\"\n",
      "\n",
      "\tType of data:          Number\n",
      "\tContains null values:  False\n",
      "\tUnique values:         24\n",
      "\tSmallest value:        0\n",
      "\tLargest value:         23\n",
      "\tSum:                   6,069\n",
      "\tMean:                  12.162\n",
      "\tMedian:                13\n",
      "\tStDev:                 6.663\n",
      "\tMost common values:    12 (37x)\n",
      "\t                       10 (36x)\n",
      "\t                       18 (34x)\n",
      "\t                       17 (29x)\n",
      "\t                       21 (29x)\n",
      "\n",
      " 25. \"CRASH_DAY_OF_WEEK\"\n",
      "\n",
      "\tType of data:          Number\n",
      "\tContains null values:  False\n",
      "\tUnique values:         7\n",
      "\tSmallest value:        1\n",
      "\tLargest value:         7\n",
      "\tSum:                   2,300\n",
      "\tMean:                  4.609\n",
      "\tMedian:                6\n",
      "\tStDev:                 2.556\n",
      "\tMost common values:    7 (189x)\n",
      "\t                       1 (143x)\n",
      "\t                       6 (88x)\n",
      "\t                       5 (29x)\n",
      "\t                       4 (26x)\n",
      "\n",
      " 26. \"CRASH_MONTH\"\n",
      "\n",
      "\tType of data:          Number\n",
      "\tContains null values:  False\n",
      "\tUnique values:         3\n",
      "\tSmallest value:        7\n",
      "\tLargest value:         9\n",
      "\tSum:                   4,131\n",
      "\tMean:                  8.279\n",
      "\tMedian:                8\n",
      "\tStDev:                 0.475\n",
      "\tMost common values:    8 (348x)\n",
      "\t                       9 (145x)\n",
      "\t                       7 (6x)\n",
      "\n",
      "Row count: 499\n"
     ]
    }
   ],
   "source": [
    "## we won't be sure of our above conclusions on the data unless we examine a good sample of it. Let's do that for first 1% of the records\n",
    "!head -n 500 chicago.csv | csvstat"
   ]
  },
  {
   "cell_type": "markdown",
   "metadata": {},
   "source": [
    "### 2.Build the Dimensional Model"
   ]
  },
  {
   "cell_type": "code",
   "execution_count": 108,
   "metadata": {},
   "outputs": [],
   "source": [
    "from IPython.display import Image"
   ]
  },
  {
   "cell_type": "code",
   "execution_count": 109,
   "metadata": {},
   "outputs": [
    {
     "data": {
      "text/html": [
       "<img src=\"https://gwu-workshop-verma-2019.s3.amazonaws.com/Screen+Shot+2019-11-30+at+2.05.55+PM.png\"/>"
      ],
      "text/plain": [
       "<IPython.core.display.Image object>"
      ]
     },
     "execution_count": 109,
     "metadata": {},
     "output_type": "execute_result"
    }
   ],
   "source": [
    "Image(url=\"https://gwu-workshop-verma-2019.s3.amazonaws.com/Screen+Shot+2019-11-30+at+2.05.55+PM.png\")"
   ]
  },
  {
   "cell_type": "code",
   "execution_count": 110,
   "metadata": {},
   "outputs": [
    {
     "name": "stdout",
     "output_type": "stream",
     "text": [
      " * postgresql://student@/GROUP15\n",
      "   postgresql://student@/dk\n",
      "Done.\n",
      "Done.\n"
     ]
    },
    {
     "data": {
      "text/plain": [
       "[]"
      ]
     },
     "execution_count": 110,
     "metadata": {},
     "output_type": "execute_result"
    }
   ],
   "source": [
    "## create the initial table and load data into it\n",
    "\n",
    "%%sql\n",
    "DROP TABLE IF EXISTS accidents ;\n",
    "\n",
    "create table accidents(\n",
    "    RD_NO VARCHAR(10),\n",
    "    CRASH_DATE timestamp,\n",
    "    POSTED_SPEED_LIMIT numeric,\n",
    "    TRAFFIC_CONTROL_DEVICE varchar(200),\n",
    "    DEVICE_CONDITION varchar(200),\n",
    "    WEATHER_CONDITION varchar(200),\n",
    "    LIGHTING_CONDITION varchar(200),\n",
    "    ROADWAY_SURFACE_COND varchar(200),\n",
    "    ROAD_DEFECT varchar(200),\n",
    "    CRASH_TYPE varchar(200),\n",
    "    INTERSECTION_RELATED_I varchar(200),\n",
    "    HIT_AND_RUN_I varchar(200),\n",
    "    DAMAGE numeric,\n",
    "    DATE_POLICE_NOTIFIED timestamp,\n",
    "    PRIM_CONTRIBUTORY_CAUSE varchar(200),\n",
    "    SEC_CONTRIBUTORY_CAUSE varchar(200),\n",
    "    STREET_NO varchar(200),\n",
    "    STREET_DIRECTION varchar(200),\n",
    "    STREET_NAME varchar(200),\n",
    "    BEAT_OF_OCCURRENCE varchar(200),\n",
    "    NUM_UNITS varchar(200),\n",
    "    INJURIES_TOTAL varchar(200),\n",
    "    INJURIES_FATAL varchar(200),\n",
    "    CRASH_HOUR varchar(200),\n",
    "    CRASH_DAY_OF_WEEK varchar(200),\n",
    "    CRASH_MONTH numeric\n",
    ")"
   ]
  },
  {
   "cell_type": "code",
   "execution_count": 111,
   "metadata": {},
   "outputs": [
    {
     "name": "stdout",
     "output_type": "stream",
     "text": [
      "/home/ubuntu/SQL/Week12\n"
     ]
    }
   ],
   "source": [
    "!pwd"
   ]
  },
  {
   "cell_type": "code",
   "execution_count": 112,
   "metadata": {},
   "outputs": [
    {
     "name": "stdout",
     "output_type": "stream",
     "text": [
      " * postgresql://student@/GROUP15\n",
      "   postgresql://student@/dk\n",
      "363061 rows affected.\n"
     ]
    },
    {
     "data": {
      "text/plain": [
       "[]"
      ]
     },
     "execution_count": 112,
     "metadata": {},
     "output_type": "execute_result"
    }
   ],
   "source": [
    "%%sql\n",
    "COPY accidents FROM '/home/ubuntu/SQL/Week12/chicago.csv'\n",
    "CSV\n",
    "HEADER\n",
    ";"
   ]
  },
  {
   "cell_type": "code",
   "execution_count": 113,
   "metadata": {},
   "outputs": [
    {
     "name": "stdout",
     "output_type": "stream",
     "text": [
      " * postgresql://student@/GROUP15\n",
      "   postgresql://student@/dk\n",
      "1 rows affected.\n"
     ]
    },
    {
     "data": {
      "text/html": [
       "<table>\n",
       "    <tr>\n",
       "        <th>count</th>\n",
       "    </tr>\n",
       "    <tr>\n",
       "        <td>363061</td>\n",
       "    </tr>\n",
       "</table>"
      ],
      "text/plain": [
       "[(363061,)]"
      ]
     },
     "execution_count": 113,
     "metadata": {},
     "output_type": "execute_result"
    }
   ],
   "source": [
    "##check if the row count matches\n",
    "%%sql\n",
    "SELECT COUNT(*) FROM accidents;"
   ]
  },
  {
   "cell_type": "code",
   "execution_count": 114,
   "metadata": {},
   "outputs": [
    {
     "name": "stdout",
     "output_type": "stream",
     "text": [
      "363062 chicago.csv\n"
     ]
    }
   ],
   "source": [
    "!wc -l chicago.csv"
   ]
  },
  {
   "cell_type": "code",
   "execution_count": 115,
   "metadata": {},
   "outputs": [
    {
     "name": "stdout",
     "output_type": "stream",
     "text": [
      " * postgresql://student@/GROUP15\n",
      "   postgresql://student@/dk\n",
      "10 rows affected.\n"
     ]
    },
    {
     "data": {
      "text/html": [
       "<table>\n",
       "    <tr>\n",
       "        <th>rd_no</th>\n",
       "        <th>crash_date</th>\n",
       "        <th>posted_speed_limit</th>\n",
       "        <th>traffic_control_device</th>\n",
       "        <th>device_condition</th>\n",
       "        <th>weather_condition</th>\n",
       "        <th>lighting_condition</th>\n",
       "        <th>roadway_surface_cond</th>\n",
       "        <th>road_defect</th>\n",
       "        <th>crash_type</th>\n",
       "        <th>intersection_related_i</th>\n",
       "        <th>hit_and_run_i</th>\n",
       "        <th>damage</th>\n",
       "        <th>date_police_notified</th>\n",
       "        <th>prim_contributory_cause</th>\n",
       "        <th>sec_contributory_cause</th>\n",
       "        <th>street_no</th>\n",
       "        <th>street_direction</th>\n",
       "        <th>street_name</th>\n",
       "        <th>beat_of_occurrence</th>\n",
       "        <th>num_units</th>\n",
       "        <th>injuries_total</th>\n",
       "        <th>injuries_fatal</th>\n",
       "        <th>crash_hour</th>\n",
       "        <th>crash_day_of_week</th>\n",
       "        <th>crash_month</th>\n",
       "    </tr>\n",
       "    <tr>\n",
       "        <td>JC334993</td>\n",
       "        <td>2019-07-04 22:33:00</td>\n",
       "        <td>45</td>\n",
       "        <td>NO CONTROLS</td>\n",
       "        <td>NO CONTROLS</td>\n",
       "        <td>CLEAR</td>\n",
       "        <td>&quot;DARKNESS, LIGHTED ROAD&quot;</td>\n",
       "        <td>DRY</td>\n",
       "        <td>NO DEFECTS</td>\n",
       "        <td>NO INJURY / DRIVE AWAY</td>\n",
       "        <td></td>\n",
       "        <td></td>\n",
       "        <td>1500</td>\n",
       "        <td>2019-07-04 23:05:00</td>\n",
       "        <td>FOLLOWING TOO CLOSELY</td>\n",
       "        <td>NOT APPLICABLE</td>\n",
       "        <td>300</td>\n",
       "        <td>N</td>\n",
       "        <td>LAKE SHORE DR SB</td>\n",
       "        <td>114</td>\n",
       "        <td></td>\n",
       "        <td></td>\n",
       "        <td></td>\n",
       "        <td>22</td>\n",
       "        <td>5</td>\n",
       "        <td>7</td>\n",
       "    </tr>\n",
       "    <tr>\n",
       "        <td>JC370822</td>\n",
       "        <td>2019-07-30 10:22:00</td>\n",
       "        <td>30</td>\n",
       "        <td>NO CONTROLS</td>\n",
       "        <td>NO CONTROLS</td>\n",
       "        <td>CLEAR</td>\n",
       "        <td>DAYLIGHT</td>\n",
       "        <td>DRY</td>\n",
       "        <td>NO DEFECTS</td>\n",
       "        <td>NO INJURY / DRIVE AWAY</td>\n",
       "        <td></td>\n",
       "        <td></td>\n",
       "        <td>1500</td>\n",
       "        <td>2019-07-30 10:25:00</td>\n",
       "        <td>FAILING TO YIELD RIGHT-OF-WAY</td>\n",
       "        <td>IMPROPER TURNING/NO SIGNAL</td>\n",
       "        <td>8201</td>\n",
       "        <td>S</td>\n",
       "        <td>DR MARTIN LUTHER KING JR DR</td>\n",
       "        <td>631</td>\n",
       "        <td></td>\n",
       "        <td></td>\n",
       "        <td></td>\n",
       "        <td>10</td>\n",
       "        <td>3</td>\n",
       "        <td>7</td>\n",
       "    </tr>\n",
       "    <tr>\n",
       "        <td>JC387098</td>\n",
       "        <td>2019-08-10 17:00:00</td>\n",
       "        <td>25</td>\n",
       "        <td>NO CONTROLS</td>\n",
       "        <td>NO CONTROLS</td>\n",
       "        <td>CLEAR</td>\n",
       "        <td>DAYLIGHT</td>\n",
       "        <td>DRY</td>\n",
       "        <td>NO DEFECTS</td>\n",
       "        <td>NO INJURY / DRIVE AWAY</td>\n",
       "        <td></td>\n",
       "        <td></td>\n",
       "        <td>1000</td>\n",
       "        <td>2019-08-10 17:35:00</td>\n",
       "        <td>EQUIPMENT - VEHICLE CONDITION</td>\n",
       "        <td>NOT APPLICABLE</td>\n",
       "        <td>6747</td>\n",
       "        <td>S</td>\n",
       "        <td>CREGIER AVE</td>\n",
       "        <td>332</td>\n",
       "        <td>1</td>\n",
       "        <td></td>\n",
       "        <td></td>\n",
       "        <td>17</td>\n",
       "        <td>7</td>\n",
       "        <td>8</td>\n",
       "    </tr>\n",
       "    <tr>\n",
       "        <td>JC395195</td>\n",
       "        <td>2019-08-16 16:53:00</td>\n",
       "        <td>30</td>\n",
       "        <td>NO CONTROLS</td>\n",
       "        <td>NO CONTROLS</td>\n",
       "        <td>CLEAR</td>\n",
       "        <td>DAYLIGHT</td>\n",
       "        <td>DRY</td>\n",
       "        <td>NO DEFECTS</td>\n",
       "        <td>NO INJURY / DRIVE AWAY</td>\n",
       "        <td></td>\n",
       "        <td>Y</td>\n",
       "        <td>1000</td>\n",
       "        <td>2019-08-16 16:53:00</td>\n",
       "        <td>UNABLE TO DETERMINE</td>\n",
       "        <td>NOT APPLICABLE</td>\n",
       "        <td>554</td>\n",
       "        <td>N</td>\n",
       "        <td>FRANKLIN ST</td>\n",
       "        <td>1831</td>\n",
       "        <td>1</td>\n",
       "        <td>0</td>\n",
       "        <td>0</td>\n",
       "        <td>16</td>\n",
       "        <td>6</td>\n",
       "        <td>8</td>\n",
       "    </tr>\n",
       "    <tr>\n",
       "        <td>JC396604</td>\n",
       "        <td>2019-08-17 16:04:00</td>\n",
       "        <td>30</td>\n",
       "        <td>NO CONTROLS</td>\n",
       "        <td>NO CONTROLS</td>\n",
       "        <td>CLEAR</td>\n",
       "        <td>DAYLIGHT</td>\n",
       "        <td>DRY</td>\n",
       "        <td>NO DEFECTS</td>\n",
       "        <td>NO INJURY / DRIVE AWAY</td>\n",
       "        <td></td>\n",
       "        <td>Y</td>\n",
       "        <td>1000</td>\n",
       "        <td>2019-08-17 18:30:00</td>\n",
       "        <td>UNABLE TO DETERMINE</td>\n",
       "        <td>UNABLE TO DETERMINE</td>\n",
       "        <td>3700</td>\n",
       "        <td>N</td>\n",
       "        <td>WESTERN AVE</td>\n",
       "        <td>1921</td>\n",
       "        <td>1</td>\n",
       "        <td>0</td>\n",
       "        <td>0</td>\n",
       "        <td>16</td>\n",
       "        <td>7</td>\n",
       "        <td>8</td>\n",
       "    </tr>\n",
       "    <tr>\n",
       "        <td>JC411237</td>\n",
       "        <td>2019-08-28 19:20:00</td>\n",
       "        <td>30</td>\n",
       "        <td>STOP SIGN/FLASHER</td>\n",
       "        <td>FUNCTIONING PROPERLY</td>\n",
       "        <td>CLEAR</td>\n",
       "        <td>DAYLIGHT</td>\n",
       "        <td>DRY</td>\n",
       "        <td>UNKNOWN</td>\n",
       "        <td>NO INJURY / DRIVE AWAY</td>\n",
       "        <td>Y</td>\n",
       "        <td></td>\n",
       "        <td>1500</td>\n",
       "        <td>2019-08-28 19:59:00</td>\n",
       "        <td>UNABLE TO DETERMINE</td>\n",
       "        <td>UNABLE TO DETERMINE</td>\n",
       "        <td>3716</td>\n",
       "        <td>S</td>\n",
       "        <td>ARCHER AVE</td>\n",
       "        <td>911</td>\n",
       "        <td>2</td>\n",
       "        <td>0</td>\n",
       "        <td>0</td>\n",
       "        <td>19</td>\n",
       "        <td>4</td>\n",
       "        <td>8</td>\n",
       "    </tr>\n",
       "    <tr>\n",
       "        <td>JC413474</td>\n",
       "        <td>2019-08-30 14:20:00</td>\n",
       "        <td>30</td>\n",
       "        <td>TRAFFIC SIGNAL</td>\n",
       "        <td>FUNCTIONING PROPERLY</td>\n",
       "        <td>CLEAR</td>\n",
       "        <td>DAYLIGHT</td>\n",
       "        <td>DRY</td>\n",
       "        <td>NO DEFECTS</td>\n",
       "        <td>NO INJURY / DRIVE AWAY</td>\n",
       "        <td>Y</td>\n",
       "        <td></td>\n",
       "        <td>1500</td>\n",
       "        <td>2019-08-30 14:25:00</td>\n",
       "        <td>FAILING TO REDUCE SPEED TO AVOID CRASH</td>\n",
       "        <td>UNABLE TO DETERMINE</td>\n",
       "        <td>5335</td>\n",
       "        <td>S</td>\n",
       "        <td>WESTERN AVE</td>\n",
       "        <td>923</td>\n",
       "        <td>2</td>\n",
       "        <td>0</td>\n",
       "        <td>0</td>\n",
       "        <td>14</td>\n",
       "        <td>6</td>\n",
       "        <td>8</td>\n",
       "    </tr>\n",
       "    <tr>\n",
       "        <td>JC414382</td>\n",
       "        <td>2019-08-31 04:35:00</td>\n",
       "        <td>30</td>\n",
       "        <td>NO CONTROLS</td>\n",
       "        <td>NO CONTROLS</td>\n",
       "        <td>CLEAR</td>\n",
       "        <td>&quot;DARKNESS, LIGHTED ROAD&quot;</td>\n",
       "        <td>DRY</td>\n",
       "        <td>NO DEFECTS</td>\n",
       "        <td>INJURY AND / OR TOW DUE TO CRASH</td>\n",
       "        <td></td>\n",
       "        <td></td>\n",
       "        <td>1500</td>\n",
       "        <td>2019-08-31 04:35:00</td>\n",
       "        <td>PHYSICAL CONDITION OF DRIVER</td>\n",
       "        <td>NOT APPLICABLE</td>\n",
       "        <td>1501</td>\n",
       "        <td>N</td>\n",
       "        <td>HUMBOLDT DR</td>\n",
       "        <td>1423</td>\n",
       "        <td>1</td>\n",
       "        <td>1</td>\n",
       "        <td>0</td>\n",
       "        <td>4</td>\n",
       "        <td>7</td>\n",
       "        <td>8</td>\n",
       "    </tr>\n",
       "    <tr>\n",
       "        <td>JC413930</td>\n",
       "        <td>2019-08-30 18:30:00</td>\n",
       "        <td>30</td>\n",
       "        <td>TRAFFIC SIGNAL</td>\n",
       "        <td>FUNCTIONING PROPERLY</td>\n",
       "        <td>CLEAR</td>\n",
       "        <td>DAYLIGHT</td>\n",
       "        <td>UNKNOWN</td>\n",
       "        <td>UNKNOWN</td>\n",
       "        <td>NO INJURY / DRIVE AWAY</td>\n",
       "        <td></td>\n",
       "        <td></td>\n",
       "        <td>1000</td>\n",
       "        <td>2019-08-30 19:57:00</td>\n",
       "        <td>FOLLOWING TOO CLOSELY</td>\n",
       "        <td>FOLLOWING TOO CLOSELY</td>\n",
       "        <td>5900</td>\n",
       "        <td>N</td>\n",
       "        <td>SHERIDAN RD</td>\n",
       "        <td>2022</td>\n",
       "        <td>2</td>\n",
       "        <td>0</td>\n",
       "        <td>0</td>\n",
       "        <td>18</td>\n",
       "        <td>6</td>\n",
       "        <td>8</td>\n",
       "    </tr>\n",
       "    <tr>\n",
       "        <td>JC415166</td>\n",
       "        <td>2019-08-31 18:50:00</td>\n",
       "        <td>30</td>\n",
       "        <td>NO CONTROLS</td>\n",
       "        <td>NO CONTROLS</td>\n",
       "        <td>CLEAR</td>\n",
       "        <td>DAYLIGHT</td>\n",
       "        <td>DRY</td>\n",
       "        <td>NO DEFECTS</td>\n",
       "        <td>NO INJURY / DRIVE AWAY</td>\n",
       "        <td></td>\n",
       "        <td></td>\n",
       "        <td>1500</td>\n",
       "        <td>2019-08-31 19:02:00</td>\n",
       "        <td>DRIVING SKILLS/KNOWLEDGE/EXPERIENCE</td>\n",
       "        <td>UNABLE TO DETERMINE</td>\n",
       "        <td>5555</td>\n",
       "        <td>N</td>\n",
       "        <td>CLARK ST</td>\n",
       "        <td>2013</td>\n",
       "        <td>2</td>\n",
       "        <td>0</td>\n",
       "        <td>0</td>\n",
       "        <td>18</td>\n",
       "        <td>7</td>\n",
       "        <td>8</td>\n",
       "    </tr>\n",
       "</table>"
      ],
      "text/plain": [
       "[('JC334993', datetime.datetime(2019, 7, 4, 22, 33), Decimal('45'), 'NO CONTROLS', 'NO CONTROLS', 'CLEAR', '\"DARKNESS, LIGHTED ROAD\"', 'DRY', 'NO DEFECTS', 'NO INJURY / DRIVE AWAY', '', '', Decimal('1500'), datetime.datetime(2019, 7, 4, 23, 5), 'FOLLOWING TOO CLOSELY', 'NOT APPLICABLE', '300', 'N', 'LAKE SHORE DR SB', '114', '', '', '', '22', '5', Decimal('7')),\n",
       " ('JC370822', datetime.datetime(2019, 7, 30, 10, 22), Decimal('30'), 'NO CONTROLS', 'NO CONTROLS', 'CLEAR', 'DAYLIGHT', 'DRY', 'NO DEFECTS', 'NO INJURY / DRIVE AWAY', '', '', Decimal('1500'), datetime.datetime(2019, 7, 30, 10, 25), 'FAILING TO YIELD RIGHT-OF-WAY', 'IMPROPER TURNING/NO SIGNAL', '8201', 'S', 'DR MARTIN LUTHER KING JR DR', '631', '', '', '', '10', '3', Decimal('7')),\n",
       " ('JC387098', datetime.datetime(2019, 8, 10, 17, 0), Decimal('25'), 'NO CONTROLS', 'NO CONTROLS', 'CLEAR', 'DAYLIGHT', 'DRY', 'NO DEFECTS', 'NO INJURY / DRIVE AWAY', '', '', Decimal('1000'), datetime.datetime(2019, 8, 10, 17, 35), 'EQUIPMENT - VEHICLE CONDITION', 'NOT APPLICABLE', '6747', 'S', 'CREGIER AVE', '332', '1', '', '', '17', '7', Decimal('8')),\n",
       " ('JC395195', datetime.datetime(2019, 8, 16, 16, 53), Decimal('30'), 'NO CONTROLS', 'NO CONTROLS', 'CLEAR', 'DAYLIGHT', 'DRY', 'NO DEFECTS', 'NO INJURY / DRIVE AWAY', '', 'Y', Decimal('1000'), datetime.datetime(2019, 8, 16, 16, 53), 'UNABLE TO DETERMINE', 'NOT APPLICABLE', '554', 'N', 'FRANKLIN ST', '1831', '1', '0', '0', '16', '6', Decimal('8')),\n",
       " ('JC396604', datetime.datetime(2019, 8, 17, 16, 4), Decimal('30'), 'NO CONTROLS', 'NO CONTROLS', 'CLEAR', 'DAYLIGHT', 'DRY', 'NO DEFECTS', 'NO INJURY / DRIVE AWAY', '', 'Y', Decimal('1000'), datetime.datetime(2019, 8, 17, 18, 30), 'UNABLE TO DETERMINE', 'UNABLE TO DETERMINE', '3700', 'N', 'WESTERN AVE', '1921', '1', '0', '0', '16', '7', Decimal('8')),\n",
       " ('JC411237', datetime.datetime(2019, 8, 28, 19, 20), Decimal('30'), 'STOP SIGN/FLASHER', 'FUNCTIONING PROPERLY', 'CLEAR', 'DAYLIGHT', 'DRY', 'UNKNOWN', 'NO INJURY / DRIVE AWAY', 'Y', '', Decimal('1500'), datetime.datetime(2019, 8, 28, 19, 59), 'UNABLE TO DETERMINE', 'UNABLE TO DETERMINE', '3716', 'S', 'ARCHER AVE', '911', '2', '0', '0', '19', '4', Decimal('8')),\n",
       " ('JC413474', datetime.datetime(2019, 8, 30, 14, 20), Decimal('30'), 'TRAFFIC SIGNAL', 'FUNCTIONING PROPERLY', 'CLEAR', 'DAYLIGHT', 'DRY', 'NO DEFECTS', 'NO INJURY / DRIVE AWAY', 'Y', '', Decimal('1500'), datetime.datetime(2019, 8, 30, 14, 25), 'FAILING TO REDUCE SPEED TO AVOID CRASH', 'UNABLE TO DETERMINE', '5335', 'S', 'WESTERN AVE', '923', '2', '0', '0', '14', '6', Decimal('8')),\n",
       " ('JC414382', datetime.datetime(2019, 8, 31, 4, 35), Decimal('30'), 'NO CONTROLS', 'NO CONTROLS', 'CLEAR', '\"DARKNESS, LIGHTED ROAD\"', 'DRY', 'NO DEFECTS', 'INJURY AND / OR TOW DUE TO CRASH', '', '', Decimal('1500'), datetime.datetime(2019, 8, 31, 4, 35), 'PHYSICAL CONDITION OF DRIVER', 'NOT APPLICABLE', '1501', 'N', 'HUMBOLDT DR', '1423', '1', '1', '0', '4', '7', Decimal('8')),\n",
       " ('JC413930', datetime.datetime(2019, 8, 30, 18, 30), Decimal('30'), 'TRAFFIC SIGNAL', 'FUNCTIONING PROPERLY', 'CLEAR', 'DAYLIGHT', 'UNKNOWN', 'UNKNOWN', 'NO INJURY / DRIVE AWAY', '', '', Decimal('1000'), datetime.datetime(2019, 8, 30, 19, 57), 'FOLLOWING TOO CLOSELY', 'FOLLOWING TOO CLOSELY', '5900', 'N', 'SHERIDAN RD', '2022', '2', '0', '0', '18', '6', Decimal('8')),\n",
       " ('JC415166', datetime.datetime(2019, 8, 31, 18, 50), Decimal('30'), 'NO CONTROLS', 'NO CONTROLS', 'CLEAR', 'DAYLIGHT', 'DRY', 'NO DEFECTS', 'NO INJURY / DRIVE AWAY', '', '', Decimal('1500'), datetime.datetime(2019, 8, 31, 19, 2), 'DRIVING SKILLS/KNOWLEDGE/EXPERIENCE', 'UNABLE TO DETERMINE', '5555', 'N', 'CLARK ST', '2013', '2', '0', '0', '18', '7', Decimal('8'))]"
      ]
     },
     "execution_count": 115,
     "metadata": {},
     "output_type": "execute_result"
    }
   ],
   "source": [
    "##preview the initial table\n",
    "%%sql\n",
    "SELECT * FROM accidents\n",
    "LIMIT 10"
   ]
  },
  {
   "cell_type": "code",
   "execution_count": 116,
   "metadata": {},
   "outputs": [
    {
     "name": "stdout",
     "output_type": "stream",
     "text": [
      " * postgresql://student@/GROUP15\n",
      "   postgresql://student@/dk\n",
      "10 rows affected.\n"
     ]
    },
    {
     "data": {
      "text/html": [
       "<table>\n",
       "    <tr>\n",
       "        <th>weather_condition</th>\n",
       "    </tr>\n",
       "    <tr>\n",
       "        <td>BLOWING SNOW</td>\n",
       "    </tr>\n",
       "    <tr>\n",
       "        <td>CLEAR</td>\n",
       "    </tr>\n",
       "    <tr>\n",
       "        <td>CLOUDY/OVERCAST</td>\n",
       "    </tr>\n",
       "    <tr>\n",
       "        <td>FOG/SMOKE/HAZE</td>\n",
       "    </tr>\n",
       "    <tr>\n",
       "        <td>FREEZING RAIN/DRIZZLE</td>\n",
       "    </tr>\n",
       "    <tr>\n",
       "        <td>OTHER</td>\n",
       "    </tr>\n",
       "    <tr>\n",
       "        <td>RAIN</td>\n",
       "    </tr>\n",
       "    <tr>\n",
       "        <td>SEVERE CROSS WIND GATE</td>\n",
       "    </tr>\n",
       "    <tr>\n",
       "        <td>SLEET/HAIL</td>\n",
       "    </tr>\n",
       "    <tr>\n",
       "        <td>SNOW</td>\n",
       "    </tr>\n",
       "</table>"
      ],
      "text/plain": [
       "[('BLOWING SNOW',),\n",
       " ('CLEAR',),\n",
       " ('CLOUDY/OVERCAST',),\n",
       " ('FOG/SMOKE/HAZE',),\n",
       " ('FREEZING RAIN/DRIZZLE',),\n",
       " ('OTHER',),\n",
       " ('RAIN',),\n",
       " ('SEVERE CROSS WIND GATE',),\n",
       " ('SLEET/HAIL',),\n",
       " ('SNOW',)]"
      ]
     },
     "execution_count": 116,
     "metadata": {},
     "output_type": "execute_result"
    }
   ],
   "source": [
    "##build the weather dimension table\n",
    "\n",
    "%%sql\n",
    "SELECT DISTINCT weather_condition\n",
    "FROM accidents\n",
    "LIMIT 10;"
   ]
  },
  {
   "cell_type": "code",
   "execution_count": 117,
   "metadata": {},
   "outputs": [
    {
     "name": "stdout",
     "output_type": "stream",
     "text": [
      " * postgresql://student@/GROUP15\n",
      "   postgresql://student@/dk\n",
      "Done.\n",
      "Done.\n"
     ]
    },
    {
     "data": {
      "text/plain": [
       "[]"
      ]
     },
     "execution_count": 117,
     "metadata": {},
     "output_type": "execute_result"
    }
   ],
   "source": [
    "%%sql\n",
    "DROP TABLE IF EXISTS weather;\n",
    "\n",
    "CREATE TABLE weather (\n",
    "    key SERIAL PRIMARY KEY,\n",
    "    weather_condition varchar(200)\n",
    ");"
   ]
  },
  {
   "cell_type": "code",
   "execution_count": 118,
   "metadata": {},
   "outputs": [
    {
     "name": "stdout",
     "output_type": "stream",
     "text": [
      " * postgresql://student@/GROUP15\n",
      "   postgresql://student@/dk\n",
      "11 rows affected.\n"
     ]
    },
    {
     "data": {
      "text/plain": [
       "[]"
      ]
     },
     "execution_count": 118,
     "metadata": {},
     "output_type": "execute_result"
    }
   ],
   "source": [
    "%%sql\n",
    "INSERT INTO weather (weather_condition)\n",
    "SELECT DISTINCT weather_condition\n",
    "FROM accidents;"
   ]
  },
  {
   "cell_type": "code",
   "execution_count": 119,
   "metadata": {},
   "outputs": [
    {
     "name": "stdout",
     "output_type": "stream",
     "text": [
      " * postgresql://student@/GROUP15\n",
      "   postgresql://student@/dk\n",
      "11 rows affected.\n"
     ]
    },
    {
     "data": {
      "text/html": [
       "<table>\n",
       "    <tr>\n",
       "        <th>key</th>\n",
       "        <th>weather_condition</th>\n",
       "    </tr>\n",
       "    <tr>\n",
       "        <td>1</td>\n",
       "        <td>BLOWING SNOW</td>\n",
       "    </tr>\n",
       "    <tr>\n",
       "        <td>2</td>\n",
       "        <td>CLEAR</td>\n",
       "    </tr>\n",
       "    <tr>\n",
       "        <td>3</td>\n",
       "        <td>CLOUDY/OVERCAST</td>\n",
       "    </tr>\n",
       "    <tr>\n",
       "        <td>4</td>\n",
       "        <td>FOG/SMOKE/HAZE</td>\n",
       "    </tr>\n",
       "    <tr>\n",
       "        <td>5</td>\n",
       "        <td>FREEZING RAIN/DRIZZLE</td>\n",
       "    </tr>\n",
       "    <tr>\n",
       "        <td>6</td>\n",
       "        <td>OTHER</td>\n",
       "    </tr>\n",
       "    <tr>\n",
       "        <td>7</td>\n",
       "        <td>RAIN</td>\n",
       "    </tr>\n",
       "    <tr>\n",
       "        <td>8</td>\n",
       "        <td>SEVERE CROSS WIND GATE</td>\n",
       "    </tr>\n",
       "    <tr>\n",
       "        <td>9</td>\n",
       "        <td>SLEET/HAIL</td>\n",
       "    </tr>\n",
       "    <tr>\n",
       "        <td>10</td>\n",
       "        <td>SNOW</td>\n",
       "    </tr>\n",
       "    <tr>\n",
       "        <td>11</td>\n",
       "        <td>UNKNOWN</td>\n",
       "    </tr>\n",
       "</table>"
      ],
      "text/plain": [
       "[(1, 'BLOWING SNOW'),\n",
       " (2, 'CLEAR'),\n",
       " (3, 'CLOUDY/OVERCAST'),\n",
       " (4, 'FOG/SMOKE/HAZE'),\n",
       " (5, 'FREEZING RAIN/DRIZZLE'),\n",
       " (6, 'OTHER'),\n",
       " (7, 'RAIN'),\n",
       " (8, 'SEVERE CROSS WIND GATE'),\n",
       " (9, 'SLEET/HAIL'),\n",
       " (10, 'SNOW'),\n",
       " (11, 'UNKNOWN')]"
      ]
     },
     "execution_count": 119,
     "metadata": {},
     "output_type": "execute_result"
    }
   ],
   "source": [
    "%%sql\n",
    "SELECT * FROM weather;"
   ]
  },
  {
   "cell_type": "code",
   "execution_count": 120,
   "metadata": {},
   "outputs": [
    {
     "name": "stdout",
     "output_type": "stream",
     "text": [
      " * postgresql://student@/GROUP15\n",
      "   postgresql://student@/dk\n",
      "6 rows affected.\n"
     ]
    },
    {
     "data": {
      "text/html": [
       "<table>\n",
       "    <tr>\n",
       "        <th>lighting_condition</th>\n",
       "    </tr>\n",
       "    <tr>\n",
       "        <td>DARKNESS</td>\n",
       "    </tr>\n",
       "    <tr>\n",
       "        <td>&quot;DARKNESS, LIGHTED ROAD&quot;</td>\n",
       "    </tr>\n",
       "    <tr>\n",
       "        <td>DAWN</td>\n",
       "    </tr>\n",
       "    <tr>\n",
       "        <td>DAYLIGHT</td>\n",
       "    </tr>\n",
       "    <tr>\n",
       "        <td>DUSK</td>\n",
       "    </tr>\n",
       "    <tr>\n",
       "        <td>UNKNOWN</td>\n",
       "    </tr>\n",
       "</table>"
      ],
      "text/plain": [
       "[('DARKNESS',),\n",
       " ('\"DARKNESS, LIGHTED ROAD\"',),\n",
       " ('DAWN',),\n",
       " ('DAYLIGHT',),\n",
       " ('DUSK',),\n",
       " ('UNKNOWN',)]"
      ]
     },
     "execution_count": 120,
     "metadata": {},
     "output_type": "execute_result"
    }
   ],
   "source": [
    "##build the lighting dimension table\n",
    "\n",
    "%%sql\n",
    "SELECT DISTINCT lighting_condition\n",
    "FROM accidents\n",
    "LIMIT 10;"
   ]
  },
  {
   "cell_type": "code",
   "execution_count": 121,
   "metadata": {},
   "outputs": [
    {
     "name": "stdout",
     "output_type": "stream",
     "text": [
      " * postgresql://student@/GROUP15\n",
      "   postgresql://student@/dk\n",
      "Done.\n",
      "Done.\n"
     ]
    },
    {
     "data": {
      "text/plain": [
       "[]"
      ]
     },
     "execution_count": 121,
     "metadata": {},
     "output_type": "execute_result"
    }
   ],
   "source": [
    "%%sql\n",
    "DROP TABLE IF EXISTS lighting;\n",
    "\n",
    "CREATE TABLE lighting (\n",
    "    key SERIAL PRIMARY KEY,\n",
    "    lighting_condition varchar(200)\n",
    ");"
   ]
  },
  {
   "cell_type": "code",
   "execution_count": 122,
   "metadata": {},
   "outputs": [
    {
     "name": "stdout",
     "output_type": "stream",
     "text": [
      " * postgresql://student@/GROUP15\n",
      "   postgresql://student@/dk\n",
      "6 rows affected.\n"
     ]
    },
    {
     "data": {
      "text/plain": [
       "[]"
      ]
     },
     "execution_count": 122,
     "metadata": {},
     "output_type": "execute_result"
    }
   ],
   "source": [
    "%%sql\n",
    "INSERT INTO lighting (lighting_condition)\n",
    "SELECT DISTINCT lighting_condition\n",
    "FROM accidents;"
   ]
  },
  {
   "cell_type": "code",
   "execution_count": 123,
   "metadata": {},
   "outputs": [
    {
     "name": "stdout",
     "output_type": "stream",
     "text": [
      " * postgresql://student@/GROUP15\n",
      "   postgresql://student@/dk\n",
      "6 rows affected.\n"
     ]
    },
    {
     "data": {
      "text/html": [
       "<table>\n",
       "    <tr>\n",
       "        <th>key</th>\n",
       "        <th>lighting_condition</th>\n",
       "    </tr>\n",
       "    <tr>\n",
       "        <td>1</td>\n",
       "        <td>DARKNESS</td>\n",
       "    </tr>\n",
       "    <tr>\n",
       "        <td>2</td>\n",
       "        <td>&quot;DARKNESS, LIGHTED ROAD&quot;</td>\n",
       "    </tr>\n",
       "    <tr>\n",
       "        <td>3</td>\n",
       "        <td>DAWN</td>\n",
       "    </tr>\n",
       "    <tr>\n",
       "        <td>4</td>\n",
       "        <td>DAYLIGHT</td>\n",
       "    </tr>\n",
       "    <tr>\n",
       "        <td>5</td>\n",
       "        <td>DUSK</td>\n",
       "    </tr>\n",
       "    <tr>\n",
       "        <td>6</td>\n",
       "        <td>UNKNOWN</td>\n",
       "    </tr>\n",
       "</table>"
      ],
      "text/plain": [
       "[(1, 'DARKNESS'),\n",
       " (2, '\"DARKNESS, LIGHTED ROAD\"'),\n",
       " (3, 'DAWN'),\n",
       " (4, 'DAYLIGHT'),\n",
       " (5, 'DUSK'),\n",
       " (6, 'UNKNOWN')]"
      ]
     },
     "execution_count": 123,
     "metadata": {},
     "output_type": "execute_result"
    }
   ],
   "source": [
    "%%sql\n",
    "SELECT * FROM lighting;"
   ]
  },
  {
   "cell_type": "code",
   "execution_count": 124,
   "metadata": {},
   "outputs": [
    {
     "name": "stdout",
     "output_type": "stream",
     "text": [
      " * postgresql://student@/GROUP15\n",
      "   postgresql://student@/dk\n",
      "Done.\n"
     ]
    },
    {
     "data": {
      "text/plain": [
       "[]"
      ]
     },
     "execution_count": 124,
     "metadata": {},
     "output_type": "execute_result"
    }
   ],
   "source": [
    "%%sql\n",
    "ALTER TABLE accidents\n",
    "ADD COLUMN weather_key INTEGER,\n",
    "ADD CONSTRAINT fk_weather_key\n",
    "    FOREIGN KEY (weather_key)\n",
    "    REFERENCES weather (key);"
   ]
  },
  {
   "cell_type": "code",
   "execution_count": 125,
   "metadata": {},
   "outputs": [
    {
     "name": "stdout",
     "output_type": "stream",
     "text": [
      " * postgresql://student@/GROUP15\n",
      "   postgresql://student@/dk\n",
      "Done.\n"
     ]
    },
    {
     "data": {
      "text/plain": [
       "[]"
      ]
     },
     "execution_count": 125,
     "metadata": {},
     "output_type": "execute_result"
    }
   ],
   "source": [
    "%%sql\n",
    "ALTER TABLE accidents\n",
    "ADD COLUMN lighting_key INTEGER,\n",
    "ADD CONSTRAINT fk_lighting_key\n",
    "    FOREIGN KEY (lighting_key)\n",
    "    REFERENCES lighting (key);"
   ]
  },
  {
   "cell_type": "code",
   "execution_count": 126,
   "metadata": {},
   "outputs": [
    {
     "name": "stdout",
     "output_type": "stream",
     "text": [
      " * postgresql://student@/GROUP15\n",
      "   postgresql://student@/dk\n",
      "Done.\n",
      "Done.\n"
     ]
    },
    {
     "data": {
      "text/plain": [
       "[]"
      ]
     },
     "execution_count": 126,
     "metadata": {},
     "output_type": "execute_result"
    }
   ],
   "source": [
    "##build the traffic device dimension table\n",
    "\n",
    "%%sql\n",
    "DROP TABLE IF EXISTS traffic_device;\n",
    "\n",
    "CREATE TABLE traffic_device (\n",
    "    key SERIAL PRIMARY KEY,\n",
    "    TRAFFIC_CONTROL_DEVICE varchar(200)\n",
    ");"
   ]
  },
  {
   "cell_type": "code",
   "execution_count": 127,
   "metadata": {},
   "outputs": [
    {
     "name": "stdout",
     "output_type": "stream",
     "text": [
      " * postgresql://student@/GROUP15\n",
      "   postgresql://student@/dk\n",
      "18 rows affected.\n"
     ]
    },
    {
     "data": {
      "text/plain": [
       "[]"
      ]
     },
     "execution_count": 127,
     "metadata": {},
     "output_type": "execute_result"
    }
   ],
   "source": [
    "%%sql\n",
    "INSERT INTO traffic_device (TRAFFIC_CONTROL_DEVICE)\n",
    "SELECT DISTINCT TRAFFIC_CONTROL_DEVICE\n",
    "FROM accidents;"
   ]
  },
  {
   "cell_type": "code",
   "execution_count": 128,
   "metadata": {},
   "outputs": [
    {
     "name": "stdout",
     "output_type": "stream",
     "text": [
      " * postgresql://student@/GROUP15\n",
      "   postgresql://student@/dk\n",
      "Done.\n"
     ]
    },
    {
     "data": {
      "text/plain": [
       "[]"
      ]
     },
     "execution_count": 128,
     "metadata": {},
     "output_type": "execute_result"
    }
   ],
   "source": [
    "%%sql\n",
    "ALTER TABLE accidents\n",
    "ADD COLUMN TRAFFIC_CONTROL_DEVICE_key INTEGER,\n",
    "ADD CONSTRAINT fk_TRAFFIC_CONTROL_DEVICE_key\n",
    "    FOREIGN KEY (TRAFFIC_CONTROL_DEVICE_key)\n",
    "    REFERENCES traffic_device (key);"
   ]
  },
  {
   "cell_type": "code",
   "execution_count": 129,
   "metadata": {},
   "outputs": [
    {
     "name": "stdout",
     "output_type": "stream",
     "text": [
      " * postgresql://student@/GROUP15\n",
      "   postgresql://student@/dk\n",
      "Done.\n",
      "Done.\n"
     ]
    },
    {
     "data": {
      "text/plain": [
       "[]"
      ]
     },
     "execution_count": 129,
     "metadata": {},
     "output_type": "execute_result"
    }
   ],
   "source": [
    "##build the device condition dimension table\n",
    "\n",
    "%%sql\n",
    "DROP TABLE IF EXISTS device_condition;\n",
    "\n",
    "CREATE TABLE device_condition (\n",
    "    key SERIAL PRIMARY KEY,\n",
    "    DEVICE_CONDITION varchar(200)\n",
    ");"
   ]
  },
  {
   "cell_type": "code",
   "execution_count": 130,
   "metadata": {},
   "outputs": [
    {
     "name": "stdout",
     "output_type": "stream",
     "text": [
      " * postgresql://student@/GROUP15\n",
      "   postgresql://student@/dk\n",
      "7 rows affected.\n"
     ]
    },
    {
     "data": {
      "text/plain": [
       "[]"
      ]
     },
     "execution_count": 130,
     "metadata": {},
     "output_type": "execute_result"
    }
   ],
   "source": [
    "%%sql\n",
    "INSERT INTO device_condition (device_condition)\n",
    "SELECT DISTINCT device_condition\n",
    "FROM accidents;"
   ]
  },
  {
   "cell_type": "code",
   "execution_count": 131,
   "metadata": {},
   "outputs": [
    {
     "name": "stdout",
     "output_type": "stream",
     "text": [
      " * postgresql://student@/GROUP15\n",
      "   postgresql://student@/dk\n",
      "Done.\n"
     ]
    },
    {
     "data": {
      "text/plain": [
       "[]"
      ]
     },
     "execution_count": 131,
     "metadata": {},
     "output_type": "execute_result"
    }
   ],
   "source": [
    "%%sql\n",
    "ALTER TABLE accidents\n",
    "ADD COLUMN device_condition_key INTEGER,\n",
    "ADD CONSTRAINT device_condition_key\n",
    "    FOREIGN KEY (device_condition_key)\n",
    "    REFERENCES device_condition (key);"
   ]
  },
  {
   "cell_type": "code",
   "execution_count": 132,
   "metadata": {},
   "outputs": [
    {
     "name": "stdout",
     "output_type": "stream",
     "text": [
      " * postgresql://student@/GROUP15\n",
      "   postgresql://student@/dk\n",
      "10 rows affected.\n"
     ]
    },
    {
     "data": {
      "text/html": [
       "<table>\n",
       "    <tr>\n",
       "        <th>road_defect</th>\n",
       "        <th>roadway_surface_cond</th>\n",
       "    </tr>\n",
       "    <tr>\n",
       "        <td>DEBRIS ON ROADWAY</td>\n",
       "        <td>DRY</td>\n",
       "    </tr>\n",
       "    <tr>\n",
       "        <td>DEBRIS ON ROADWAY</td>\n",
       "        <td>ICE</td>\n",
       "    </tr>\n",
       "    <tr>\n",
       "        <td>DEBRIS ON ROADWAY</td>\n",
       "        <td>OTHER</td>\n",
       "    </tr>\n",
       "    <tr>\n",
       "        <td>DEBRIS ON ROADWAY</td>\n",
       "        <td>&quot;SAND, MUD, DIRT&quot;</td>\n",
       "    </tr>\n",
       "    <tr>\n",
       "        <td>DEBRIS ON ROADWAY</td>\n",
       "        <td>SNOW OR SLUSH</td>\n",
       "    </tr>\n",
       "    <tr>\n",
       "        <td>DEBRIS ON ROADWAY</td>\n",
       "        <td>UNKNOWN</td>\n",
       "    </tr>\n",
       "    <tr>\n",
       "        <td>DEBRIS ON ROADWAY</td>\n",
       "        <td>WET</td>\n",
       "    </tr>\n",
       "    <tr>\n",
       "        <td>NO DEFECTS</td>\n",
       "        <td>DRY</td>\n",
       "    </tr>\n",
       "    <tr>\n",
       "        <td>NO DEFECTS</td>\n",
       "        <td>ICE</td>\n",
       "    </tr>\n",
       "    <tr>\n",
       "        <td>NO DEFECTS</td>\n",
       "        <td>OTHER</td>\n",
       "    </tr>\n",
       "</table>"
      ],
      "text/plain": [
       "[('DEBRIS ON ROADWAY', 'DRY'),\n",
       " ('DEBRIS ON ROADWAY', 'ICE'),\n",
       " ('DEBRIS ON ROADWAY', 'OTHER'),\n",
       " ('DEBRIS ON ROADWAY', '\"SAND, MUD, DIRT\"'),\n",
       " ('DEBRIS ON ROADWAY', 'SNOW OR SLUSH'),\n",
       " ('DEBRIS ON ROADWAY', 'UNKNOWN'),\n",
       " ('DEBRIS ON ROADWAY', 'WET'),\n",
       " ('NO DEFECTS', 'DRY'),\n",
       " ('NO DEFECTS', 'ICE'),\n",
       " ('NO DEFECTS', 'OTHER')]"
      ]
     },
     "execution_count": 132,
     "metadata": {},
     "output_type": "execute_result"
    }
   ],
   "source": [
    "%%sql\n",
    "SELECT DISTINCT ROAD_DEFECT, ROADWAY_SURFACE_COND\n",
    "FROM accidents\n",
    "LIMIT 10;"
   ]
  },
  {
   "cell_type": "code",
   "execution_count": 133,
   "metadata": {},
   "outputs": [
    {
     "name": "stdout",
     "output_type": "stream",
     "text": [
      " * postgresql://student@/GROUP15\n",
      "   postgresql://student@/dk\n",
      "Done.\n",
      "Done.\n"
     ]
    },
    {
     "data": {
      "text/plain": [
       "[]"
      ]
     },
     "execution_count": 133,
     "metadata": {},
     "output_type": "execute_result"
    }
   ],
   "source": [
    "##build the road_condition dimension table\n",
    "\n",
    "%%sql\n",
    "DROP TABLE IF EXISTS road_condition;\n",
    "\n",
    "CREATE TABLE road_condition (\n",
    "    key SERIAL PRIMARY KEY,\n",
    "    road_defect VARCHAR(200),\n",
    "    roadway_surface_cond VARCHAR(200)\n",
    ");"
   ]
  },
  {
   "cell_type": "code",
   "execution_count": 134,
   "metadata": {},
   "outputs": [
    {
     "name": "stdout",
     "output_type": "stream",
     "text": [
      " * postgresql://student@/GROUP15\n",
      "   postgresql://student@/dk\n",
      "41 rows affected.\n"
     ]
    },
    {
     "data": {
      "text/plain": [
       "[]"
      ]
     },
     "execution_count": 134,
     "metadata": {},
     "output_type": "execute_result"
    }
   ],
   "source": [
    "%%sql\n",
    "INSERT INTO road_condition (road_defect, roadway_surface_cond)\n",
    "SELECT DISTINCT ROAD_DEFECT, ROADWAY_SURFACE_COND\n",
    "FROM accidents;"
   ]
  },
  {
   "cell_type": "code",
   "execution_count": 135,
   "metadata": {},
   "outputs": [
    {
     "name": "stdout",
     "output_type": "stream",
     "text": [
      " * postgresql://student@/GROUP15\n",
      "   postgresql://student@/dk\n",
      "Done.\n"
     ]
    },
    {
     "data": {
      "text/plain": [
       "[]"
      ]
     },
     "execution_count": 135,
     "metadata": {},
     "output_type": "execute_result"
    }
   ],
   "source": [
    "%%sql\n",
    "ALTER TABLE accidents\n",
    "ADD COLUMN road_condition_key INTEGER,\n",
    "ADD CONSTRAINT fk_road_condition\n",
    "    FOREIGN KEY (road_condition_key)\n",
    "    REFERENCES road_condition (key);"
   ]
  },
  {
   "cell_type": "code",
   "execution_count": 136,
   "metadata": {},
   "outputs": [
    {
     "name": "stdout",
     "output_type": "stream",
     "text": [
      " * postgresql://student@/GROUP15\n",
      "   postgresql://student@/dk\n",
      "Done.\n",
      "Done.\n"
     ]
    },
    {
     "data": {
      "text/plain": [
       "[]"
      ]
     },
     "execution_count": 136,
     "metadata": {},
     "output_type": "execute_result"
    }
   ],
   "source": [
    "##build the location dimension table\n",
    "\n",
    "%%sql\n",
    "DROP TABLE IF EXISTS location;\n",
    "\n",
    "CREATE TABLE location (\n",
    "    key SERIAL PRIMARY KEY,\n",
    "    STREET_NO varchar(200),\n",
    "    STREET_DIRECTION varchar(200),\n",
    "    STREET_NAME varchar(200),\n",
    "    BEAT_OF_OCCURRENCE varchar(200)\n",
    ");"
   ]
  },
  {
   "cell_type": "code",
   "execution_count": 137,
   "metadata": {},
   "outputs": [
    {
     "name": "stdout",
     "output_type": "stream",
     "text": [
      " * postgresql://student@/GROUP15\n",
      "   postgresql://student@/dk\n",
      "180708 rows affected.\n"
     ]
    },
    {
     "data": {
      "text/plain": [
       "[]"
      ]
     },
     "execution_count": 137,
     "metadata": {},
     "output_type": "execute_result"
    }
   ],
   "source": [
    "%%sql\n",
    "INSERT INTO location (STREET_NO, STREET_DIRECTION,STREET_NAME,BEAT_OF_OCCURRENCE)\n",
    "SELECT DISTINCT STREET_NO, STREET_DIRECTION,STREET_NAME,BEAT_OF_OCCURRENCE\n",
    "FROM accidents;"
   ]
  },
  {
   "cell_type": "code",
   "execution_count": 138,
   "metadata": {},
   "outputs": [
    {
     "name": "stdout",
     "output_type": "stream",
     "text": [
      " * postgresql://student@/GROUP15\n",
      "   postgresql://student@/dk\n",
      "Done.\n"
     ]
    },
    {
     "data": {
      "text/plain": [
       "[]"
      ]
     },
     "execution_count": 138,
     "metadata": {},
     "output_type": "execute_result"
    }
   ],
   "source": [
    "%%sql\n",
    "ALTER TABLE accidents\n",
    "ADD COLUMN location_key INTEGER,\n",
    "ADD CONSTRAINT fk_location\n",
    "    FOREIGN KEY (location_key)\n",
    "    REFERENCES location (key);"
   ]
  },
  {
   "cell_type": "code",
   "execution_count": 139,
   "metadata": {},
   "outputs": [
    {
     "name": "stdout",
     "output_type": "stream",
     "text": [
      " * postgresql://student@/GROUP15\n",
      "   postgresql://student@/dk\n",
      "Done.\n",
      "Done.\n"
     ]
    },
    {
     "data": {
      "text/plain": [
       "[]"
      ]
     },
     "execution_count": 139,
     "metadata": {},
     "output_type": "execute_result"
    }
   ],
   "source": [
    "##build the crash dump dimension table\n",
    "\n",
    "%%sql\n",
    "DROP TABLE IF EXISTS crash_dump;\n",
    "\n",
    "CREATE TABLE crash_dump (\n",
    "    key SERIAL PRIMARY KEY,\n",
    "    CRASH_TYPE varchar(200),\n",
    "    HIT_AND_RUN_I varchar(200),\n",
    "    INTERSECTION_RELATED_I varchar(200),\n",
    "    PRIM_CONTRIBUTORY_CAUSE varchar(200),\n",
    "    SEC_CONTRIBUTORY_CAUSE varchar(200),\n",
    "    POSTED_SPEED_LIMIT numeric\n",
    ");"
   ]
  },
  {
   "cell_type": "code",
   "execution_count": 140,
   "metadata": {},
   "outputs": [
    {
     "name": "stdout",
     "output_type": "stream",
     "text": [
      " * postgresql://student@/GROUP15\n",
      "   postgresql://student@/dk\n",
      "15698 rows affected.\n"
     ]
    },
    {
     "data": {
      "text/plain": [
       "[]"
      ]
     },
     "execution_count": 140,
     "metadata": {},
     "output_type": "execute_result"
    }
   ],
   "source": [
    "%%sql\n",
    "INSERT INTO crash_dump (CRASH_TYPE, HIT_AND_RUN_I,INTERSECTION_RELATED_I,PRIM_CONTRIBUTORY_CAUSE,SEC_CONTRIBUTORY_CAUSE,POSTED_SPEED_LIMIT)\n",
    "SELECT DISTINCT CRASH_TYPE, HIT_AND_RUN_I,INTERSECTION_RELATED_I,PRIM_CONTRIBUTORY_CAUSE,SEC_CONTRIBUTORY_CAUSE,POSTED_SPEED_LIMIT\n",
    "FROM accidents;"
   ]
  },
  {
   "cell_type": "code",
   "execution_count": 141,
   "metadata": {},
   "outputs": [
    {
     "name": "stdout",
     "output_type": "stream",
     "text": [
      " * postgresql://student@/GROUP15\n",
      "   postgresql://student@/dk\n",
      "Done.\n"
     ]
    },
    {
     "data": {
      "text/plain": [
       "[]"
      ]
     },
     "execution_count": 141,
     "metadata": {},
     "output_type": "execute_result"
    }
   ],
   "source": [
    "%%sql\n",
    "ALTER TABLE accidents\n",
    "ADD COLUMN crash_dump_key INTEGER,\n",
    "ADD CONSTRAINT fk_crash_dump\n",
    "    FOREIGN KEY (crash_dump_key)\n",
    "    REFERENCES crash_dump (key);"
   ]
  },
  {
   "cell_type": "code",
   "execution_count": 142,
   "metadata": {},
   "outputs": [
    {
     "name": "stdout",
     "output_type": "stream",
     "text": [
      " * postgresql://student@/GROUP15\n",
      "   postgresql://student@/dk\n",
      "Done.\n",
      "Done.\n"
     ]
    },
    {
     "data": {
      "text/plain": [
       "[]"
      ]
     },
     "execution_count": 142,
     "metadata": {},
     "output_type": "execute_result"
    }
   ],
   "source": [
    "##build the day dimension table\n",
    "\n",
    "%%sql\n",
    "DROP TABLE IF EXISTS day;\n",
    "\n",
    "CREATE TABLE day (\n",
    "    key SERIAL PRIMARY KEY,\n",
    "    RD_NO VARCHAR(10),\n",
    "    CRASH_DATE timestamp,\n",
    "    DATE_POLICE_NOTIFIED timestamp,\n",
    "    CRASH_HOUR varchar(200),\n",
    "    CRASH_DAY_OF_WEEK varchar(200),\n",
    "    CRASH_MONTH numeric\n",
    ");"
   ]
  },
  {
   "cell_type": "code",
   "execution_count": 143,
   "metadata": {},
   "outputs": [
    {
     "name": "stdout",
     "output_type": "stream",
     "text": [
      " * postgresql://student@/GROUP15\n",
      "   postgresql://student@/dk\n",
      "363061 rows affected.\n"
     ]
    },
    {
     "data": {
      "text/plain": [
       "[]"
      ]
     },
     "execution_count": 143,
     "metadata": {},
     "output_type": "execute_result"
    }
   ],
   "source": [
    "%%sql\n",
    "INSERT INTO day (RD_NO, CRASH_DATE,DATE_POLICE_NOTIFIED,CRASH_HOUR,CRASH_DAY_OF_WEEK,CRASH_MONTH)\n",
    "SELECT DISTINCT RD_NO, CRASH_DATE,DATE_POLICE_NOTIFIED,CRASH_HOUR,CRASH_DAY_OF_WEEK,CRASH_MONTH\n",
    "FROM accidents;"
   ]
  },
  {
   "cell_type": "code",
   "execution_count": 144,
   "metadata": {},
   "outputs": [
    {
     "name": "stdout",
     "output_type": "stream",
     "text": [
      " * postgresql://student@/GROUP15\n",
      "   postgresql://student@/dk\n",
      "Done.\n"
     ]
    },
    {
     "data": {
      "text/plain": [
       "[]"
      ]
     },
     "execution_count": 144,
     "metadata": {},
     "output_type": "execute_result"
    }
   ],
   "source": [
    "%%sql\n",
    "ALTER TABLE accidents\n",
    "ADD COLUMN day_key INTEGER,\n",
    "ADD CONSTRAINT day\n",
    "    FOREIGN KEY (day_key)\n",
    "    REFERENCES day (key);"
   ]
  },
  {
   "cell_type": "code",
   "execution_count": null,
   "metadata": {},
   "outputs": [],
   "source": [
    "##The following 8 blocks populate new columns in initial table with foreign keys to the corresponding dimension table."
   ]
  },
  {
   "cell_type": "code",
   "execution_count": 145,
   "metadata": {},
   "outputs": [
    {
     "name": "stdout",
     "output_type": "stream",
     "text": [
      " * postgresql://student@/GROUP15\n",
      "   postgresql://student@/dk\n",
      "363061 rows affected.\n"
     ]
    },
    {
     "data": {
      "text/plain": [
       "[]"
      ]
     },
     "execution_count": 145,
     "metadata": {},
     "output_type": "execute_result"
    }
   ],
   "source": [
    "%%sql\n",
    "UPDATE accidents\n",
    "SET device_condition_key = device_condition.key\n",
    "FROM device_condition\n",
    "WHERE accidents.device_condition = device_condition.device_condition;"
   ]
  },
  {
   "cell_type": "code",
   "execution_count": 146,
   "metadata": {},
   "outputs": [
    {
     "name": "stdout",
     "output_type": "stream",
     "text": [
      " * postgresql://student@/GROUP15\n",
      "   postgresql://student@/dk\n",
      "363061 rows affected.\n"
     ]
    },
    {
     "data": {
      "text/plain": [
       "[]"
      ]
     },
     "execution_count": 146,
     "metadata": {},
     "output_type": "execute_result"
    }
   ],
   "source": [
    "%%sql\n",
    "UPDATE accidents\n",
    "SET lighting_key = lighting.key\n",
    "FROM lighting\n",
    "WHERE accidents.LIGHTING_CONDITION = lighting.LIGHTING_CONDITION;"
   ]
  },
  {
   "cell_type": "code",
   "execution_count": 147,
   "metadata": {},
   "outputs": [
    {
     "name": "stdout",
     "output_type": "stream",
     "text": [
      " * postgresql://student@/GROUP15\n",
      "   postgresql://student@/dk\n",
      "363061 rows affected.\n"
     ]
    },
    {
     "data": {
      "text/plain": [
       "[]"
      ]
     },
     "execution_count": 147,
     "metadata": {},
     "output_type": "execute_result"
    }
   ],
   "source": [
    "%%sql\n",
    "UPDATE accidents\n",
    "SET TRAFFIC_CONTROL_DEVICE_key = traffic_device.key\n",
    "FROM traffic_device\n",
    "WHERE accidents.TRAFFIC_CONTROL_DEVICE = traffic_device.TRAFFIC_CONTROL_DEVICE;"
   ]
  },
  {
   "cell_type": "code",
   "execution_count": 148,
   "metadata": {},
   "outputs": [
    {
     "name": "stdout",
     "output_type": "stream",
     "text": [
      " * postgresql://student@/GROUP15\n",
      "   postgresql://student@/dk\n",
      "363061 rows affected.\n"
     ]
    },
    {
     "data": {
      "text/plain": [
       "[]"
      ]
     },
     "execution_count": 148,
     "metadata": {},
     "output_type": "execute_result"
    }
   ],
   "source": [
    "%%sql\n",
    "UPDATE accidents\n",
    "SET road_condition_key = road_condition.key\n",
    "FROM road_condition\n",
    "WHERE accidents.ROAD_DEFECT = road_condition.ROAD_DEFECT AND accidents.ROADWAY_SURFACE_COND = road_condition.ROADWAY_SURFACE_COND ;"
   ]
  },
  {
   "cell_type": "code",
   "execution_count": 149,
   "metadata": {},
   "outputs": [
    {
     "name": "stdout",
     "output_type": "stream",
     "text": [
      " * postgresql://student@/GROUP15\n",
      "   postgresql://student@/dk\n",
      "363061 rows affected.\n"
     ]
    },
    {
     "data": {
      "text/plain": [
       "[]"
      ]
     },
     "execution_count": 149,
     "metadata": {},
     "output_type": "execute_result"
    }
   ],
   "source": [
    "%%sql\n",
    "UPDATE accidents\n",
    "SET weather_key = weather.key\n",
    "FROM weather\n",
    "WHERE accidents.WEATHER_CONDITION = weather.WEATHER_CONDITION ;"
   ]
  },
  {
   "cell_type": "code",
   "execution_count": 150,
   "metadata": {},
   "outputs": [
    {
     "name": "stdout",
     "output_type": "stream",
     "text": [
      " * postgresql://student@/GROUP15\n",
      "   postgresql://student@/dk\n",
      "363061 rows affected.\n"
     ]
    },
    {
     "data": {
      "text/plain": [
       "[]"
      ]
     },
     "execution_count": 150,
     "metadata": {},
     "output_type": "execute_result"
    }
   ],
   "source": [
    "%%sql\n",
    "UPDATE accidents\n",
    "SET location_key = location.key\n",
    "FROM location\n",
    "WHERE accidents.STREET_NO = location.STREET_NO AND accidents.STREET_DIRECTION = location.STREET_DIRECTION AND\n",
    "accidents.STREET_NAME = location.STREET_NAME AND accidents.BEAT_OF_OCCURRENCE = location.BEAT_OF_OCCURRENCE;"
   ]
  },
  {
   "cell_type": "code",
   "execution_count": null,
   "metadata": {},
   "outputs": [
    {
     "name": "stdout",
     "output_type": "stream",
     "text": [
      " * postgresql://student@/GROUP15\n"
     ]
    }
   ],
   "source": [
    "%%sql\n",
    "UPDATE accidents\n",
    "SET crash_dump_key = crash_dump.key\n",
    "FROM crash_dump\n",
    "WHERE accidents.CRASH_TYPE = crash_dump.CRASH_TYPE AND accidents.HIT_AND_RUN_I = crash_dump.HIT_AND_RUN_I AND\n",
    "accidents.INTERSECTION_RELATED_I = crash_dump.INTERSECTION_RELATED_I AND accidents.PRIM_CONTRIBUTORY_CAUSE = crash_dump.PRIM_CONTRIBUTORY_CAUSE AND\n",
    "accidents.SEC_CONTRIBUTORY_CAUSE = crash_dump.SEC_CONTRIBUTORY_CAUSE AND accidents.POSTED_SPEED_LIMIT = crash_dump.POSTED_SPEED_LIMIT;"
   ]
  },
  {
   "cell_type": "code",
   "execution_count": null,
   "metadata": {},
   "outputs": [],
   "source": [
    "%%sql\n",
    "UPDATE accidents\n",
    "SET day_key = day.key\n",
    "FROM day\n",
    "WHERE accidents.CRASH_DATE = day.CRASH_DATE AND accidents.CRASH_HOUR = day.CRASH_HOUR AND\n",
    "accidents.CRASH_MONTH = day.CRASH_MONTH AND accidents.CRASH_DAY_OF_WEEK = day.CRASH_DAY_OF_WEEK AND\n",
    "accidents.DATE_POLICE_NOTIFIED = day.DATE_POLICE_NOTIFIED AND accidents.RD_NO = day.RD_NO;"
   ]
  },
  {
   "cell_type": "code",
   "execution_count": null,
   "metadata": {},
   "outputs": [],
   "source": [
    "##drop the old columns in initial table and finish it as fact table\n",
    "\n",
    "%%sql\n",
    "ALTER TABLE accidents\n",
    "DROP COLUMN DEVICE_CONDITION,\n",
    "DROP COLUMN LIGHTING_CONDITION,\n",
    "DROP COLUMN TRAFFIC_CONTROL_DEVICE,\n",
    "DROP COLUMN WEATHER_CONDITION,\n",
    "DROP COLUMN ROAD_DEFECT,\n",
    "DROP COLUMN ROADWAY_SURFACE_COND,\n",
    "DROP COLUMN STREET_NO,\n",
    "DROP COLUMN STREET_DIRECTION,\n",
    "DROP COLUMN STREET_NAME,\n",
    "DROP COLUMN BEAT_OF_OCCURRENCE,\n",
    "DROP COLUMN CRASH_TYPE,\n",
    "DROP COLUMN HIT_AND_RUN_I,\n",
    "DROP COLUMN INTERSECTION_RELATED_I,\n",
    "DROP COLUMN PRIM_CONTRIBUTORY_CAUSE,\n",
    "DROP COLUMN SEC_CONTRIBUTORY_CAUSE,\n",
    "DROP COLUMN POSTED_SPEED_LIMIT,\n",
    "DROP COLUMN CRASH_DATE,\n",
    "DROP COLUMN CRASH_HOUR,\n",
    "DROP COLUMN CRASH_MONTH,\n",
    "DROP COLUMN CRASH_DAY_OF_WEEK,\n",
    "DROP COLUMN DATE_POLICE_NOTIFIED,\n",
    "DROP COLUMN RD_NO\n",
    ";"
   ]
  },
  {
   "cell_type": "code",
   "execution_count": null,
   "metadata": {},
   "outputs": [],
   "source": [
    "#final look at the facts table"
   ]
  },
  {
   "cell_type": "code",
   "execution_count": 3,
   "metadata": {},
   "outputs": [
    {
     "name": "stdout",
     "output_type": "stream",
     "text": [
      " * postgresql://student@/dk\n",
      "5 rows affected.\n"
     ]
    },
    {
     "data": {
      "text/html": [
       "<table>\n",
       "    <tr>\n",
       "        <th>damage</th>\n",
       "        <th>num_units</th>\n",
       "        <th>injuries_total</th>\n",
       "        <th>injuries_fatal</th>\n",
       "        <th>weather_key</th>\n",
       "        <th>lighting_key</th>\n",
       "        <th>traffic_control_device_key</th>\n",
       "        <th>device_condition_key</th>\n",
       "        <th>road_condition_key</th>\n",
       "        <th>location_key</th>\n",
       "        <th>crash_dump_key</th>\n",
       "        <th>day_key</th>\n",
       "    </tr>\n",
       "    <tr>\n",
       "        <td>1000</td>\n",
       "        <td>2</td>\n",
       "        <td>0</td>\n",
       "        <td>0</td>\n",
       "        <td>3</td>\n",
       "        <td>5</td>\n",
       "        <td>5</td>\n",
       "        <td>4</td>\n",
       "        <td>35</td>\n",
       "        <td>53620</td>\n",
       "        <td>8498</td>\n",
       "        <td>67735</td>\n",
       "    </tr>\n",
       "    <tr>\n",
       "        <td>1500</td>\n",
       "        <td>2</td>\n",
       "        <td>0</td>\n",
       "        <td>0</td>\n",
       "        <td>2</td>\n",
       "        <td>4</td>\n",
       "        <td>5</td>\n",
       "        <td>4</td>\n",
       "        <td>8</td>\n",
       "        <td>53618</td>\n",
       "        <td>11125</td>\n",
       "        <td>97222</td>\n",
       "    </tr>\n",
       "    <tr>\n",
       "        <td>1000</td>\n",
       "        <td>1</td>\n",
       "        <td>0</td>\n",
       "        <td>0</td>\n",
       "        <td>2</td>\n",
       "        <td>4</td>\n",
       "        <td>5</td>\n",
       "        <td>4</td>\n",
       "        <td>8</td>\n",
       "        <td>53615</td>\n",
       "        <td>9834</td>\n",
       "        <td>316870</td>\n",
       "    </tr>\n",
       "    <tr>\n",
       "        <td>500</td>\n",
       "        <td>2</td>\n",
       "        <td>0</td>\n",
       "        <td>0</td>\n",
       "        <td>2</td>\n",
       "        <td>4</td>\n",
       "        <td>15</td>\n",
       "        <td>2</td>\n",
       "        <td>8</td>\n",
       "        <td>53612</td>\n",
       "        <td>8694</td>\n",
       "        <td>145421</td>\n",
       "    </tr>\n",
       "    <tr>\n",
       "        <td>1000</td>\n",
       "        <td>2</td>\n",
       "        <td>0</td>\n",
       "        <td>0</td>\n",
       "        <td>2</td>\n",
       "        <td>4</td>\n",
       "        <td>16</td>\n",
       "        <td>2</td>\n",
       "        <td>8</td>\n",
       "        <td>53613</td>\n",
       "        <td>9884</td>\n",
       "        <td>196619</td>\n",
       "    </tr>\n",
       "</table>"
      ],
      "text/plain": [
       "[(Decimal('1000'), '2', '0', '0', 3, 5, 5, 4, 35, 53620, 8498, 67735),\n",
       " (Decimal('1500'), '2', '0', '0', 2, 4, 5, 4, 8, 53618, 11125, 97222),\n",
       " (Decimal('1000'), '1', '0', '0', 2, 4, 5, 4, 8, 53615, 9834, 316870),\n",
       " (Decimal('500'), '2', '0', '0', 2, 4, 15, 2, 8, 53612, 8694, 145421),\n",
       " (Decimal('1000'), '2', '0', '0', 2, 4, 16, 2, 8, 53613, 9884, 196619)]"
      ]
     },
     "execution_count": 3,
     "metadata": {},
     "output_type": "execute_result"
    }
   ],
   "source": [
    "%%sql\n",
    "select * from accidents\n",
    "limit 5;"
   ]
  },
  {
   "cell_type": "markdown",
   "metadata": {},
   "source": [
    "#### ---- A few basic results from the dataset"
   ]
  },
  {
   "cell_type": "code",
   "execution_count": 4,
   "metadata": {},
   "outputs": [],
   "source": [
    "# number of units involved in an accident"
   ]
  },
  {
   "cell_type": "code",
   "execution_count": 5,
   "metadata": {},
   "outputs": [
    {
     "name": "stdout",
     "output_type": "stream",
     "text": [
      " * postgresql://student@/dk\n",
      "15 rows affected.\n"
     ]
    },
    {
     "data": {
      "text/html": [
       "<table>\n",
       "    <tr>\n",
       "        <th>num_units</th>\n",
       "        <th>count</th>\n",
       "    </tr>\n",
       "    <tr>\n",
       "        <td>2</td>\n",
       "        <td>320946</td>\n",
       "    </tr>\n",
       "    <tr>\n",
       "        <td>1</td>\n",
       "        <td>19457</td>\n",
       "    </tr>\n",
       "    <tr>\n",
       "        <td>3</td>\n",
       "        <td>17370</td>\n",
       "    </tr>\n",
       "    <tr>\n",
       "        <td>4</td>\n",
       "        <td>3000</td>\n",
       "    </tr>\n",
       "    <tr>\n",
       "        <td></td>\n",
       "        <td>1305</td>\n",
       "    </tr>\n",
       "    <tr>\n",
       "        <td>5</td>\n",
       "        <td>688</td>\n",
       "    </tr>\n",
       "    <tr>\n",
       "        <td>6</td>\n",
       "        <td>177</td>\n",
       "    </tr>\n",
       "    <tr>\n",
       "        <td>7</td>\n",
       "        <td>69</td>\n",
       "    </tr>\n",
       "    <tr>\n",
       "        <td>8</td>\n",
       "        <td>25</td>\n",
       "    </tr>\n",
       "    <tr>\n",
       "        <td>9</td>\n",
       "        <td>10</td>\n",
       "    </tr>\n",
       "    <tr>\n",
       "        <td>10</td>\n",
       "        <td>8</td>\n",
       "    </tr>\n",
       "    <tr>\n",
       "        <td>11</td>\n",
       "        <td>2</td>\n",
       "    </tr>\n",
       "    <tr>\n",
       "        <td>12</td>\n",
       "        <td>2</td>\n",
       "    </tr>\n",
       "    <tr>\n",
       "        <td>16</td>\n",
       "        <td>1</td>\n",
       "    </tr>\n",
       "    <tr>\n",
       "        <td>18</td>\n",
       "        <td>1</td>\n",
       "    </tr>\n",
       "</table>"
      ],
      "text/plain": [
       "[('2', 320946),\n",
       " ('1', 19457),\n",
       " ('3', 17370),\n",
       " ('4', 3000),\n",
       " ('', 1305),\n",
       " ('5', 688),\n",
       " ('6', 177),\n",
       " ('7', 69),\n",
       " ('8', 25),\n",
       " ('9', 10),\n",
       " ('10', 8),\n",
       " ('11', 2),\n",
       " ('12', 2),\n",
       " ('16', 1),\n",
       " ('18', 1)]"
      ]
     },
     "execution_count": 5,
     "metadata": {},
     "output_type": "execute_result"
    }
   ],
   "source": [
    "%%sql\n",
    "select num_units,count(*) from accidents\n",
    "group by num_units\n",
    "order by count(*) desc;\n"
   ]
  },
  {
   "cell_type": "code",
   "execution_count": 6,
   "metadata": {},
   "outputs": [],
   "source": [
    "#majority of accidents involve 2 cars"
   ]
  },
  {
   "cell_type": "code",
   "execution_count": 7,
   "metadata": {},
   "outputs": [
    {
     "data": {
      "text/plain": [
       "<BarContainer object of 15 artists>"
      ]
     },
     "execution_count": 7,
     "metadata": {},
     "output_type": "execute_result"
    },
    {
     "data": {
      "image/png": "[encoded data removed]",
      "text/plain": [
       "<Figure size 432x288 with 1 Axes>"
      ]
     },
     "metadata": {
      "needs_background": "light"
     },
     "output_type": "display_data"
    }
   ],
   "source": [
    "%matplotlib inline\n",
    "_.bar()"
   ]
  },
  {
   "cell_type": "code",
   "execution_count": 8,
   "metadata": {},
   "outputs": [],
   "source": [
    "#number of crashes according to week days "
   ]
  },
  {
   "cell_type": "code",
   "execution_count": 9,
   "metadata": {},
   "outputs": [
    {
     "name": "stdout",
     "output_type": "stream",
     "text": [
      " * postgresql://student@/dk\n",
      "7 rows affected.\n"
     ]
    },
    {
     "data": {
      "text/html": [
       "<table>\n",
       "    <tr>\n",
       "        <th>crash_day_of_week</th>\n",
       "        <th>count</th>\n",
       "    </tr>\n",
       "    <tr>\n",
       "        <td>6</td>\n",
       "        <td>58752</td>\n",
       "    </tr>\n",
       "    <tr>\n",
       "        <td>7</td>\n",
       "        <td>52950</td>\n",
       "    </tr>\n",
       "    <tr>\n",
       "        <td>3</td>\n",
       "        <td>52829</td>\n",
       "    </tr>\n",
       "    <tr>\n",
       "        <td>5</td>\n",
       "        <td>52389</td>\n",
       "    </tr>\n",
       "    <tr>\n",
       "        <td>4</td>\n",
       "        <td>52056</td>\n",
       "    </tr>\n",
       "    <tr>\n",
       "        <td>2</td>\n",
       "        <td>50810</td>\n",
       "    </tr>\n",
       "    <tr>\n",
       "        <td>1</td>\n",
       "        <td>43275</td>\n",
       "    </tr>\n",
       "</table>"
      ],
      "text/plain": [
       "[('6', 58752),\n",
       " ('7', 52950),\n",
       " ('3', 52829),\n",
       " ('5', 52389),\n",
       " ('4', 52056),\n",
       " ('2', 50810),\n",
       " ('1', 43275)]"
      ]
     },
     "execution_count": 9,
     "metadata": {},
     "output_type": "execute_result"
    }
   ],
   "source": [
    "%%sql\n",
    "select crash_day_of_week,count(*) from day\n",
    "group by crash_day_of_week\n",
    "order by count(*) desc\n"
   ]
  },
  {
   "cell_type": "code",
   "execution_count": 10,
   "metadata": {},
   "outputs": [],
   "source": [
    "#number of crashes peak on friday\n",
    "#day 1 is sunday "
   ]
  },
  {
   "cell_type": "code",
   "execution_count": 11,
   "metadata": {},
   "outputs": [],
   "source": [
    "#we can take measures in friday i.e., weekend beinning to reduce the number of accidents"
   ]
  },
  {
   "cell_type": "code",
   "execution_count": 12,
   "metadata": {},
   "outputs": [
    {
     "data": {
      "text/plain": [
       "<BarContainer object of 7 artists>"
      ]
     },
     "execution_count": 12,
     "metadata": {},
     "output_type": "execute_result"
    },
    {
     "data": {
      "image/png": "[encoded data removed]",
      "text/plain": [
       "<Figure size 432x288 with 1 Axes>"
      ]
     },
     "metadata": {
      "needs_background": "light"
     },
     "output_type": "display_data"
    }
   ],
   "source": [
    "%matplotlib inline\n",
    "_.bar()"
   ]
  },
  {
   "cell_type": "code",
   "execution_count": 13,
   "metadata": {},
   "outputs": [],
   "source": [
    "#number of crashes on different months of the year"
   ]
  },
  {
   "cell_type": "code",
   "execution_count": 14,
   "metadata": {},
   "outputs": [
    {
     "name": "stdout",
     "output_type": "stream",
     "text": [
      " * postgresql://student@/dk\n",
      "12 rows affected.\n"
     ]
    },
    {
     "data": {
      "text/html": [
       "<table>\n",
       "    <tr>\n",
       "        <th>crash_month</th>\n",
       "        <th>count</th>\n",
       "    </tr>\n",
       "    <tr>\n",
       "        <td>1</td>\n",
       "        <td>25742</td>\n",
       "    </tr>\n",
       "    <tr>\n",
       "        <td>2</td>\n",
       "        <td>23952</td>\n",
       "    </tr>\n",
       "    <tr>\n",
       "        <td>3</td>\n",
       "        <td>27016</td>\n",
       "    </tr>\n",
       "    <tr>\n",
       "        <td>4</td>\n",
       "        <td>26942</td>\n",
       "    </tr>\n",
       "    <tr>\n",
       "        <td>5</td>\n",
       "        <td>30262</td>\n",
       "    </tr>\n",
       "    <tr>\n",
       "        <td>6</td>\n",
       "        <td>30254</td>\n",
       "    </tr>\n",
       "    <tr>\n",
       "        <td>7</td>\n",
       "        <td>30982</td>\n",
       "    </tr>\n",
       "    <tr>\n",
       "        <td>8</td>\n",
       "        <td>32641</td>\n",
       "    </tr>\n",
       "    <tr>\n",
       "        <td>9</td>\n",
       "        <td>34949</td>\n",
       "    </tr>\n",
       "    <tr>\n",
       "        <td>10</td>\n",
       "        <td>38028</td>\n",
       "    </tr>\n",
       "    <tr>\n",
       "        <td>11</td>\n",
       "        <td>34747</td>\n",
       "    </tr>\n",
       "    <tr>\n",
       "        <td>12</td>\n",
       "        <td>27546</td>\n",
       "    </tr>\n",
       "</table>"
      ],
      "text/plain": [
       "[(Decimal('1'), 25742),\n",
       " (Decimal('2'), 23952),\n",
       " (Decimal('3'), 27016),\n",
       " (Decimal('4'), 26942),\n",
       " (Decimal('5'), 30262),\n",
       " (Decimal('6'), 30254),\n",
       " (Decimal('7'), 30982),\n",
       " (Decimal('8'), 32641),\n",
       " (Decimal('9'), 34949),\n",
       " (Decimal('10'), 38028),\n",
       " (Decimal('11'), 34747),\n",
       " (Decimal('12'), 27546)]"
      ]
     },
     "execution_count": 14,
     "metadata": {},
     "output_type": "execute_result"
    }
   ],
   "source": [
    "%%sql\n",
    "select crash_month,count(*) from day\n",
    "group by crash_month\n",
    "order by crash_month;"
   ]
  },
  {
   "cell_type": "code",
   "execution_count": 15,
   "metadata": {},
   "outputs": [],
   "source": [
    "#october has he most accidents"
   ]
  },
  {
   "cell_type": "code",
   "execution_count": 16,
   "metadata": {},
   "outputs": [
    {
     "data": {
      "text/plain": [
       "<BarContainer object of 12 artists>"
      ]
     },
     "execution_count": 16,
     "metadata": {},
     "output_type": "execute_result"
    },
    {
     "data": {
      "image/png": "[encoded data removed]",
      "text/plain": [
       "<Figure size 432x288 with 1 Axes>"
      ]
     },
     "metadata": {
      "needs_background": "light"
     },
     "output_type": "display_data"
    }
   ],
   "source": [
    "%matplotlib inline\n",
    "_.bar()"
   ]
  },
  {
   "cell_type": "code",
   "execution_count": 17,
   "metadata": {},
   "outputs": [],
   "source": [
    "#equivalent command as we have all the rows in the day table beacuse our primary key rd_no is there we get the same result"
   ]
  },
  {
   "cell_type": "code",
   "execution_count": 18,
   "metadata": {},
   "outputs": [
    {
     "name": "stdout",
     "output_type": "stream",
     "text": [
      " * postgresql://student@/dk\n",
      "12 rows affected.\n"
     ]
    },
    {
     "data": {
      "text/html": [
       "<table>\n",
       "    <tr>\n",
       "        <th>crash_month</th>\n",
       "        <th>count</th>\n",
       "    </tr>\n",
       "    <tr>\n",
       "        <td>1</td>\n",
       "        <td>25742</td>\n",
       "    </tr>\n",
       "    <tr>\n",
       "        <td>2</td>\n",
       "        <td>23952</td>\n",
       "    </tr>\n",
       "    <tr>\n",
       "        <td>3</td>\n",
       "        <td>27016</td>\n",
       "    </tr>\n",
       "    <tr>\n",
       "        <td>4</td>\n",
       "        <td>26942</td>\n",
       "    </tr>\n",
       "    <tr>\n",
       "        <td>5</td>\n",
       "        <td>30262</td>\n",
       "    </tr>\n",
       "    <tr>\n",
       "        <td>6</td>\n",
       "        <td>30254</td>\n",
       "    </tr>\n",
       "    <tr>\n",
       "        <td>7</td>\n",
       "        <td>30982</td>\n",
       "    </tr>\n",
       "    <tr>\n",
       "        <td>8</td>\n",
       "        <td>32641</td>\n",
       "    </tr>\n",
       "    <tr>\n",
       "        <td>9</td>\n",
       "        <td>34949</td>\n",
       "    </tr>\n",
       "    <tr>\n",
       "        <td>10</td>\n",
       "        <td>38028</td>\n",
       "    </tr>\n",
       "    <tr>\n",
       "        <td>11</td>\n",
       "        <td>34747</td>\n",
       "    </tr>\n",
       "    <tr>\n",
       "        <td>12</td>\n",
       "        <td>27546</td>\n",
       "    </tr>\n",
       "</table>"
      ],
      "text/plain": [
       "[(Decimal('1'), 25742),\n",
       " (Decimal('2'), 23952),\n",
       " (Decimal('3'), 27016),\n",
       " (Decimal('4'), 26942),\n",
       " (Decimal('5'), 30262),\n",
       " (Decimal('6'), 30254),\n",
       " (Decimal('7'), 30982),\n",
       " (Decimal('8'), 32641),\n",
       " (Decimal('9'), 34949),\n",
       " (Decimal('10'), 38028),\n",
       " (Decimal('11'), 34747),\n",
       " (Decimal('12'), 27546)]"
      ]
     },
     "execution_count": 18,
     "metadata": {},
     "output_type": "execute_result"
    }
   ],
   "source": [
    "%%sql\n",
    "select day.crash_month, count(*)\n",
    "from day, accidents\n",
    "where day.key = accidents.day_key\n",
    "group by crash_month\n",
    "order by crash_month"
   ]
  },
  {
   "cell_type": "code",
   "execution_count": 19,
   "metadata": {},
   "outputs": [],
   "source": [
    "## find the crash counts by location \n",
    "## that is relsted to location\n",
    "## just to add on this we can find average accidents , average accidents by location and compare to find of a location has higher number of accidents.\n",
    "\n",
    "## later we can investigate that location for traffic device and device condition in that location.\n",
    "## we can do this for one location . "
   ]
  },
  {
   "cell_type": "markdown",
   "metadata": {},
   "source": [
    "### Q1. Crash Counts by Location with Furthur Exploration"
   ]
  },
  {
   "cell_type": "markdown",
   "metadata": {},
   "source": [
    "##### Ranking locations by number of accidents"
   ]
  },
  {
   "cell_type": "code",
   "execution_count": 20,
   "metadata": {},
   "outputs": [
    {
     "name": "stdout",
     "output_type": "stream",
     "text": [
      " * postgresql://student@/dk\n",
      "20 rows affected.\n"
     ]
    },
    {
     "data": {
      "text/html": [
       "<table>\n",
       "    <tr>\n",
       "        <th>street_name</th>\n",
       "        <th>street_direction</th>\n",
       "        <th>street_no</th>\n",
       "        <th>count</th>\n",
       "    </tr>\n",
       "    <tr>\n",
       "        <td>OHARE ST</td>\n",
       "        <td>W</td>\n",
       "        <td>10000</td>\n",
       "        <td>443</td>\n",
       "    </tr>\n",
       "    <tr>\n",
       "        <td>LAKE SHORE DR</td>\n",
       "        <td>S</td>\n",
       "        <td>5700</td>\n",
       "        <td>230</td>\n",
       "    </tr>\n",
       "    <tr>\n",
       "        <td>STONY ISLAND AVE</td>\n",
       "        <td>S</td>\n",
       "        <td>7900</td>\n",
       "        <td>229</td>\n",
       "    </tr>\n",
       "    <tr>\n",
       "        <td>STONY ISLAND AVE</td>\n",
       "        <td>S</td>\n",
       "        <td>9500</td>\n",
       "        <td>199</td>\n",
       "    </tr>\n",
       "    <tr>\n",
       "        <td>CICERO AVE</td>\n",
       "        <td>S</td>\n",
       "        <td>7601</td>\n",
       "        <td>183</td>\n",
       "    </tr>\n",
       "    <tr>\n",
       "        <td>CICERO AVE</td>\n",
       "        <td>S</td>\n",
       "        <td>5700</td>\n",
       "        <td>182</td>\n",
       "    </tr>\n",
       "    <tr>\n",
       "        <td>LAKE SHORE DR SB</td>\n",
       "        <td>N</td>\n",
       "        <td>1000</td>\n",
       "        <td>137</td>\n",
       "    </tr>\n",
       "    <tr>\n",
       "        <td>STEWART AVE</td>\n",
       "        <td>S</td>\n",
       "        <td>8331</td>\n",
       "        <td>134</td>\n",
       "    </tr>\n",
       "    <tr>\n",
       "        <td>87TH ST</td>\n",
       "        <td>W</td>\n",
       "        <td>112</td>\n",
       "        <td>131</td>\n",
       "    </tr>\n",
       "    <tr>\n",
       "        <td>CICERO AVE</td>\n",
       "        <td>S</td>\n",
       "        <td>5500</td>\n",
       "        <td>128</td>\n",
       "    </tr>\n",
       "    <tr>\n",
       "        <td>GRAND AVE</td>\n",
       "        <td>E</td>\n",
       "        <td>600</td>\n",
       "        <td>125</td>\n",
       "    </tr>\n",
       "    <tr>\n",
       "        <td>HALSTED ST</td>\n",
       "        <td>S</td>\n",
       "        <td>9900</td>\n",
       "        <td>121</td>\n",
       "    </tr>\n",
       "    <tr>\n",
       "        <td>TERMINAL ST</td>\n",
       "        <td>W</td>\n",
       "        <td>3</td>\n",
       "        <td>119</td>\n",
       "    </tr>\n",
       "    <tr>\n",
       "        <td>MADISON ST</td>\n",
       "        <td>W</td>\n",
       "        <td>500</td>\n",
       "        <td>119</td>\n",
       "    </tr>\n",
       "    <tr>\n",
       "        <td>STATE ST</td>\n",
       "        <td>S</td>\n",
       "        <td>8700</td>\n",
       "        <td>118</td>\n",
       "    </tr>\n",
       "    <tr>\n",
       "        <td>SOUTH SHORE DR</td>\n",
       "        <td>S</td>\n",
       "        <td>6700</td>\n",
       "        <td>117</td>\n",
       "    </tr>\n",
       "    <tr>\n",
       "        <td>CICERO AVE</td>\n",
       "        <td>S</td>\n",
       "        <td>6300</td>\n",
       "        <td>116</td>\n",
       "    </tr>\n",
       "    <tr>\n",
       "        <td>STATE ST</td>\n",
       "        <td>S</td>\n",
       "        <td>6300</td>\n",
       "        <td>113</td>\n",
       "    </tr>\n",
       "    <tr>\n",
       "        <td>LAKE SHORE DR</td>\n",
       "        <td>N</td>\n",
       "        <td>1000</td>\n",
       "        <td>109</td>\n",
       "    </tr>\n",
       "    <tr>\n",
       "        <td>LAKE SHORE DR NB</td>\n",
       "        <td>N</td>\n",
       "        <td>1000</td>\n",
       "        <td>107</td>\n",
       "    </tr>\n",
       "</table>"
      ],
      "text/plain": [
       "[('OHARE ST', 'W', '10000', 443),\n",
       " ('LAKE SHORE DR', 'S', '5700', 230),\n",
       " ('STONY ISLAND AVE', 'S', '7900', 229),\n",
       " ('STONY ISLAND AVE', 'S', '9500', 199),\n",
       " ('CICERO AVE', 'S', '7601', 183),\n",
       " ('CICERO AVE', 'S', '5700', 182),\n",
       " ('LAKE SHORE DR SB', 'N', '1000', 137),\n",
       " ('STEWART AVE', 'S', '8331', 134),\n",
       " ('87TH ST', 'W', '112', 131),\n",
       " ('CICERO AVE', 'S', '5500', 128),\n",
       " ('GRAND AVE', 'E', '600', 125),\n",
       " ('HALSTED ST', 'S', '9900', 121),\n",
       " ('TERMINAL ST', 'W', '3', 119),\n",
       " ('MADISON ST', 'W', '500', 119),\n",
       " ('STATE ST', 'S', '8700', 118),\n",
       " ('SOUTH SHORE DR', 'S', '6700', 117),\n",
       " ('CICERO AVE', 'S', '6300', 116),\n",
       " ('STATE ST', 'S', '6300', 113),\n",
       " ('LAKE SHORE DR', 'N', '1000', 109),\n",
       " ('LAKE SHORE DR NB', 'N', '1000', 107)]"
      ]
     },
     "execution_count": 20,
     "metadata": {},
     "output_type": "execute_result"
    }
   ],
   "source": [
    "%%sql\n",
    "select street_name,street_direction,street_no,count(*)\n",
    "from(\n",
    "select location.street_name,location.street_direction,location.street_no,accidents.location_key\n",
    "from accidents, location\n",
    "where location.key=accidents.location_key) as t\n",
    "group by street_name,street_direction,street_no\n",
    "order by count(*) desc\n",
    "limit 20"
   ]
  },
  {
   "cell_type": "code",
   "execution_count": 21,
   "metadata": {},
   "outputs": [],
   "source": [
    "#from above, we can find that OHARE ST\tW\t10000 has a larger number than all other location,\n",
    "#we can look into the geometry of the streets the deivce condition or other factors, thereby finding the right reason and working on it will reduce the accidents"
   ]
  },
  {
   "cell_type": "code",
   "execution_count": 22,
   "metadata": {},
   "outputs": [],
   "source": [
    "from IPython.display import Image"
   ]
  },
  {
   "cell_type": "code",
   "execution_count": 23,
   "metadata": {},
   "outputs": [
    {
     "data": {
      "text/html": [
       "<img src=\"https://gwu-workshop-verma-2019.s3.amazonaws.com/Screen+Shot+2019-11-27+at+7.07.55+PM.png\"/>"
      ],
      "text/plain": [
       "<IPython.core.display.Image object>"
      ]
     },
     "execution_count": 23,
     "metadata": {},
     "output_type": "execute_result"
    }
   ],
   "source": [
    "Image(url='https://gwu-workshop-verma-2019.s3.amazonaws.com/Screen+Shot+2019-11-27+at+7.07.55+PM.png')"
   ]
  },
  {
   "cell_type": "code",
   "execution_count": 24,
   "metadata": {},
   "outputs": [
    {
     "name": "stdout",
     "output_type": "stream",
     "text": [
      " * postgresql://student@/dk\n",
      "50 rows affected.\n"
     ]
    },
    {
     "data": {
      "text/html": [
       "<table>\n",
       "    <tr>\n",
       "        <th>beat_of_occurrence</th>\n",
       "        <th>street_name</th>\n",
       "        <th>street_direction</th>\n",
       "        <th>street_no</th>\n",
       "        <th>count</th>\n",
       "        <th>total</th>\n",
       "        <th>rank</th>\n",
       "    </tr>\n",
       "    <tr>\n",
       "        <td>1834</td>\n",
       "        <td>GRAND AVE</td>\n",
       "        <td>E</td>\n",
       "        <td>600</td>\n",
       "        <td>125</td>\n",
       "        <td>5353</td>\n",
       "        <td>1</td>\n",
       "    </tr>\n",
       "    <tr>\n",
       "        <td>1834</td>\n",
       "        <td>MICHIGAN AVE</td>\n",
       "        <td>N</td>\n",
       "        <td>600</td>\n",
       "        <td>82</td>\n",
       "        <td>5353</td>\n",
       "        <td>2</td>\n",
       "    </tr>\n",
       "    <tr>\n",
       "        <td>1834</td>\n",
       "        <td>MICHIGAN AVE</td>\n",
       "        <td>N</td>\n",
       "        <td>500</td>\n",
       "        <td>44</td>\n",
       "        <td>5353</td>\n",
       "        <td>4</td>\n",
       "    </tr>\n",
       "    <tr>\n",
       "        <td>1834</td>\n",
       "        <td>LAKE SHORE DR NB</td>\n",
       "        <td>N</td>\n",
       "        <td>500</td>\n",
       "        <td>42</td>\n",
       "        <td>5353</td>\n",
       "        <td>5</td>\n",
       "    </tr>\n",
       "    <tr>\n",
       "        <td>1834</td>\n",
       "        <td>LAKE SHORE DR</td>\n",
       "        <td>N</td>\n",
       "        <td>500</td>\n",
       "        <td>59</td>\n",
       "        <td>5353</td>\n",
       "        <td>3</td>\n",
       "    </tr>\n",
       "    <tr>\n",
       "        <td>114</td>\n",
       "        <td>LAKE SHORE DR SB</td>\n",
       "        <td>S</td>\n",
       "        <td>100</td>\n",
       "        <td>78</td>\n",
       "        <td>4353</td>\n",
       "        <td>2</td>\n",
       "    </tr>\n",
       "    <tr>\n",
       "        <td>114</td>\n",
       "        <td>CONGRESS DR</td>\n",
       "        <td>E</td>\n",
       "        <td>100</td>\n",
       "        <td>49</td>\n",
       "        <td>4353</td>\n",
       "        <td>5</td>\n",
       "    </tr>\n",
       "    <tr>\n",
       "        <td>114</td>\n",
       "        <td>LAKE SHORE DR NB</td>\n",
       "        <td>S</td>\n",
       "        <td>100</td>\n",
       "        <td>49</td>\n",
       "        <td>4353</td>\n",
       "        <td>5</td>\n",
       "    </tr>\n",
       "    <tr>\n",
       "        <td>114</td>\n",
       "        <td>LAKE SHORE DR E</td>\n",
       "        <td>S</td>\n",
       "        <td>700</td>\n",
       "        <td>52</td>\n",
       "        <td>4353</td>\n",
       "        <td>4</td>\n",
       "    </tr>\n",
       "    <tr>\n",
       "        <td>114</td>\n",
       "        <td>LAKE SHORE DR SB</td>\n",
       "        <td>S</td>\n",
       "        <td>300</td>\n",
       "        <td>53</td>\n",
       "        <td>4353</td>\n",
       "        <td>3</td>\n",
       "    </tr>\n",
       "    <tr>\n",
       "        <td>114</td>\n",
       "        <td>LAKE SHORE DR NB</td>\n",
       "        <td>S</td>\n",
       "        <td>300</td>\n",
       "        <td>83</td>\n",
       "        <td>4353</td>\n",
       "        <td>1</td>\n",
       "    </tr>\n",
       "    <tr>\n",
       "        <td>122</td>\n",
       "        <td>WACKER DR</td>\n",
       "        <td>S</td>\n",
       "        <td>200</td>\n",
       "        <td>34</td>\n",
       "        <td>4306</td>\n",
       "        <td>3</td>\n",
       "    </tr>\n",
       "    <tr>\n",
       "        <td>122</td>\n",
       "        <td>WACKER DR</td>\n",
       "        <td>S</td>\n",
       "        <td>100</td>\n",
       "        <td>31</td>\n",
       "        <td>4306</td>\n",
       "        <td>5</td>\n",
       "    </tr>\n",
       "    <tr>\n",
       "        <td>122</td>\n",
       "        <td>LA SALLE ST</td>\n",
       "        <td>N</td>\n",
       "        <td>121</td>\n",
       "        <td>31</td>\n",
       "        <td>4306</td>\n",
       "        <td>5</td>\n",
       "    </tr>\n",
       "    <tr>\n",
       "        <td>122</td>\n",
       "        <td>WACKER DR</td>\n",
       "        <td>W</td>\n",
       "        <td>150</td>\n",
       "        <td>35</td>\n",
       "        <td>4306</td>\n",
       "        <td>2</td>\n",
       "    </tr>\n",
       "    <tr>\n",
       "        <td>122</td>\n",
       "        <td>MADISON ST</td>\n",
       "        <td>W</td>\n",
       "        <td>200</td>\n",
       "        <td>32</td>\n",
       "        <td>4306</td>\n",
       "        <td>4</td>\n",
       "    </tr>\n",
       "    <tr>\n",
       "        <td>122</td>\n",
       "        <td>WACKER DR</td>\n",
       "        <td>N</td>\n",
       "        <td>150</td>\n",
       "        <td>48</td>\n",
       "        <td>4306</td>\n",
       "        <td>1</td>\n",
       "    </tr>\n",
       "    <tr>\n",
       "        <td>1831</td>\n",
       "        <td>ONTARIO ST</td>\n",
       "        <td>W</td>\n",
       "        <td>340</td>\n",
       "        <td>53</td>\n",
       "        <td>4277</td>\n",
       "        <td>1</td>\n",
       "    </tr>\n",
       "    <tr>\n",
       "        <td>1831</td>\n",
       "        <td>ONTARIO ST</td>\n",
       "        <td>W</td>\n",
       "        <td>336</td>\n",
       "        <td>47</td>\n",
       "        <td>4277</td>\n",
       "        <td>3</td>\n",
       "    </tr>\n",
       "    <tr>\n",
       "        <td>1831</td>\n",
       "        <td>ORLEANS ST</td>\n",
       "        <td>N</td>\n",
       "        <td>600</td>\n",
       "        <td>46</td>\n",
       "        <td>4277</td>\n",
       "        <td>4</td>\n",
       "    </tr>\n",
       "    <tr>\n",
       "        <td>1831</td>\n",
       "        <td>LA SALLE DR</td>\n",
       "        <td>N</td>\n",
       "        <td>300</td>\n",
       "        <td>51</td>\n",
       "        <td>4277</td>\n",
       "        <td>2</td>\n",
       "    </tr>\n",
       "    <tr>\n",
       "        <td>1831</td>\n",
       "        <td>ONTARIO ST</td>\n",
       "        <td>W</td>\n",
       "        <td>200</td>\n",
       "        <td>39</td>\n",
       "        <td>4277</td>\n",
       "        <td>5</td>\n",
       "    </tr>\n",
       "    <tr>\n",
       "        <td>813</td>\n",
       "        <td>PULASKI RD</td>\n",
       "        <td>S</td>\n",
       "        <td>5900</td>\n",
       "        <td>105</td>\n",
       "        <td>3666</td>\n",
       "        <td>4</td>\n",
       "    </tr>\n",
       "    <tr>\n",
       "        <td>813</td>\n",
       "        <td>PULASKI RD</td>\n",
       "        <td>S</td>\n",
       "        <td>5500</td>\n",
       "        <td>94</td>\n",
       "        <td>3666</td>\n",
       "        <td>5</td>\n",
       "    </tr>\n",
       "    <tr>\n",
       "        <td>813</td>\n",
       "        <td>CICERO AVE</td>\n",
       "        <td>S</td>\n",
       "        <td>6300</td>\n",
       "        <td>116</td>\n",
       "        <td>3666</td>\n",
       "        <td>3</td>\n",
       "    </tr>\n",
       "    <tr>\n",
       "        <td>813</td>\n",
       "        <td>CICERO AVE</td>\n",
       "        <td>S</td>\n",
       "        <td>5500</td>\n",
       "        <td>128</td>\n",
       "        <td>3666</td>\n",
       "        <td>2</td>\n",
       "    </tr>\n",
       "    <tr>\n",
       "        <td>813</td>\n",
       "        <td>CICERO AVE</td>\n",
       "        <td>S</td>\n",
       "        <td>5700</td>\n",
       "        <td>182</td>\n",
       "        <td>3666</td>\n",
       "        <td>1</td>\n",
       "    </tr>\n",
       "    <tr>\n",
       "        <td>815</td>\n",
       "        <td>PULASKI RD</td>\n",
       "        <td>S</td>\n",
       "        <td>5100</td>\n",
       "        <td>62</td>\n",
       "        <td>3489</td>\n",
       "        <td>2</td>\n",
       "    </tr>\n",
       "    <tr>\n",
       "        <td>815</td>\n",
       "        <td>PULASKI RD</td>\n",
       "        <td>S</td>\n",
       "        <td>4100</td>\n",
       "        <td>59</td>\n",
       "        <td>3489</td>\n",
       "        <td>3</td>\n",
       "    </tr>\n",
       "    <tr>\n",
       "        <td>815</td>\n",
       "        <td>PULASKI RD</td>\n",
       "        <td>S</td>\n",
       "        <td>5300</td>\n",
       "        <td>54</td>\n",
       "        <td>3489</td>\n",
       "        <td>4</td>\n",
       "    </tr>\n",
       "    <tr>\n",
       "        <td>815</td>\n",
       "        <td>PULASKI RD</td>\n",
       "        <td>S</td>\n",
       "        <td>4300</td>\n",
       "        <td>54</td>\n",
       "        <td>3489</td>\n",
       "        <td>4</td>\n",
       "    </tr>\n",
       "    <tr>\n",
       "        <td>815</td>\n",
       "        <td>PULASKI RD</td>\n",
       "        <td>S</td>\n",
       "        <td>4700</td>\n",
       "        <td>77</td>\n",
       "        <td>3489</td>\n",
       "        <td>1</td>\n",
       "    </tr>\n",
       "    <tr>\n",
       "        <td>833</td>\n",
       "        <td>PULASKI RD</td>\n",
       "        <td>S</td>\n",
       "        <td>7100</td>\n",
       "        <td>69</td>\n",
       "        <td>2975</td>\n",
       "        <td>2</td>\n",
       "    </tr>\n",
       "    <tr>\n",
       "        <td>833</td>\n",
       "        <td>CICERO AVE</td>\n",
       "        <td>S</td>\n",
       "        <td>7601</td>\n",
       "        <td>183</td>\n",
       "        <td>2975</td>\n",
       "        <td>1</td>\n",
       "    </tr>\n",
       "    <tr>\n",
       "        <td>833</td>\n",
       "        <td>CICERO AVE</td>\n",
       "        <td>S</td>\n",
       "        <td>6701</td>\n",
       "        <td>65</td>\n",
       "        <td>2975</td>\n",
       "        <td>3</td>\n",
       "    </tr>\n",
       "    <tr>\n",
       "        <td>833</td>\n",
       "        <td>CICERO AVE</td>\n",
       "        <td>S</td>\n",
       "        <td>7301</td>\n",
       "        <td>65</td>\n",
       "        <td>2975</td>\n",
       "        <td>3</td>\n",
       "    </tr>\n",
       "    <tr>\n",
       "        <td>833</td>\n",
       "        <td>PULASKI RD</td>\n",
       "        <td>S</td>\n",
       "        <td>6700</td>\n",
       "        <td>63</td>\n",
       "        <td>2975</td>\n",
       "        <td>5</td>\n",
       "    </tr>\n",
       "    <tr>\n",
       "        <td>2413</td>\n",
       "        <td>PETERSON AVE</td>\n",
       "        <td>W</td>\n",
       "        <td>2112</td>\n",
       "        <td>54</td>\n",
       "        <td>2857</td>\n",
       "        <td>1</td>\n",
       "    </tr>\n",
       "    <tr>\n",
       "        <td>2413</td>\n",
       "        <td>PETERSON AVE</td>\n",
       "        <td>W</td>\n",
       "        <td>1800</td>\n",
       "        <td>33</td>\n",
       "        <td>2857</td>\n",
       "        <td>4</td>\n",
       "    </tr>\n",
       "    <tr>\n",
       "        <td>2413</td>\n",
       "        <td>WESTERN AVE</td>\n",
       "        <td>N</td>\n",
       "        <td>6200</td>\n",
       "        <td>32</td>\n",
       "        <td>2857</td>\n",
       "        <td>5</td>\n",
       "    </tr>\n",
       "    <tr>\n",
       "        <td>2413</td>\n",
       "        <td>DEVON AVE</td>\n",
       "        <td>W</td>\n",
       "        <td>3201</td>\n",
       "        <td>46</td>\n",
       "        <td>2857</td>\n",
       "        <td>2</td>\n",
       "    </tr>\n",
       "    <tr>\n",
       "        <td>2413</td>\n",
       "        <td>WESTERN AVE</td>\n",
       "        <td>N</td>\n",
       "        <td>6000</td>\n",
       "        <td>40</td>\n",
       "        <td>2857</td>\n",
       "        <td>3</td>\n",
       "    </tr>\n",
       "    <tr>\n",
       "        <td>1232</td>\n",
       "        <td>RUBLE ST</td>\n",
       "        <td>S</td>\n",
       "        <td>1200</td>\n",
       "        <td>73</td>\n",
       "        <td>2836</td>\n",
       "        <td>1</td>\n",
       "    </tr>\n",
       "    <tr>\n",
       "        <td>1232</td>\n",
       "        <td>ROOSEVELT RD</td>\n",
       "        <td>W</td>\n",
       "        <td>700</td>\n",
       "        <td>48</td>\n",
       "        <td>2836</td>\n",
       "        <td>2</td>\n",
       "    </tr>\n",
       "    <tr>\n",
       "        <td>1232</td>\n",
       "        <td>ROOSEVELT RD</td>\n",
       "        <td>W</td>\n",
       "        <td>653</td>\n",
       "        <td>26</td>\n",
       "        <td>2836</td>\n",
       "        <td>4</td>\n",
       "    </tr>\n",
       "    <tr>\n",
       "        <td>1232</td>\n",
       "        <td>HALSTED ST</td>\n",
       "        <td>S</td>\n",
       "        <td>40</td>\n",
       "        <td>26</td>\n",
       "        <td>2836</td>\n",
       "        <td>4</td>\n",
       "    </tr>\n",
       "    <tr>\n",
       "        <td>1232</td>\n",
       "        <td>ROOSEVELT RD</td>\n",
       "        <td>W</td>\n",
       "        <td>800</td>\n",
       "        <td>27</td>\n",
       "        <td>2836</td>\n",
       "        <td>3</td>\n",
       "    </tr>\n",
       "    <tr>\n",
       "        <td>1833</td>\n",
       "        <td>LAKE SHORE DR SB</td>\n",
       "        <td>N</td>\n",
       "        <td>800</td>\n",
       "        <td>65</td>\n",
       "        <td>2721</td>\n",
       "        <td>4</td>\n",
       "    </tr>\n",
       "    <tr>\n",
       "        <td>1833</td>\n",
       "        <td>LAKE SHORE DR</td>\n",
       "        <td>N</td>\n",
       "        <td>800</td>\n",
       "        <td>91</td>\n",
       "        <td>2721</td>\n",
       "        <td>1</td>\n",
       "    </tr>\n",
       "    <tr>\n",
       "        <td>1833</td>\n",
       "        <td>LAKE SHORE DR SB</td>\n",
       "        <td>N</td>\n",
       "        <td>900</td>\n",
       "        <td>40</td>\n",
       "        <td>2721</td>\n",
       "        <td>5</td>\n",
       "    </tr>\n",
       "</table>"
      ],
      "text/plain": [
       "[('1834', 'GRAND AVE', 'E', '600', 125, Decimal('5353'), 1),\n",
       " ('1834', 'MICHIGAN AVE', 'N', '600', 82, Decimal('5353'), 2),\n",
       " ('1834', 'MICHIGAN AVE', 'N', '500', 44, Decimal('5353'), 4),\n",
       " ('1834', 'LAKE SHORE DR NB', 'N', '500', 42, Decimal('5353'), 5),\n",
       " ('1834', 'LAKE SHORE DR', 'N', '500', 59, Decimal('5353'), 3),\n",
       " ('114', 'LAKE SHORE DR SB', 'S', '100', 78, Decimal('4353'), 2),\n",
       " ('114', 'CONGRESS DR', 'E', '100', 49, Decimal('4353'), 5),\n",
       " ('114', 'LAKE SHORE DR NB', 'S', '100', 49, Decimal('4353'), 5),\n",
       " ('114', 'LAKE SHORE DR E', 'S', '700', 52, Decimal('4353'), 4),\n",
       " ('114', 'LAKE SHORE DR SB', 'S', '300', 53, Decimal('4353'), 3),\n",
       " ('114', 'LAKE SHORE DR NB', 'S', '300', 83, Decimal('4353'), 1),\n",
       " ('122', 'WACKER DR', 'S', '200', 34, Decimal('4306'), 3),\n",
       " ('122', 'WACKER DR', 'S', '100', 31, Decimal('4306'), 5),\n",
       " ('122', 'LA SALLE ST', 'N', '121', 31, Decimal('4306'), 5),\n",
       " ('122', 'WACKER DR', 'W', '150', 35, Decimal('4306'), 2),\n",
       " ('122', 'MADISON ST', 'W', '200', 32, Decimal('4306'), 4),\n",
       " ('122', 'WACKER DR', 'N', '150', 48, Decimal('4306'), 1),\n",
       " ('1831', 'ONTARIO ST', 'W', '340', 53, Decimal('4277'), 1),\n",
       " ('1831', 'ONTARIO ST', 'W', '336', 47, Decimal('4277'), 3),\n",
       " ('1831', 'ORLEANS ST', 'N', '600', 46, Decimal('4277'), 4),\n",
       " ('1831', 'LA SALLE DR', 'N', '300', 51, Decimal('4277'), 2),\n",
       " ('1831', 'ONTARIO ST', 'W', '200', 39, Decimal('4277'), 5),\n",
       " ('813', 'PULASKI RD', 'S', '5900', 105, Decimal('3666'), 4),\n",
       " ('813', 'PULASKI RD', 'S', '5500', 94, Decimal('3666'), 5),\n",
       " ('813', 'CICERO AVE', 'S', '6300', 116, Decimal('3666'), 3),\n",
       " ('813', 'CICERO AVE', 'S', '5500', 128, Decimal('3666'), 2),\n",
       " ('813', 'CICERO AVE', 'S', '5700', 182, Decimal('3666'), 1),\n",
       " ('815', 'PULASKI RD', 'S', '5100', 62, Decimal('3489'), 2),\n",
       " ('815', 'PULASKI RD', 'S', '4100', 59, Decimal('3489'), 3),\n",
       " ('815', 'PULASKI RD', 'S', '5300', 54, Decimal('3489'), 4),\n",
       " ('815', 'PULASKI RD', 'S', '4300', 54, Decimal('3489'), 4),\n",
       " ('815', 'PULASKI RD', 'S', '4700', 77, Decimal('3489'), 1),\n",
       " ('833', 'PULASKI RD', 'S', '7100', 69, Decimal('2975'), 2),\n",
       " ('833', 'CICERO AVE', 'S', '7601', 183, Decimal('2975'), 1),\n",
       " ('833', 'CICERO AVE', 'S', '6701', 65, Decimal('2975'), 3),\n",
       " ('833', 'CICERO AVE', 'S', '7301', 65, Decimal('2975'), 3),\n",
       " ('833', 'PULASKI RD', 'S', '6700', 63, Decimal('2975'), 5),\n",
       " ('2413', 'PETERSON AVE', 'W', '2112', 54, Decimal('2857'), 1),\n",
       " ('2413', 'PETERSON AVE', 'W', '1800', 33, Decimal('2857'), 4),\n",
       " ('2413', 'WESTERN AVE', 'N', '6200', 32, Decimal('2857'), 5),\n",
       " ('2413', 'DEVON AVE', 'W', '3201', 46, Decimal('2857'), 2),\n",
       " ('2413', 'WESTERN AVE', 'N', '6000', 40, Decimal('2857'), 3),\n",
       " ('1232', 'RUBLE ST', 'S', '1200', 73, Decimal('2836'), 1),\n",
       " ('1232', 'ROOSEVELT RD', 'W', '700', 48, Decimal('2836'), 2),\n",
       " ('1232', 'ROOSEVELT RD', 'W', '653', 26, Decimal('2836'), 4),\n",
       " ('1232', 'HALSTED ST', 'S', '40', 26, Decimal('2836'), 4),\n",
       " ('1232', 'ROOSEVELT RD', 'W', '800', 27, Decimal('2836'), 3),\n",
       " ('1833', 'LAKE SHORE DR SB', 'N', '800', 65, Decimal('2721'), 4),\n",
       " ('1833', 'LAKE SHORE DR', 'N', '800', 91, Decimal('2721'), 1),\n",
       " ('1833', 'LAKE SHORE DR SB', 'N', '900', 40, Decimal('2721'), 5)]"
      ]
     },
     "execution_count": 24,
     "metadata": {},
     "output_type": "execute_result"
    }
   ],
   "source": [
    "%%sql\n",
    "select * from(\n",
    "select n.beat_of_occurrence,n.street_name,n.street_direction,n.street_no,count(*), SUM(count(*)) over(Partition BY n.beat_of_occurrence) as total,rank()\n",
    "over(Partition BY n.beat_of_occurrence ORDER BY count(*) DESC) as rank\n",
    "    \n",
    "from(\n",
    "select beat_of_occurrence,street_name,street_direction,street_no,key,location_key\n",
    "from accidents, location\n",
    "where location.key=accidents.location_key\n",
    ") as n\n",
    "    \n",
    "group by n.beat_of_occurrence,n.street_name,n.street_direction,n.street_no\n",
    ") as m\n",
    "where rank<6\n",
    "order by total desc\n",
    "limit 50;"
   ]
  },
  {
   "cell_type": "code",
   "execution_count": null,
   "metadata": {},
   "outputs": [],
   "source": [
    "#ranked for 5 locations based on total division on locations available"
   ]
  },
  {
   "cell_type": "code",
   "execution_count": 25,
   "metadata": {},
   "outputs": [],
   "source": [
    "# same as above but we have the beat of occurance also included that makes the detection of location easier\n",
    "#also adding each location under that by rank i.e., restricted to top 6"
   ]
  },
  {
   "cell_type": "code",
   "execution_count": 26,
   "metadata": {},
   "outputs": [],
   "source": [
    "#so the top 3 beats are 1834,114 and 112"
   ]
  },
  {
   "cell_type": "markdown",
   "metadata": {},
   "source": [
    "##### Top 3 beats with device condition analysis"
   ]
  },
  {
   "cell_type": "code",
   "execution_count": 27,
   "metadata": {},
   "outputs": [
    {
     "name": "stdout",
     "output_type": "stream",
     "text": [
      " * postgresql://student@/dk\n",
      "11 rows affected.\n"
     ]
    },
    {
     "data": {
      "text/html": [
       "<table>\n",
       "    <tr>\n",
       "        <th>beat_of_occurrence</th>\n",
       "        <th>device_condition</th>\n",
       "        <th>percentage</th>\n",
       "    </tr>\n",
       "    <tr>\n",
       "        <td>114</td>\n",
       "        <td>FUNCTIONING PROPERLY</td>\n",
       "        <td>0.51</td>\n",
       "    </tr>\n",
       "    <tr>\n",
       "        <td>114</td>\n",
       "        <td>NO CONTROLS</td>\n",
       "        <td>0.43</td>\n",
       "    </tr>\n",
       "    <tr>\n",
       "        <td>114</td>\n",
       "        <td>UNKNOWN</td>\n",
       "        <td>0.05</td>\n",
       "    </tr>\n",
       "    <tr>\n",
       "        <td>114</td>\n",
       "        <td>FUNCTIONING IMPROPERLY</td>\n",
       "        <td>0.01</td>\n",
       "    </tr>\n",
       "    <tr>\n",
       "        <td>122</td>\n",
       "        <td>FUNCTIONING PROPERLY</td>\n",
       "        <td>0.48</td>\n",
       "    </tr>\n",
       "    <tr>\n",
       "        <td>122</td>\n",
       "        <td>NO CONTROLS</td>\n",
       "        <td>0.45</td>\n",
       "    </tr>\n",
       "    <tr>\n",
       "        <td>122</td>\n",
       "        <td>UNKNOWN</td>\n",
       "        <td>0.05</td>\n",
       "    </tr>\n",
       "    <tr>\n",
       "        <td>1834</td>\n",
       "        <td>NO CONTROLS</td>\n",
       "        <td>0.52</td>\n",
       "    </tr>\n",
       "    <tr>\n",
       "        <td>1834</td>\n",
       "        <td>FUNCTIONING PROPERLY</td>\n",
       "        <td>0.42</td>\n",
       "    </tr>\n",
       "    <tr>\n",
       "        <td>1834</td>\n",
       "        <td>UNKNOWN</td>\n",
       "        <td>0.05</td>\n",
       "    </tr>\n",
       "    <tr>\n",
       "        <td>1834</td>\n",
       "        <td>FUNCTIONING IMPROPERLY</td>\n",
       "        <td>0.01</td>\n",
       "    </tr>\n",
       "</table>"
      ],
      "text/plain": [
       "[('114', 'FUNCTIONING PROPERLY', Decimal('0.51')),\n",
       " ('114', 'NO CONTROLS', Decimal('0.43')),\n",
       " ('114', 'UNKNOWN', Decimal('0.05')),\n",
       " ('114', 'FUNCTIONING IMPROPERLY', Decimal('0.01')),\n",
       " ('122', 'FUNCTIONING PROPERLY', Decimal('0.48')),\n",
       " ('122', 'NO CONTROLS', Decimal('0.45')),\n",
       " ('122', 'UNKNOWN', Decimal('0.05')),\n",
       " ('1834', 'NO CONTROLS', Decimal('0.52')),\n",
       " ('1834', 'FUNCTIONING PROPERLY', Decimal('0.42')),\n",
       " ('1834', 'UNKNOWN', Decimal('0.05')),\n",
       " ('1834', 'FUNCTIONING IMPROPERLY', Decimal('0.01'))]"
      ]
     },
     "execution_count": 27,
     "metadata": {},
     "output_type": "execute_result"
    }
   ],
   "source": [
    "%%sql\n",
    "select beat_of_occurrence,device_condition,percentage\n",
    "from(\n",
    "select beat_of_occurrence,device_condition,count(*),cast(count(*)/(sum(count(*)) over(Partition BY beat_of_occurrence)) as decimal(10,2)) as percentage  \n",
    "from(\n",
    "select * \n",
    "from(\n",
    "select accidents.*,location.*,device_condition.*\n",
    "from accidents,location,device_condition\n",
    "where accidents.location_key=location.key and accidents.device_condition_key=device_condition.key\n",
    ") as t\n",
    "where beat_of_occurrence='1834' or beat_of_occurrence='114' or beat_of_occurrence='122'\n",
    ") as t1\n",
    "group by beat_of_occurrence,device_condition\n",
    "order by beat_of_occurrence, count(*) desc) as t2\n",
    "where percentage>0\n"
   ]
  },
  {
   "cell_type": "code",
   "execution_count": null,
   "metadata": {},
   "outputs": [],
   "source": [
    "#percentage of device condiotion based on the top 3 beat values fir accidents"
   ]
  },
  {
   "cell_type": "code",
   "execution_count": 28,
   "metadata": {},
   "outputs": [
    {
     "data": {
      "text/plain": [
       "<BarContainer object of 11 artists>"
      ]
     },
     "execution_count": 28,
     "metadata": {},
     "output_type": "execute_result"
    },
    {
     "data": {
      "image/png": "[encoded data removed]",
      "text/plain": [
       "<Figure size 1440x1280 with 1 Axes>"
      ]
     },
     "metadata": {},
     "output_type": "display_data"
    }
   ],
   "source": [
    "import matplotlib as plt\n",
    "%matplotlib inline\n",
    "fig=plt.pyplot.figure(figsize=(18, 16), dpi= 80, facecolor='w', edgecolor='k')\n",
    "_.bar()"
   ]
  },
  {
   "cell_type": "code",
   "execution_count": 29,
   "metadata": {},
   "outputs": [],
   "source": [
    "#top three beat_of_occurence vs traffic device."
   ]
  },
  {
   "cell_type": "code",
   "execution_count": 30,
   "metadata": {},
   "outputs": [
    {
     "name": "stdout",
     "output_type": "stream",
     "text": [
      " * postgresql://student@/dk\n",
      "14 rows affected.\n"
     ]
    },
    {
     "data": {
      "text/html": [
       "<table>\n",
       "    <tr>\n",
       "        <th>beat_of_occurrence</th>\n",
       "        <th>traffic_control_device</th>\n",
       "        <th>percentage</th>\n",
       "    </tr>\n",
       "    <tr>\n",
       "        <td>114</td>\n",
       "        <td>TRAFFIC SIGNAL</td>\n",
       "        <td>0.50</td>\n",
       "    </tr>\n",
       "    <tr>\n",
       "        <td>114</td>\n",
       "        <td>NO CONTROLS</td>\n",
       "        <td>0.43</td>\n",
       "    </tr>\n",
       "    <tr>\n",
       "        <td>114</td>\n",
       "        <td>STOP SIGN/FLASHER</td>\n",
       "        <td>0.03</td>\n",
       "    </tr>\n",
       "    <tr>\n",
       "        <td>114</td>\n",
       "        <td>UNKNOWN</td>\n",
       "        <td>0.03</td>\n",
       "    </tr>\n",
       "    <tr>\n",
       "        <td>114</td>\n",
       "        <td>LANE USE MARKING</td>\n",
       "        <td>0.01</td>\n",
       "    </tr>\n",
       "    <tr>\n",
       "        <td>122</td>\n",
       "        <td>TRAFFIC SIGNAL</td>\n",
       "        <td>0.49</td>\n",
       "    </tr>\n",
       "    <tr>\n",
       "        <td>122</td>\n",
       "        <td>NO CONTROLS</td>\n",
       "        <td>0.45</td>\n",
       "    </tr>\n",
       "    <tr>\n",
       "        <td>122</td>\n",
       "        <td>UNKNOWN</td>\n",
       "        <td>0.03</td>\n",
       "    </tr>\n",
       "    <tr>\n",
       "        <td>122</td>\n",
       "        <td>STOP SIGN/FLASHER</td>\n",
       "        <td>0.02</td>\n",
       "    </tr>\n",
       "    <tr>\n",
       "        <td>1834</td>\n",
       "        <td>NO CONTROLS</td>\n",
       "        <td>0.52</td>\n",
       "    </tr>\n",
       "    <tr>\n",
       "        <td>1834</td>\n",
       "        <td>TRAFFIC SIGNAL</td>\n",
       "        <td>0.39</td>\n",
       "    </tr>\n",
       "    <tr>\n",
       "        <td>1834</td>\n",
       "        <td>STOP SIGN/FLASHER</td>\n",
       "        <td>0.04</td>\n",
       "    </tr>\n",
       "    <tr>\n",
       "        <td>1834</td>\n",
       "        <td>UNKNOWN</td>\n",
       "        <td>0.04</td>\n",
       "    </tr>\n",
       "    <tr>\n",
       "        <td>1834</td>\n",
       "        <td>LANE USE MARKING</td>\n",
       "        <td>0.01</td>\n",
       "    </tr>\n",
       "</table>"
      ],
      "text/plain": [
       "[('114', 'TRAFFIC SIGNAL', Decimal('0.50')),\n",
       " ('114', 'NO CONTROLS', Decimal('0.43')),\n",
       " ('114', 'STOP SIGN/FLASHER', Decimal('0.03')),\n",
       " ('114', 'UNKNOWN', Decimal('0.03')),\n",
       " ('114', 'LANE USE MARKING', Decimal('0.01')),\n",
       " ('122', 'TRAFFIC SIGNAL', Decimal('0.49')),\n",
       " ('122', 'NO CONTROLS', Decimal('0.45')),\n",
       " ('122', 'UNKNOWN', Decimal('0.03')),\n",
       " ('122', 'STOP SIGN/FLASHER', Decimal('0.02')),\n",
       " ('1834', 'NO CONTROLS', Decimal('0.52')),\n",
       " ('1834', 'TRAFFIC SIGNAL', Decimal('0.39')),\n",
       " ('1834', 'STOP SIGN/FLASHER', Decimal('0.04')),\n",
       " ('1834', 'UNKNOWN', Decimal('0.04')),\n",
       " ('1834', 'LANE USE MARKING', Decimal('0.01'))]"
      ]
     },
     "execution_count": 30,
     "metadata": {},
     "output_type": "execute_result"
    }
   ],
   "source": [
    "%%sql\n",
    "select * from (\n",
    "select beat_of_occurrence,traffic_control_device,cast(count(*)/(sum(count(*)) over(Partition BY beat_of_occurrence)) as decimal(10,2)) as percentage\n",
    "from(\n",
    "select * \n",
    "from(\n",
    "select accidents.*,location.*,traffic_device.*\n",
    "from accidents,location,traffic_device\n",
    "where accidents.location_key=location.key and accidents.traffic_control_device_key=traffic_device.key\n",
    ") as t\n",
    "where beat_of_occurrence='1834' or beat_of_occurrence='114' or beat_of_occurrence='122'\n",
    ") as t1\n",
    "\n",
    "group by beat_of_occurrence,traffic_control_device\n",
    "order by beat_of_occurrence, count(*) desc) as t2\n",
    "where percentage>0"
   ]
  },
  {
   "cell_type": "code",
   "execution_count": 31,
   "metadata": {},
   "outputs": [],
   "source": [
    "#top three beat_of_occurence vs road defect and later road surface condition"
   ]
  },
  {
   "cell_type": "code",
   "execution_count": 32,
   "metadata": {},
   "outputs": [
    {
     "name": "stdout",
     "output_type": "stream",
     "text": [
      " * postgresql://student@/dk\n",
      "18 rows affected.\n"
     ]
    },
    {
     "data": {
      "text/html": [
       "<table>\n",
       "    <tr>\n",
       "        <th>beat_of_occurrence</th>\n",
       "        <th>road_defect</th>\n",
       "        <th>count</th>\n",
       "    </tr>\n",
       "    <tr>\n",
       "        <td>114</td>\n",
       "        <td>NO DEFECTS</td>\n",
       "        <td>3679</td>\n",
       "    </tr>\n",
       "    <tr>\n",
       "        <td>114</td>\n",
       "        <td>UNKNOWN</td>\n",
       "        <td>537</td>\n",
       "    </tr>\n",
       "    <tr>\n",
       "        <td>114</td>\n",
       "        <td>&quot;RUT, HOLES&quot;</td>\n",
       "        <td>96</td>\n",
       "    </tr>\n",
       "    <tr>\n",
       "        <td>114</td>\n",
       "        <td>WORN SURFACE</td>\n",
       "        <td>31</td>\n",
       "    </tr>\n",
       "    <tr>\n",
       "        <td>114</td>\n",
       "        <td>SHOULDER DEFECT</td>\n",
       "        <td>7</td>\n",
       "    </tr>\n",
       "    <tr>\n",
       "        <td>114</td>\n",
       "        <td>DEBRIS ON ROADWAY</td>\n",
       "        <td>3</td>\n",
       "    </tr>\n",
       "    <tr>\n",
       "        <td>122</td>\n",
       "        <td>NO DEFECTS</td>\n",
       "        <td>3703</td>\n",
       "    </tr>\n",
       "    <tr>\n",
       "        <td>122</td>\n",
       "        <td>UNKNOWN</td>\n",
       "        <td>558</td>\n",
       "    </tr>\n",
       "    <tr>\n",
       "        <td>122</td>\n",
       "        <td>WORN SURFACE</td>\n",
       "        <td>21</td>\n",
       "    </tr>\n",
       "    <tr>\n",
       "        <td>122</td>\n",
       "        <td>&quot;RUT, HOLES&quot;</td>\n",
       "        <td>12</td>\n",
       "    </tr>\n",
       "    <tr>\n",
       "        <td>122</td>\n",
       "        <td>SHOULDER DEFECT</td>\n",
       "        <td>8</td>\n",
       "    </tr>\n",
       "    <tr>\n",
       "        <td>122</td>\n",
       "        <td>DEBRIS ON ROADWAY</td>\n",
       "        <td>4</td>\n",
       "    </tr>\n",
       "    <tr>\n",
       "        <td>1834</td>\n",
       "        <td>NO DEFECTS</td>\n",
       "        <td>4706</td>\n",
       "    </tr>\n",
       "    <tr>\n",
       "        <td>1834</td>\n",
       "        <td>UNKNOWN</td>\n",
       "        <td>570</td>\n",
       "    </tr>\n",
       "    <tr>\n",
       "        <td>1834</td>\n",
       "        <td>&quot;RUT, HOLES&quot;</td>\n",
       "        <td>52</td>\n",
       "    </tr>\n",
       "    <tr>\n",
       "        <td>1834</td>\n",
       "        <td>WORN SURFACE</td>\n",
       "        <td>14</td>\n",
       "    </tr>\n",
       "    <tr>\n",
       "        <td>1834</td>\n",
       "        <td>SHOULDER DEFECT</td>\n",
       "        <td>7</td>\n",
       "    </tr>\n",
       "    <tr>\n",
       "        <td>1834</td>\n",
       "        <td>DEBRIS ON ROADWAY</td>\n",
       "        <td>4</td>\n",
       "    </tr>\n",
       "</table>"
      ],
      "text/plain": [
       "[('114', 'NO DEFECTS', 3679),\n",
       " ('114', 'UNKNOWN', 537),\n",
       " ('114', '\"RUT, HOLES\"', 96),\n",
       " ('114', 'WORN SURFACE', 31),\n",
       " ('114', 'SHOULDER DEFECT', 7),\n",
       " ('114', 'DEBRIS ON ROADWAY', 3),\n",
       " ('122', 'NO DEFECTS', 3703),\n",
       " ('122', 'UNKNOWN', 558),\n",
       " ('122', 'WORN SURFACE', 21),\n",
       " ('122', '\"RUT, HOLES\"', 12),\n",
       " ('122', 'SHOULDER DEFECT', 8),\n",
       " ('122', 'DEBRIS ON ROADWAY', 4),\n",
       " ('1834', 'NO DEFECTS', 4706),\n",
       " ('1834', 'UNKNOWN', 570),\n",
       " ('1834', '\"RUT, HOLES\"', 52),\n",
       " ('1834', 'WORN SURFACE', 14),\n",
       " ('1834', 'SHOULDER DEFECT', 7),\n",
       " ('1834', 'DEBRIS ON ROADWAY', 4)]"
      ]
     },
     "execution_count": 32,
     "metadata": {},
     "output_type": "execute_result"
    }
   ],
   "source": [
    "%%sql\n",
    "select beat_of_occurrence,road_defect,count(*)\n",
    "from(\n",
    "select * \n",
    "from(\n",
    "select accidents.*,location.*,road_condition.*\n",
    "from accidents,location,road_condition\n",
    "where accidents.location_key=location.key and accidents.road_condition_key=road_condition.key\n",
    ") as t\n",
    "where beat_of_occurrence='1834' or beat_of_occurrence='114' or beat_of_occurrence='122'\n",
    ") as t1\n",
    "group by beat_of_occurrence,road_defect\n",
    "order by beat_of_occurrence, count(*) desc"
   ]
  },
  {
   "cell_type": "code",
   "execution_count": 33,
   "metadata": {},
   "outputs": [],
   "source": [
    "#adding a bit more depth to this"
   ]
  },
  {
   "cell_type": "code",
   "execution_count": 34,
   "metadata": {},
   "outputs": [
    {
     "name": "stdout",
     "output_type": "stream",
     "text": [
      " * postgresql://student@/dk\n",
      "25 rows affected.\n"
     ]
    },
    {
     "data": {
      "text/html": [
       "<table>\n",
       "    <tr>\n",
       "        <th>beat_of_occurrence</th>\n",
       "        <th>road_defect</th>\n",
       "        <th>roadway_surface_cond</th>\n",
       "        <th>percentage</th>\n",
       "    </tr>\n",
       "    <tr>\n",
       "        <td>114</td>\n",
       "        <td>NO DEFECTS</td>\n",
       "        <td>DRY</td>\n",
       "        <td>0.71</td>\n",
       "    </tr>\n",
       "    <tr>\n",
       "        <td>114</td>\n",
       "        <td>NO DEFECTS</td>\n",
       "        <td>WET</td>\n",
       "        <td>0.11</td>\n",
       "    </tr>\n",
       "    <tr>\n",
       "        <td>114</td>\n",
       "        <td>UNKNOWN</td>\n",
       "        <td>DRY</td>\n",
       "        <td>0.06</td>\n",
       "    </tr>\n",
       "    <tr>\n",
       "        <td>114</td>\n",
       "        <td>UNKNOWN</td>\n",
       "        <td>UNKNOWN</td>\n",
       "        <td>0.05</td>\n",
       "    </tr>\n",
       "    <tr>\n",
       "        <td>114</td>\n",
       "        <td>UNKNOWN</td>\n",
       "        <td>WET</td>\n",
       "        <td>0.02</td>\n",
       "    </tr>\n",
       "    <tr>\n",
       "        <td>114</td>\n",
       "        <td>NO DEFECTS</td>\n",
       "        <td>SNOW OR SLUSH</td>\n",
       "        <td>0.01</td>\n",
       "    </tr>\n",
       "    <tr>\n",
       "        <td>114</td>\n",
       "        <td>&quot;RUT, HOLES&quot;</td>\n",
       "        <td>DRY</td>\n",
       "        <td>0.01</td>\n",
       "    </tr>\n",
       "    <tr>\n",
       "        <td>114</td>\n",
       "        <td>WORN SURFACE</td>\n",
       "        <td>DRY</td>\n",
       "        <td>0.01</td>\n",
       "    </tr>\n",
       "    <tr>\n",
       "        <td>114</td>\n",
       "        <td>&quot;RUT, HOLES&quot;</td>\n",
       "        <td>WET</td>\n",
       "        <td>0.01</td>\n",
       "    </tr>\n",
       "    <tr>\n",
       "        <td>114</td>\n",
       "        <td>NO DEFECTS</td>\n",
       "        <td>UNKNOWN</td>\n",
       "        <td>0.01</td>\n",
       "    </tr>\n",
       "    <tr>\n",
       "        <td>122</td>\n",
       "        <td>NO DEFECTS</td>\n",
       "        <td>DRY</td>\n",
       "        <td>0.72</td>\n",
       "    </tr>\n",
       "    <tr>\n",
       "        <td>122</td>\n",
       "        <td>NO DEFECTS</td>\n",
       "        <td>WET</td>\n",
       "        <td>0.11</td>\n",
       "    </tr>\n",
       "    <tr>\n",
       "        <td>122</td>\n",
       "        <td>UNKNOWN</td>\n",
       "        <td>DRY</td>\n",
       "        <td>0.07</td>\n",
       "    </tr>\n",
       "    <tr>\n",
       "        <td>122</td>\n",
       "        <td>UNKNOWN</td>\n",
       "        <td>UNKNOWN</td>\n",
       "        <td>0.04</td>\n",
       "    </tr>\n",
       "    <tr>\n",
       "        <td>122</td>\n",
       "        <td>NO DEFECTS</td>\n",
       "        <td>SNOW OR SLUSH</td>\n",
       "        <td>0.02</td>\n",
       "    </tr>\n",
       "    <tr>\n",
       "        <td>122</td>\n",
       "        <td>UNKNOWN</td>\n",
       "        <td>WET</td>\n",
       "        <td>0.01</td>\n",
       "    </tr>\n",
       "    <tr>\n",
       "        <td>122</td>\n",
       "        <td>NO DEFECTS</td>\n",
       "        <td>UNKNOWN</td>\n",
       "        <td>0.01</td>\n",
       "    </tr>\n",
       "    <tr>\n",
       "        <td>1834</td>\n",
       "        <td>NO DEFECTS</td>\n",
       "        <td>DRY</td>\n",
       "        <td>0.73</td>\n",
       "    </tr>\n",
       "    <tr>\n",
       "        <td>1834</td>\n",
       "        <td>NO DEFECTS</td>\n",
       "        <td>WET</td>\n",
       "        <td>0.12</td>\n",
       "    </tr>\n",
       "    <tr>\n",
       "        <td>1834</td>\n",
       "        <td>UNKNOWN</td>\n",
       "        <td>DRY</td>\n",
       "        <td>0.05</td>\n",
       "    </tr>\n",
       "    <tr>\n",
       "        <td>1834</td>\n",
       "        <td>UNKNOWN</td>\n",
       "        <td>UNKNOWN</td>\n",
       "        <td>0.04</td>\n",
       "    </tr>\n",
       "    <tr>\n",
       "        <td>1834</td>\n",
       "        <td>NO DEFECTS</td>\n",
       "        <td>SNOW OR SLUSH</td>\n",
       "        <td>0.02</td>\n",
       "    </tr>\n",
       "    <tr>\n",
       "        <td>1834</td>\n",
       "        <td>UNKNOWN</td>\n",
       "        <td>WET</td>\n",
       "        <td>0.01</td>\n",
       "    </tr>\n",
       "    <tr>\n",
       "        <td>1834</td>\n",
       "        <td>NO DEFECTS</td>\n",
       "        <td>UNKNOWN</td>\n",
       "        <td>0.01</td>\n",
       "    </tr>\n",
       "    <tr>\n",
       "        <td>1834</td>\n",
       "        <td>&quot;RUT, HOLES&quot;</td>\n",
       "        <td>DRY</td>\n",
       "        <td>0.01</td>\n",
       "    </tr>\n",
       "</table>"
      ],
      "text/plain": [
       "[('114', 'NO DEFECTS', 'DRY', Decimal('0.71')),\n",
       " ('114', 'NO DEFECTS', 'WET', Decimal('0.11')),\n",
       " ('114', 'UNKNOWN', 'DRY', Decimal('0.06')),\n",
       " ('114', 'UNKNOWN', 'UNKNOWN', Decimal('0.05')),\n",
       " ('114', 'UNKNOWN', 'WET', Decimal('0.02')),\n",
       " ('114', 'NO DEFECTS', 'SNOW OR SLUSH', Decimal('0.01')),\n",
       " ('114', '\"RUT, HOLES\"', 'DRY', Decimal('0.01')),\n",
       " ('114', 'WORN SURFACE', 'DRY', Decimal('0.01')),\n",
       " ('114', '\"RUT, HOLES\"', 'WET', Decimal('0.01')),\n",
       " ('114', 'NO DEFECTS', 'UNKNOWN', Decimal('0.01')),\n",
       " ('122', 'NO DEFECTS', 'DRY', Decimal('0.72')),\n",
       " ('122', 'NO DEFECTS', 'WET', Decimal('0.11')),\n",
       " ('122', 'UNKNOWN', 'DRY', Decimal('0.07')),\n",
       " ('122', 'UNKNOWN', 'UNKNOWN', Decimal('0.04')),\n",
       " ('122', 'NO DEFECTS', 'SNOW OR SLUSH', Decimal('0.02')),\n",
       " ('122', 'UNKNOWN', 'WET', Decimal('0.01')),\n",
       " ('122', 'NO DEFECTS', 'UNKNOWN', Decimal('0.01')),\n",
       " ('1834', 'NO DEFECTS', 'DRY', Decimal('0.73')),\n",
       " ('1834', 'NO DEFECTS', 'WET', Decimal('0.12')),\n",
       " ('1834', 'UNKNOWN', 'DRY', Decimal('0.05')),\n",
       " ('1834', 'UNKNOWN', 'UNKNOWN', Decimal('0.04')),\n",
       " ('1834', 'NO DEFECTS', 'SNOW OR SLUSH', Decimal('0.02')),\n",
       " ('1834', 'UNKNOWN', 'WET', Decimal('0.01')),\n",
       " ('1834', 'NO DEFECTS', 'UNKNOWN', Decimal('0.01')),\n",
       " ('1834', '\"RUT, HOLES\"', 'DRY', Decimal('0.01'))]"
      ]
     },
     "execution_count": 34,
     "metadata": {},
     "output_type": "execute_result"
    }
   ],
   "source": [
    "%%sql\n",
    "select * from (\n",
    "select beat_of_occurrence,road_defect,roadway_surface_cond,cast(count(*)/(sum(count(*)) over(Partition BY beat_of_occurrence)) as decimal(10,2)) as percentage\n",
    "from(\n",
    "select * \n",
    "from(\n",
    "select accidents.*,location.*,road_condition.*\n",
    "from accidents,location,road_condition\n",
    "where accidents.location_key=location.key and accidents.road_condition_key=road_condition.key\n",
    ") as t\n",
    "where beat_of_occurrence='1834' or beat_of_occurrence='114' or beat_of_occurrence='122'\n",
    ") as t1\n",
    "group by beat_of_occurrence,road_defect,roadway_surface_cond\n",
    "order by beat_of_occurrence, count(*) desc) as t2\n",
    "where percentage>0"
   ]
  },
  {
   "cell_type": "code",
   "execution_count": 35,
   "metadata": {},
   "outputs": [
    {
     "data": {
      "text/plain": [
       "<BarContainer object of 25 artists>"
      ]
     },
     "execution_count": 35,
     "metadata": {},
     "output_type": "execute_result"
    },
    {
     "data": {
      "image/png": "[encoded data removed]",
      "text/plain": [
       "<Figure size 1440x1280 with 1 Axes>"
      ]
     },
     "metadata": {},
     "output_type": "display_data"
    }
   ],
   "source": [
    "import matplotlib as plt\n",
    "%matplotlib inline\n",
    "fig=plt.pyplot.figure(figsize=(18, 16), dpi= 80, facecolor='w', edgecolor='k')\n",
    "_.bar()"
   ]
  },
  {
   "cell_type": "markdown",
   "metadata": {},
   "source": [
    "##### List of the top most dangerous streets"
   ]
  },
  {
   "cell_type": "code",
   "execution_count": 36,
   "metadata": {},
   "outputs": [
    {
     "name": "stdout",
     "output_type": "stream",
     "text": [
      " * postgresql://student@/dk\n",
      "10 rows affected.\n"
     ]
    },
    {
     "data": {
      "text/html": [
       "<table>\n",
       "    <tr>\n",
       "        <th>street_name</th>\n",
       "        <th>count</th>\n",
       "    </tr>\n",
       "    <tr>\n",
       "        <td>WESTERN AVE</td>\n",
       "        <td>9902</td>\n",
       "    </tr>\n",
       "    <tr>\n",
       "        <td>PULASKI RD</td>\n",
       "        <td>8630</td>\n",
       "    </tr>\n",
       "    <tr>\n",
       "        <td>CICERO AVE</td>\n",
       "        <td>7844</td>\n",
       "    </tr>\n",
       "    <tr>\n",
       "        <td>ASHLAND AVE</td>\n",
       "        <td>7789</td>\n",
       "    </tr>\n",
       "    <tr>\n",
       "        <td>HALSTED ST</td>\n",
       "        <td>6875</td>\n",
       "    </tr>\n",
       "    <tr>\n",
       "        <td>KEDZIE AVE</td>\n",
       "        <td>6111</td>\n",
       "    </tr>\n",
       "    <tr>\n",
       "        <td>MICHIGAN AVE</td>\n",
       "        <td>5217</td>\n",
       "    </tr>\n",
       "    <tr>\n",
       "        <td>STATE ST</td>\n",
       "        <td>4553</td>\n",
       "    </tr>\n",
       "    <tr>\n",
       "        <td>CLARK ST</td>\n",
       "        <td>4408</td>\n",
       "    </tr>\n",
       "    <tr>\n",
       "        <td>NORTH AVE</td>\n",
       "        <td>4361</td>\n",
       "    </tr>\n",
       "</table>"
      ],
      "text/plain": [
       "[('WESTERN AVE', 9902),\n",
       " ('PULASKI RD', 8630),\n",
       " ('CICERO AVE', 7844),\n",
       " ('ASHLAND AVE', 7789),\n",
       " ('HALSTED ST', 6875),\n",
       " ('KEDZIE AVE', 6111),\n",
       " ('MICHIGAN AVE', 5217),\n",
       " ('STATE ST', 4553),\n",
       " ('CLARK ST', 4408),\n",
       " ('NORTH AVE', 4361)]"
      ]
     },
     "execution_count": 36,
     "metadata": {},
     "output_type": "execute_result"
    }
   ],
   "source": [
    "%%sql\n",
    "select street_name,count(*)\n",
    "from(\n",
    "select accidents.*, location.street_name\n",
    "from accidents, location\n",
    "where location.key=accidents.location_key) as t\n",
    "group by street_name\n",
    "order by count(*) desc\n",
    "limit 10"
   ]
  },
  {
   "cell_type": "markdown",
   "metadata": {},
   "source": [
    "##### The relationship of the time between police notified time and crash occur time and injury situation. "
   ]
  },
  {
   "cell_type": "code",
   "execution_count": 37,
   "metadata": {},
   "outputs": [
    {
     "name": "stdout",
     "output_type": "stream",
     "text": [
      " * postgresql://student@/dk\n",
      "5 rows affected.\n"
     ]
    },
    {
     "data": {
      "text/html": [
       "<table>\n",
       "    <tr>\n",
       "        <th>inj_num</th>\n",
       "        <th>average_time</th>\n",
       "    </tr>\n",
       "    <tr>\n",
       "        <td>&gt;10</td>\n",
       "        <td>4.71428571428571</td>\n",
       "    </tr>\n",
       "    <tr>\n",
       "        <td>&lt;=10</td>\n",
       "        <td>15.2230215827338</td>\n",
       "    </tr>\n",
       "    <tr>\n",
       "        <td>&lt;=5</td>\n",
       "        <td>40.2794329096451</td>\n",
       "    </tr>\n",
       "    <tr>\n",
       "        <td>unknown</td>\n",
       "        <td>81.6551094890511</td>\n",
       "    </tr>\n",
       "    <tr>\n",
       "        <td>nobody injured</td>\n",
       "        <td>98.7588434570236</td>\n",
       "    </tr>\n",
       "</table>"
      ],
      "text/plain": [
       "[('>10', 4.71428571428571),\n",
       " ('<=10', 15.2230215827338),\n",
       " ('<=5', 40.2794329096451),\n",
       " ('unknown', 81.6551094890511),\n",
       " ('nobody injured', 98.7588434570236)]"
      ]
     },
     "execution_count": 37,
     "metadata": {},
     "output_type": "execute_result"
    }
   ],
   "source": [
    "%%sql\n",
    "select t2.inj_num,avg(t2.time_interval) as average_time\n",
    "from(\n",
    "select * from (\n",
    "select inj_num,DATE_PART('hour', date_police_notified::time - crash_date::time) * 60 +\n",
    "              DATE_PART('minute', date_police_notified::time - crash_date::time) as time_interval \n",
    "from(\n",
    "select CASE\n",
    "    WHEN injuries_total in ('0') THEN\n",
    "         'nobody injured'\n",
    "    WHEN injuries_total in ('1','2','3','4','5') THEN\n",
    "         '<=5'\n",
    "    WHEN injuries_total in ('6','7','8','9','10') THEN\n",
    "         '<=10'\n",
    "    WHEN injuries_total in ('10','11','13','15','16','21') THEN\n",
    "         '>10'\n",
    "    ELSE\n",
    "         'unknown'\n",
    "    END AS inj_num,day.crash_date,day.date_police_notified\n",
    "from accidents, day\n",
    "where day.key=accidents.day_key) as t) as t1\n",
    "where time_interval>0 and time_interval<1000) as t2\n",
    "group by inj_num\n",
    "order by average_time"
   ]
  },
  {
   "cell_type": "code",
   "execution_count": 38,
   "metadata": {},
   "outputs": [
    {
     "data": {
      "text/plain": [
       "<BarContainer object of 5 artists>"
      ]
     },
     "execution_count": 38,
     "metadata": {},
     "output_type": "execute_result"
    },
    {
     "data": {
      "image/png": "[encoded data removed]",
      "text/plain": [
       "<Figure size 432x288 with 1 Axes>"
      ]
     },
     "metadata": {
      "needs_background": "light"
     },
     "output_type": "display_data"
    }
   ],
   "source": [
    "%matplotlib inline\n",
    "_.bar()"
   ]
  },
  {
   "cell_type": "code",
   "execution_count": 39,
   "metadata": {},
   "outputs": [],
   "source": [
    "#from this we can find, after we ingore the outliers(such as negative time interval where the entered values are wrong and time interval larger than 3600 minutes), more people get hurt in a traffic crash, more quickly police react totally"
   ]
  },
  {
   "cell_type": "code",
   "execution_count": 40,
   "metadata": {
    "scrolled": true
   },
   "outputs": [
    {
     "name": "stdout",
     "output_type": "stream",
     "text": [
      " * postgresql://student@/dk\n",
      "Done.\n"
     ]
    },
    {
     "data": {
      "text/plain": [
       "[]"
      ]
     },
     "execution_count": 40,
     "metadata": {},
     "output_type": "execute_result"
    }
   ],
   "source": [
    "%%sql\n",
    "CREATE or replace VIEW time AS\n",
    "select date_police_notified - crash_date as time_interval , \n",
    "accidents.injuries_total,day.crash_date,day.date_police_notified,location.BEAT_OF_OCCURRENCE\n",
    "from accidents,day,location\n",
    "where day.key=accidents.day_key and location.key = accidents.location_key\n"
   ]
  },
  {
   "cell_type": "code",
   "execution_count": 41,
   "metadata": {
    "scrolled": true
   },
   "outputs": [
    {
     "name": "stdout",
     "output_type": "stream",
     "text": [
      " * postgresql://student@/dk\n",
      "1 rows affected.\n"
     ]
    },
    {
     "data": {
      "text/html": [
       "<table>\n",
       "    <tr>\n",
       "        <th>avg</th>\n",
       "    </tr>\n",
       "    <tr>\n",
       "        <td>16:02:49.558283</td>\n",
       "    </tr>\n",
       "</table>"
      ],
      "text/plain": [
       "[(datetime.timedelta(0, 57769, 558283),)]"
      ]
     },
     "execution_count": 41,
     "metadata": {},
     "output_type": "execute_result"
    }
   ],
   "source": [
    "%%sql\n",
    "select avg(time_interval) from time;"
   ]
  },
  {
   "cell_type": "code",
   "execution_count": 42,
   "metadata": {},
   "outputs": [
    {
     "name": "stdout",
     "output_type": "stream",
     "text": [
      " * postgresql://student@/dk\n",
      "10 rows affected.\n"
     ]
    },
    {
     "data": {
      "text/html": [
       "<table>\n",
       "    <tr>\n",
       "        <th>avg</th>\n",
       "        <th>beat_of_occurrence</th>\n",
       "    </tr>\n",
       "    <tr>\n",
       "        <td>1 day, 20:25:52.558139</td>\n",
       "        <td>1712</td>\n",
       "    </tr>\n",
       "    <tr>\n",
       "        <td>1 day, 17:23:49.562088</td>\n",
       "        <td>1031</td>\n",
       "    </tr>\n",
       "    <tr>\n",
       "        <td>1 day, 15:27:27.333333</td>\n",
       "        <td>432</td>\n",
       "    </tr>\n",
       "    <tr>\n",
       "        <td>1 day, 11:07:44.601770</td>\n",
       "        <td>2534</td>\n",
       "    </tr>\n",
       "    <tr>\n",
       "        <td>1 day, 10:14:28.243243</td>\n",
       "        <td>121</td>\n",
       "    </tr>\n",
       "    <tr>\n",
       "        <td>1 day, 9:23:23.044620</td>\n",
       "        <td>1121</td>\n",
       "    </tr>\n",
       "    <tr>\n",
       "        <td>1 day, 9:11:22.909091</td>\n",
       "        <td>531</td>\n",
       "    </tr>\n",
       "    <tr>\n",
       "        <td>1 day, 8:17:27.327859</td>\n",
       "        <td>1631</td>\n",
       "    </tr>\n",
       "    <tr>\n",
       "        <td>1 day, 7:48:35.249205</td>\n",
       "        <td>334</td>\n",
       "    </tr>\n",
       "    <tr>\n",
       "        <td>1 day, 7:32:52.192903</td>\n",
       "        <td>1932</td>\n",
       "    </tr>\n",
       "</table>"
      ],
      "text/plain": [
       "[(datetime.timedelta(1, 73552, 558139), '1712'),\n",
       " (datetime.timedelta(1, 62629, 562088), '1031'),\n",
       " (datetime.timedelta(1, 55647, 333333), '432'),\n",
       " (datetime.timedelta(1, 40064, 601770), '2534'),\n",
       " (datetime.timedelta(1, 36868, 243243), '121'),\n",
       " (datetime.timedelta(1, 33803, 44620), '1121'),\n",
       " (datetime.timedelta(1, 33082, 909091), '531'),\n",
       " (datetime.timedelta(1, 29847, 327859), '1631'),\n",
       " (datetime.timedelta(1, 28115, 249205), '334'),\n",
       " (datetime.timedelta(1, 27172, 192903), '1932')]"
      ]
     },
     "execution_count": 42,
     "metadata": {},
     "output_type": "execute_result"
    }
   ],
   "source": [
    "%%sql\n",
    "select avg(time_interval),BEAT_OF_OCCURRENCE\n",
    "from time\n",
    "group by BEAT_OF_OCCURRENCE\n",
    "order by avg desc\n",
    "limit 10;"
   ]
  },
  {
   "cell_type": "code",
   "execution_count": 43,
   "metadata": {},
   "outputs": [
    {
     "name": "stdout",
     "output_type": "stream",
     "text": [
      " * postgresql://student@/dk\n",
      "10 rows affected.\n"
     ]
    },
    {
     "data": {
      "text/html": [
       "<table>\n",
       "    <tr>\n",
       "        <th>days</th>\n",
       "        <th>hours</th>\n",
       "        <th>minutes</th>\n",
       "        <th>injuries_total</th>\n",
       "        <th>crash_date</th>\n",
       "        <th>date_police_notified</th>\n",
       "    </tr>\n",
       "    <tr>\n",
       "        <td>0.0</td>\n",
       "        <td>0.0</td>\n",
       "        <td>10.0</td>\n",
       "        <td>0</td>\n",
       "        <td>2017-03-31 17:50:00</td>\n",
       "        <td>2017-03-31 18:00:00</td>\n",
       "    </tr>\n",
       "    <tr>\n",
       "        <td>0.0</td>\n",
       "        <td>0.0</td>\n",
       "        <td>22.0</td>\n",
       "        <td>0</td>\n",
       "        <td>2017-08-23 17:45:00</td>\n",
       "        <td>2017-08-23 18:07:00</td>\n",
       "    </tr>\n",
       "    <tr>\n",
       "        <td>0.0</td>\n",
       "        <td>0.0</td>\n",
       "        <td>3.0</td>\n",
       "        <td>0</td>\n",
       "        <td>2019-07-09 10:30:00</td>\n",
       "        <td>2019-07-09 10:33:00</td>\n",
       "    </tr>\n",
       "    <tr>\n",
       "        <td>0.0</td>\n",
       "        <td>2.0</td>\n",
       "        <td>6.0</td>\n",
       "        <td>0</td>\n",
       "        <td>2018-01-24 13:50:00</td>\n",
       "        <td>2018-01-24 15:56:00</td>\n",
       "    </tr>\n",
       "    <tr>\n",
       "        <td>0.0</td>\n",
       "        <td>0.0</td>\n",
       "        <td>28.0</td>\n",
       "        <td>0</td>\n",
       "        <td>2018-07-02 13:50:00</td>\n",
       "        <td>2018-07-02 14:18:00</td>\n",
       "    </tr>\n",
       "    <tr>\n",
       "        <td>0.0</td>\n",
       "        <td>0.0</td>\n",
       "        <td>8.0</td>\n",
       "        <td>0</td>\n",
       "        <td>2018-08-05 13:39:00</td>\n",
       "        <td>2018-08-05 13:47:00</td>\n",
       "    </tr>\n",
       "    <tr>\n",
       "        <td>0.0</td>\n",
       "        <td>0.0</td>\n",
       "        <td>5.0</td>\n",
       "        <td>0</td>\n",
       "        <td>2018-09-03 08:00:00</td>\n",
       "        <td>2018-09-03 08:05:00</td>\n",
       "    </tr>\n",
       "    <tr>\n",
       "        <td>0.0</td>\n",
       "        <td>0.0</td>\n",
       "        <td>50.0</td>\n",
       "        <td>0</td>\n",
       "        <td>2019-02-06 16:00:00</td>\n",
       "        <td>2019-02-06 16:50:00</td>\n",
       "    </tr>\n",
       "    <tr>\n",
       "        <td>0.0</td>\n",
       "        <td>0.0</td>\n",
       "        <td>11.0</td>\n",
       "        <td>3</td>\n",
       "        <td>2018-07-08 20:57:00</td>\n",
       "        <td>2018-07-08 21:08:00</td>\n",
       "    </tr>\n",
       "    <tr>\n",
       "        <td>0.0</td>\n",
       "        <td>0.0</td>\n",
       "        <td>11.0</td>\n",
       "        <td>0</td>\n",
       "        <td>2019-02-02 12:00:00</td>\n",
       "        <td>2019-02-02 12:11:00</td>\n",
       "    </tr>\n",
       "</table>"
      ],
      "text/plain": [
       "[(0.0, 0.0, 10.0, '0', datetime.datetime(2017, 3, 31, 17, 50), datetime.datetime(2017, 3, 31, 18, 0)),\n",
       " (0.0, 0.0, 22.0, '0', datetime.datetime(2017, 8, 23, 17, 45), datetime.datetime(2017, 8, 23, 18, 7)),\n",
       " (0.0, 0.0, 3.0, '0', datetime.datetime(2019, 7, 9, 10, 30), datetime.datetime(2019, 7, 9, 10, 33)),\n",
       " (0.0, 2.0, 6.0, '0', datetime.datetime(2018, 1, 24, 13, 50), datetime.datetime(2018, 1, 24, 15, 56)),\n",
       " (0.0, 0.0, 28.0, '0', datetime.datetime(2018, 7, 2, 13, 50), datetime.datetime(2018, 7, 2, 14, 18)),\n",
       " (0.0, 0.0, 8.0, '0', datetime.datetime(2018, 8, 5, 13, 39), datetime.datetime(2018, 8, 5, 13, 47)),\n",
       " (0.0, 0.0, 5.0, '0', datetime.datetime(2018, 9, 3, 8, 0), datetime.datetime(2018, 9, 3, 8, 5)),\n",
       " (0.0, 0.0, 50.0, '0', datetime.datetime(2019, 2, 6, 16, 0), datetime.datetime(2019, 2, 6, 16, 50)),\n",
       " (0.0, 0.0, 11.0, '3', datetime.datetime(2018, 7, 8, 20, 57), datetime.datetime(2018, 7, 8, 21, 8)),\n",
       " (0.0, 0.0, 11.0, '0', datetime.datetime(2019, 2, 2, 12, 0), datetime.datetime(2019, 2, 2, 12, 11))]"
      ]
     },
     "execution_count": 43,
     "metadata": {},
     "output_type": "execute_result"
    }
   ],
   "source": [
    "%%sql\n",
    "select  \n",
    "DATE_PART('day', date_police_notified::time - crash_date::time) as days , \n",
    "DATE_PART('hour', date_police_notified::time - crash_date::time) as hours ,\n",
    "DATE_PART('minute', date_police_notified::time - crash_date::time) as minutes , accidents.injuries_total,day.crash_date,day.date_police_notified\n",
    "from accidents,day\n",
    "where day.key=accidents.day_key \n",
    "limit 10;"
   ]
  },
  {
   "cell_type": "markdown",
   "metadata": {},
   "source": [
    "### Q2. Relationship Between the Device Condition, Damage and Number of Crash."
   ]
  },
  {
   "cell_type": "markdown",
   "metadata": {},
   "source": [
    "##### Eg. if the device is not functioning normally, we might have more damage and more crashes. "
   ]
  },
  {
   "cell_type": "code",
   "execution_count": 44,
   "metadata": {},
   "outputs": [
    {
     "name": "stdout",
     "output_type": "stream",
     "text": [
      " * postgresql://student@/dk\n",
      "10 rows affected.\n"
     ]
    },
    {
     "data": {
      "text/html": [
       "<table>\n",
       "    <tr>\n",
       "        <th>traffic_control_device</th>\n",
       "        <th>device_condition</th>\n",
       "        <th>count</th>\n",
       "    </tr>\n",
       "    <tr>\n",
       "        <td>NO CONTROLS</td>\n",
       "        <td>NO CONTROLS</td>\n",
       "        <td>203749</td>\n",
       "    </tr>\n",
       "    <tr>\n",
       "        <td>TRAFFIC SIGNAL</td>\n",
       "        <td>FUNCTIONING PROPERLY</td>\n",
       "        <td>93329</td>\n",
       "    </tr>\n",
       "    <tr>\n",
       "        <td>STOP SIGN/FLASHER</td>\n",
       "        <td>FUNCTIONING PROPERLY</td>\n",
       "        <td>28310</td>\n",
       "    </tr>\n",
       "    <tr>\n",
       "        <td>UNKNOWN</td>\n",
       "        <td>UNKNOWN</td>\n",
       "        <td>12102</td>\n",
       "    </tr>\n",
       "    <tr>\n",
       "        <td>TRAFFIC SIGNAL</td>\n",
       "        <td>UNKNOWN</td>\n",
       "        <td>4439</td>\n",
       "    </tr>\n",
       "    <tr>\n",
       "        <td>STOP SIGN/FLASHER</td>\n",
       "        <td>NO CONTROLS</td>\n",
       "        <td>4141</td>\n",
       "    </tr>\n",
       "    <tr>\n",
       "        <td>NO CONTROLS</td>\n",
       "        <td>UNKNOWN</td>\n",
       "        <td>3115</td>\n",
       "    </tr>\n",
       "    <tr>\n",
       "        <td>STOP SIGN/FLASHER</td>\n",
       "        <td>UNKNOWN</td>\n",
       "        <td>2215</td>\n",
       "    </tr>\n",
       "    <tr>\n",
       "        <td>TRAFFIC SIGNAL</td>\n",
       "        <td>NO CONTROLS</td>\n",
       "        <td>1684</td>\n",
       "    </tr>\n",
       "    <tr>\n",
       "        <td>NO CONTROLS</td>\n",
       "        <td>FUNCTIONING PROPERLY</td>\n",
       "        <td>1600</td>\n",
       "    </tr>\n",
       "</table>"
      ],
      "text/plain": [
       "[('NO CONTROLS', 'NO CONTROLS', 203749),\n",
       " ('TRAFFIC SIGNAL', 'FUNCTIONING PROPERLY', 93329),\n",
       " ('STOP SIGN/FLASHER', 'FUNCTIONING PROPERLY', 28310),\n",
       " ('UNKNOWN', 'UNKNOWN', 12102),\n",
       " ('TRAFFIC SIGNAL', 'UNKNOWN', 4439),\n",
       " ('STOP SIGN/FLASHER', 'NO CONTROLS', 4141),\n",
       " ('NO CONTROLS', 'UNKNOWN', 3115),\n",
       " ('STOP SIGN/FLASHER', 'UNKNOWN', 2215),\n",
       " ('TRAFFIC SIGNAL', 'NO CONTROLS', 1684),\n",
       " ('NO CONTROLS', 'FUNCTIONING PROPERLY', 1600)]"
      ]
     },
     "execution_count": 44,
     "metadata": {},
     "output_type": "execute_result"
    }
   ],
   "source": [
    "%%sql\n",
    "select traffic_control_device,device_condition,count(*)\n",
    "from(\n",
    "select device_condition.device_condition,traffic_device.traffic_control_device,damage\n",
    "from device_condition,traffic_device,accidents\n",
    "where device_condition.key=accidents.device_condition_key and traffic_device.key=accidents.traffic_control_device_key\n",
    ") as t\n",
    "group by traffic_control_device,device_condition\n",
    "order by count(*) desc\n",
    "limit 10"
   ]
  },
  {
   "cell_type": "code",
   "execution_count": 45,
   "metadata": {},
   "outputs": [],
   "source": [
    "#most of crash occur in no traffic control situation, so government should pay more attention on these area, it will hugely impact the accident situation"
   ]
  },
  {
   "cell_type": "markdown",
   "metadata": {},
   "source": [
    "##### Relationship between the device condition and damage "
   ]
  },
  {
   "cell_type": "markdown",
   "metadata": {},
   "source": [
    "##### Considering the situation when the device condition of the traffic signal is not proper"
   ]
  },
  {
   "cell_type": "code",
   "execution_count": 46,
   "metadata": {},
   "outputs": [
    {
     "name": "stdout",
     "output_type": "stream",
     "text": [
      " * postgresql://student@/dk\n",
      "3 rows affected.\n"
     ]
    },
    {
     "data": {
      "text/html": [
       "<table>\n",
       "    <tr>\n",
       "        <th>damage</th>\n",
       "        <th>count</th>\n",
       "    </tr>\n",
       "    <tr>\n",
       "        <td>500</td>\n",
       "        <td>186</td>\n",
       "    </tr>\n",
       "    <tr>\n",
       "        <td>1000</td>\n",
       "        <td>343</td>\n",
       "    </tr>\n",
       "    <tr>\n",
       "        <td>1500</td>\n",
       "        <td>801</td>\n",
       "    </tr>\n",
       "</table>"
      ],
      "text/plain": [
       "[(Decimal('500'), 186), (Decimal('1000'), 343), (Decimal('1500'), 801)]"
      ]
     },
     "execution_count": 46,
     "metadata": {},
     "output_type": "execute_result"
    }
   ],
   "source": [
    "%%sql\n",
    "select damage,count(*)\n",
    "from(\n",
    "select device_condition, damage\n",
    "from (\n",
    "select device_condition.device_condition,traffic_device.traffic_control_device,damage\n",
    "from device_condition,traffic_device,accidents\n",
    "where device_condition.key=accidents.device_condition_key and traffic_device.key=accidents.traffic_control_device_key\n",
    ") as t\n",
    "where device_condition='FUNCTIONING IMPROPERLY' and traffic_control_device='TRAFFIC SIGNAL') as t1\n",
    "group by damage;"
   ]
  },
  {
   "cell_type": "code",
   "execution_count": 47,
   "metadata": {},
   "outputs": [
    {
     "data": {
      "text/plain": [
       "(-1.110071587730638, 1.113526007286741, -1.1130096406560681, 1.100619506697908)"
      ]
     },
     "execution_count": 47,
     "metadata": {},
     "output_type": "execute_result"
    },
    {
     "data": {
      "image/png": "[encoded data removed]",
      "text/plain": [
       "<Figure size 432x288 with 1 Axes>"
      ]
     },
     "metadata": {},
     "output_type": "display_data"
    }
   ],
   "source": [
    "%matplotlib inline\n",
    "import matplotlib.pyplot as plt\n",
    "_.pie(autopct='%1.1f%%',\n",
    "        shadow=True,startangle=90) \n",
    "plt.axis('equal')"
   ]
  },
  {
   "cell_type": "code",
   "execution_count": 48,
   "metadata": {},
   "outputs": [],
   "source": [
    "#Above is the propotion of traffic signal running improperly \n",
    "#we observe that the we have accidents with major impacts and high costs when the device condition of traffic lights is malfunctioning, we can tell them to account for working towards proper functioning of devices."
   ]
  },
  {
   "cell_type": "markdown",
   "metadata": {},
   "source": [
    "#### Accidents associated with the no control area of the city account for higher costs"
   ]
  },
  {
   "cell_type": "code",
   "execution_count": 49,
   "metadata": {},
   "outputs": [
    {
     "name": "stdout",
     "output_type": "stream",
     "text": [
      " * postgresql://student@/dk\n",
      "3 rows affected.\n"
     ]
    },
    {
     "data": {
      "text/html": [
       "<table>\n",
       "    <tr>\n",
       "        <th>damage</th>\n",
       "        <th>count</th>\n",
       "    </tr>\n",
       "    <tr>\n",
       "        <td>500</td>\n",
       "        <td>27311</td>\n",
       "    </tr>\n",
       "    <tr>\n",
       "        <td>1000</td>\n",
       "        <td>64837</td>\n",
       "    </tr>\n",
       "    <tr>\n",
       "        <td>1500</td>\n",
       "        <td>111601</td>\n",
       "    </tr>\n",
       "</table>"
      ],
      "text/plain": [
       "[(Decimal('500'), 27311), (Decimal('1000'), 64837), (Decimal('1500'), 111601)]"
      ]
     },
     "execution_count": 49,
     "metadata": {},
     "output_type": "execute_result"
    }
   ],
   "source": [
    "%%sql\n",
    "select damage,count(*)\n",
    "from(\n",
    "select device_condition, damage\n",
    "from (\n",
    "select device_condition.device_condition,traffic_device.traffic_control_device,damage\n",
    "from device_condition,traffic_device,accidents\n",
    "where device_condition.key=accidents.device_condition_key and traffic_device.key=accidents.traffic_control_device_key\n",
    ") as t\n",
    "where device_condition='NO CONTROLS' and traffic_control_device='NO CONTROLS') as t1\n",
    "group by damage"
   ]
  },
  {
   "cell_type": "code",
   "execution_count": 50,
   "metadata": {},
   "outputs": [],
   "source": [
    "#from above we can see that there are most number of accidents where we have no traffic signals and no control over the traffic \n",
    "#we showld look for this issue deeper and try to fix this, starting from the more prone areas "
   ]
  },
  {
   "cell_type": "markdown",
   "metadata": {},
   "source": [
    "### Q3. Weather Effects on Crashes"
   ]
  },
  {
   "cell_type": "markdown",
   "metadata": {},
   "source": [
    "##### Using an external weather data file for this that is based on chicago data"
   ]
  },
  {
   "cell_type": "code",
   "execution_count": 51,
   "metadata": {},
   "outputs": [
    {
     "name": "stdout",
     "output_type": "stream",
     "text": [
      " * postgresql://student@/dk\n",
      "3 rows affected.\n"
     ]
    },
    {
     "data": {
      "text/html": [
       "<table>\n",
       "    <tr>\n",
       "        <th>weather_condition</th>\n",
       "        <th>count</th>\n",
       "    </tr>\n",
       "    <tr>\n",
       "        <td>CLEAR</td>\n",
       "        <td>102893</td>\n",
       "    </tr>\n",
       "    <tr>\n",
       "        <td>RAIN</td>\n",
       "        <td>11879</td>\n",
       "    </tr>\n",
       "    <tr>\n",
       "        <td>SNOW</td>\n",
       "        <td>3323</td>\n",
       "    </tr>\n",
       "</table>"
      ],
      "text/plain": [
       "[('CLEAR', 102893), ('RAIN', 11879), ('SNOW', 3323)]"
      ]
     },
     "execution_count": 51,
     "metadata": {},
     "output_type": "execute_result"
    }
   ],
   "source": [
    "%%sql\n",
    "select weather_condition,count \n",
    "from(\n",
    "select weather_condition,count(*)\n",
    "from(\n",
    "select *\n",
    "from(\n",
    "select accidents.*,crash_date,weather_condition\n",
    "from accidents,day,weather\n",
    "where day.key=accidents.day_key and weather.key=accidents.weather_key) as t\n",
    "where crash_date between '2016-01-01' and '2017-12-31') as t1\n",
    "group by weather_condition) as t2\n",
    "where weather_condition='SNOW' or weather_condition='RAIN'\n",
    "or weather_condition='CLEAR'"
   ]
  },
  {
   "cell_type": "code",
   "execution_count": 52,
   "metadata": {},
   "outputs": [
    {
     "data": {
      "image/png": "[encoded data removed]",
      "text/plain": [
       "<Figure size 432x288 with 1 Axes>"
      ]
     },
     "metadata": {},
     "output_type": "display_data"
    }
   ],
   "source": [
    "%matplotlib inline\n",
    "import matplotlib.pyplot as plt\n",
    "_.pie(autopct='%1.1f%%',\n",
    "        shadow=True,startangle=90) \n",
    "plt.axis('equal')\n",
    "plt.show()"
   ]
  },
  {
   "cell_type": "code",
   "execution_count": 53,
   "metadata": {},
   "outputs": [
    {
     "name": "stdout",
     "output_type": "stream",
     "text": [
      "45253 weather_description.csv\n"
     ]
    }
   ],
   "source": [
    "!wc -l weather_description.csv  ## Chicago weather data"
   ]
  },
  {
   "cell_type": "code",
   "execution_count": 54,
   "metadata": {},
   "outputs": [
    {
     "name": "stdout",
     "output_type": "stream",
     "text": [
      "|            datetime | Chicago         |\n",
      "| ------------------- | --------------- |\n",
      "| 2012-10-01 12:00:00 |                 |\n",
      "| 2012-10-01 13:00:00 | overcast clouds |\n",
      "| 2012-10-01 14:00:00 | overcast clouds |\n",
      "| 2012-10-01 15:00:00 | overcast clouds |\n",
      "| 2012-10-01 16:00:00 | overcast clouds |\n",
      "| 2012-10-01 17:00:00 | overcast clouds |\n",
      "| 2012-10-01 18:00:00 | overcast clouds |\n",
      "| 2012-10-01 19:00:00 | overcast clouds |\n",
      "| 2012-10-01 20:00:00 | overcast clouds |\n"
     ]
    }
   ],
   "source": [
    "!head weather_description.csv|csvlook"
   ]
  },
  {
   "cell_type": "code",
   "execution_count": 55,
   "metadata": {},
   "outputs": [
    {
     "name": "stdout",
     "output_type": "stream",
     "text": [
      " * postgresql://student@/dk\n",
      "Done.\n",
      "Done.\n"
     ]
    },
    {
     "data": {
      "text/plain": [
       "[]"
      ]
     },
     "execution_count": 55,
     "metadata": {},
     "output_type": "execute_result"
    }
   ],
   "source": [
    "%%sql\n",
    "DROP TABLE IF EXISTS weather_of_Chicago Cascade;\n",
    "\n",
    "create table weather_of_Chicago(\n",
    "    datetime timestamp,\n",
    "    weather varchar(200)\n",
    ")"
   ]
  },
  {
   "cell_type": "code",
   "execution_count": 56,
   "metadata": {},
   "outputs": [
    {
     "name": "stdout",
     "output_type": "stream",
     "text": [
      " * postgresql://student@/dk\n",
      "45253 rows affected.\n"
     ]
    },
    {
     "data": {
      "text/plain": [
       "[]"
      ]
     },
     "execution_count": 56,
     "metadata": {},
     "output_type": "execute_result"
    }
   ],
   "source": [
    "%%sql\n",
    "COPY weather_of_Chicago FROM '/home/ubuntu/SQL/Week12/weather_description.csv'\n",
    "CSV\n",
    "HEADER\n",
    ";"
   ]
  },
  {
   "cell_type": "code",
   "execution_count": 57,
   "metadata": {},
   "outputs": [
    {
     "name": "stdout",
     "output_type": "stream",
     "text": [
      " * postgresql://student@/dk\n",
      "30 rows affected.\n"
     ]
    },
    {
     "data": {
      "text/html": [
       "<table>\n",
       "    <tr>\n",
       "        <th>weather</th>\n",
       "        <th>count</th>\n",
       "    </tr>\n",
       "    <tr>\n",
       "        <td>thunderstorm with drizzle</td>\n",
       "        <td>1</td>\n",
       "    </tr>\n",
       "    <tr>\n",
       "        <td>smoke</td>\n",
       "        <td>1</td>\n",
       "    </tr>\n",
       "    <tr>\n",
       "        <td>thunderstorm with light drizzle</td>\n",
       "        <td>1</td>\n",
       "    </tr>\n",
       "    <tr>\n",
       "        <td>very heavy rain</td>\n",
       "        <td>2</td>\n",
       "    </tr>\n",
       "    <tr>\n",
       "        <td>dust</td>\n",
       "        <td>2</td>\n",
       "    </tr>\n",
       "    <tr>\n",
       "        <td>heavy snow</td>\n",
       "        <td>2</td>\n",
       "    </tr>\n",
       "    <tr>\n",
       "        <td>proximity shower rain</td>\n",
       "        <td>2</td>\n",
       "    </tr>\n",
       "    <tr>\n",
       "        <td>proximity thunderstorm with drizzle</td>\n",
       "        <td>2</td>\n",
       "    </tr>\n",
       "    <tr>\n",
       "        <td>heavy intensity drizzle</td>\n",
       "        <td>5</td>\n",
       "    </tr>\n",
       "    <tr>\n",
       "        <td>proximity thunderstorm with rain</td>\n",
       "        <td>9</td>\n",
       "    </tr>\n",
       "    <tr>\n",
       "        <td>thunderstorm with heavy rain</td>\n",
       "        <td>10</td>\n",
       "    </tr>\n",
       "    <tr>\n",
       "        <td>thunderstorm with rain</td>\n",
       "        <td>11</td>\n",
       "    </tr>\n",
       "    <tr>\n",
       "        <td>thunderstorm with light rain</td>\n",
       "        <td>23</td>\n",
       "    </tr>\n",
       "    <tr>\n",
       "        <td>snow</td>\n",
       "        <td>28</td>\n",
       "    </tr>\n",
       "    <tr>\n",
       "        <td>thunderstorm</td>\n",
       "        <td>39</td>\n",
       "    </tr>\n",
       "    <tr>\n",
       "        <td>heavy intensity rain</td>\n",
       "        <td>96</td>\n",
       "    </tr>\n",
       "    <tr>\n",
       "        <td>drizzle</td>\n",
       "        <td>111</td>\n",
       "    </tr>\n",
       "    <tr>\n",
       "        <td>proximity thunderstorm</td>\n",
       "        <td>124</td>\n",
       "    </tr>\n",
       "    <tr>\n",
       "        <td>light intensity drizzle</td>\n",
       "        <td>154</td>\n",
       "    </tr>\n",
       "    <tr>\n",
       "        <td>fog</td>\n",
       "        <td>345</td>\n",
       "    </tr>\n",
       "    <tr>\n",
       "        <td>light snow</td>\n",
       "        <td>403</td>\n",
       "    </tr>\n",
       "    <tr>\n",
       "        <td>moderate rain</td>\n",
       "        <td>424</td>\n",
       "    </tr>\n",
       "    <tr>\n",
       "        <td>haze</td>\n",
       "        <td>492</td>\n",
       "    </tr>\n",
       "    <tr>\n",
       "        <td>few clouds</td>\n",
       "        <td>1247</td>\n",
       "    </tr>\n",
       "    <tr>\n",
       "        <td>light rain</td>\n",
       "        <td>1260</td>\n",
       "    </tr>\n",
       "    <tr>\n",
       "        <td>scattered clouds</td>\n",
       "        <td>1509</td>\n",
       "    </tr>\n",
       "    <tr>\n",
       "        <td>overcast clouds</td>\n",
       "        <td>1849</td>\n",
       "    </tr>\n",
       "    <tr>\n",
       "        <td>broken clouds</td>\n",
       "        <td>2114</td>\n",
       "    </tr>\n",
       "    <tr>\n",
       "        <td>mist</td>\n",
       "        <td>2331</td>\n",
       "    </tr>\n",
       "    <tr>\n",
       "        <td>sky is clear</td>\n",
       "        <td>4180</td>\n",
       "    </tr>\n",
       "</table>"
      ],
      "text/plain": [
       "[('thunderstorm with drizzle', 1),\n",
       " ('smoke', 1),\n",
       " ('thunderstorm with light drizzle', 1),\n",
       " ('very heavy rain', 2),\n",
       " ('dust', 2),\n",
       " ('heavy snow', 2),\n",
       " ('proximity shower rain', 2),\n",
       " ('proximity thunderstorm with drizzle', 2),\n",
       " ('heavy intensity drizzle', 5),\n",
       " ('proximity thunderstorm with rain', 9),\n",
       " ('thunderstorm with heavy rain', 10),\n",
       " ('thunderstorm with rain', 11),\n",
       " ('thunderstorm with light rain', 23),\n",
       " ('snow', 28),\n",
       " ('thunderstorm', 39),\n",
       " ('heavy intensity rain', 96),\n",
       " ('drizzle', 111),\n",
       " ('proximity thunderstorm', 124),\n",
       " ('light intensity drizzle', 154),\n",
       " ('fog', 345),\n",
       " ('light snow', 403),\n",
       " ('moderate rain', 424),\n",
       " ('haze', 492),\n",
       " ('few clouds', 1247),\n",
       " ('light rain', 1260),\n",
       " ('scattered clouds', 1509),\n",
       " ('overcast clouds', 1849),\n",
       " ('broken clouds', 2114),\n",
       " ('mist', 2331),\n",
       " ('sky is clear', 4180)]"
      ]
     },
     "execution_count": 57,
     "metadata": {},
     "output_type": "execute_result"
    }
   ],
   "source": [
    "%%sql\n",
    "select weather, count(weather)\n",
    "from(\n",
    "select * from weather_of_Chicago\n",
    "where datetime between '2016-01-01' and '2017-12-31') as t\n",
    "group by weather\n",
    "order by count(*)"
   ]
  },
  {
   "cell_type": "code",
   "execution_count": 58,
   "metadata": {},
   "outputs": [
    {
     "name": "stdout",
     "output_type": "stream",
     "text": [
      " * postgresql://student@/dk\n",
      "3 rows affected.\n"
     ]
    },
    {
     "data": {
      "text/html": [
       "<table>\n",
       "    <tr>\n",
       "        <th>sum</th>\n",
       "    </tr>\n",
       "    <tr>\n",
       "        <td>1837</td>\n",
       "    </tr>\n",
       "    <tr>\n",
       "        <td>4180</td>\n",
       "    </tr>\n",
       "    <tr>\n",
       "        <td>433</td>\n",
       "    </tr>\n",
       "</table>"
      ],
      "text/plain": [
       "[(Decimal('1837'),), (Decimal('4180'),), (Decimal('433'),)]"
      ]
     },
     "execution_count": 58,
     "metadata": {},
     "output_type": "execute_result"
    }
   ],
   "source": [
    "%%sql\n",
    "(select sum(count)\n",
    "from(\n",
    "select weather, count(weather)\n",
    "from(\n",
    "select * from weather_of_Chicago\n",
    "where datetime between '2016-01-01' and '2017-12-31') as t\n",
    "group by weather\n",
    "order by count(*)) as t\n",
    "where weather like '%snow')\n",
    "union\n",
    "(\n",
    "select sum(count)\n",
    "from(\n",
    "select weather, count(weather)\n",
    "from(\n",
    "select * from weather_of_Chicago\n",
    "where datetime between '2016-01-01' and '2017-12-31') as t\n",
    "group by weather\n",
    "order by count(*)) as t\n",
    "where weather like '%clear') \n",
    "union\n",
    "(select sum(count)\n",
    "from(\n",
    "select weather, count(weather)\n",
    "from(\n",
    "select * from weather_of_Chicago\n",
    "where datetime between '2016-01-01' and '2017-12-31') as t\n",
    "group by weather\n",
    "order by count(*)) as t\n",
    "where weather like '%rain')"
   ]
  },
  {
   "cell_type": "code",
   "execution_count": 59,
   "metadata": {},
   "outputs": [
    {
     "data": {
      "image/png": "[encoded data removed]",
      "text/plain": [
       "<Figure size 432x288 with 1 Axes>"
      ]
     },
     "metadata": {},
     "output_type": "display_data"
    }
   ],
   "source": [
    "import numpy as np  \n",
    "import matplotlib.mlab as mlab  \n",
    "import matplotlib.pyplot as plt  \n",
    "labels=['snow','rain','clear']\n",
    "X=[433,1837,4180]  \n",
    " \n",
    "fig = plt.figure()\n",
    "plt.pie(X,labels=labels,autopct='%1.2f%%') \n",
    "plt.title(\"weather of Chicago in 2016-2017\") \n",
    "plt.show() "
   ]
  },
  {
   "cell_type": "code",
   "execution_count": 60,
   "metadata": {},
   "outputs": [],
   "source": [
    "#snow and rain lead to less visibility but the number of days with snow and rain are also lesser so we cannot clearly state the reason about the accidents."
   ]
  },
  {
   "cell_type": "code",
   "execution_count": 61,
   "metadata": {},
   "outputs": [],
   "source": [
    "#the above graph as a bar chart"
   ]
  },
  {
   "cell_type": "code",
   "execution_count": 62,
   "metadata": {},
   "outputs": [
    {
     "data": {
      "image/png": "[encoded data removed]",
      "text/plain": [
       "<Figure size 432x288 with 1 Axes>"
      ]
     },
     "metadata": {
      "needs_background": "light"
     },
     "output_type": "display_data"
    }
   ],
   "source": [
    "\n",
    "import matplotlib.pyplot as plt\n",
    " \n",
    "name_list = ['snow','rain','clear']\n",
    "num_list = [3323/433,11879/1837,102893/4180]  \n",
    "plt.bar(range(len(num_list)), num_list,color='rgb',tick_label=name_list)\n",
    "plt.show()\n"
   ]
  },
  {
   "cell_type": "code",
   "execution_count": 63,
   "metadata": {},
   "outputs": [
    {
     "name": "stdout",
     "output_type": "stream",
     "text": [
      " * postgresql://student@/dk\n",
      "3 rows affected.\n"
     ]
    },
    {
     "data": {
      "text/html": [
       "<table>\n",
       "    <tr>\n",
       "        <th>weather_condition</th>\n",
       "        <th>count</th>\n",
       "    </tr>\n",
       "    <tr>\n",
       "        <td>CLEAR</td>\n",
       "        <td>102893</td>\n",
       "    </tr>\n",
       "    <tr>\n",
       "        <td>RAIN</td>\n",
       "        <td>11879</td>\n",
       "    </tr>\n",
       "    <tr>\n",
       "        <td>SNOW</td>\n",
       "        <td>3323</td>\n",
       "    </tr>\n",
       "</table>"
      ],
      "text/plain": [
       "[('CLEAR', 102893), ('RAIN', 11879), ('SNOW', 3323)]"
      ]
     },
     "execution_count": 63,
     "metadata": {},
     "output_type": "execute_result"
    }
   ],
   "source": [
    "%%sql\n",
    "select weather_condition,count \n",
    "from(\n",
    "select weather_condition,count(*)\n",
    "from(\n",
    "select *\n",
    "from(\n",
    "select accidents.*,crash_date,weather_condition\n",
    "from accidents,day,weather\n",
    "where day.key=accidents.day_key and weather.key=accidents.weather_key) as t\n",
    "where crash_date between '2016-01-01' and '2017-12-31') as t1\n",
    "group by weather_condition) as t2\n",
    "where weather_condition='SNOW' or weather_condition='RAIN'\n",
    "or weather_condition='CLEAR'"
   ]
  },
  {
   "cell_type": "code",
   "execution_count": 64,
   "metadata": {},
   "outputs": [],
   "source": [
    "#we have hourly data so this is an hourly condition, we are analysing at an hourly condition."
   ]
  },
  {
   "cell_type": "code",
   "execution_count": 65,
   "metadata": {},
   "outputs": [],
   "source": [
    "#This figure shows the rate: number of carsh occurred in per hour in different weather conditions. The result shows that in clear day, there is the largest number of crash happened in one hour. Then is snow and the last is rain. \n",
    "#But why? first we separated weather into clear weather and bad weather. During clear weather, there are more cars on street and drivers will be less alert. So there will be more crash in clear weather than in bad weather. \n",
    "#We have significantly less rain and snow days but still many crashes in terms of proportion\n",
    "#Then for the bad weather i.e., snow and rain days are both belong to bad weather and why crash rate in snow days is larger than in rain days? In my opinion, during snow days, road conditions will be worse, driver visibility is low, and smooth roads can make it difficult to control the vehicle, resulting in more accidents per hour"
   ]
  },
  {
   "cell_type": "code",
   "execution_count": 66,
   "metadata": {},
   "outputs": [],
   "source": [
    "#if we talk about the proportions we can see that for such few hours where it snows/rains there are more frequent accidents."
   ]
  },
  {
   "cell_type": "markdown",
   "metadata": {},
   "source": [
    "### Additional Analysis Using the Data Set"
   ]
  },
  {
   "cell_type": "markdown",
   "metadata": {},
   "source": [
    "##### Top 5 Primary_Contributory_Cause for Each Weather"
   ]
  },
  {
   "cell_type": "code",
   "execution_count": 67,
   "metadata": {},
   "outputs": [],
   "source": [
    "import matplotlib.pyplot as plt\n",
    "%matplotlib inline"
   ]
  },
  {
   "cell_type": "code",
   "execution_count": 68,
   "metadata": {},
   "outputs": [
    {
     "name": "stdout",
     "output_type": "stream",
     "text": [
      " * postgresql://student@/dk\n",
      "56 rows affected.\n"
     ]
    },
    {
     "data": {
      "text/html": [
       "<table>\n",
       "    <tr>\n",
       "        <th>weather_condition</th>\n",
       "        <th>prim_contributory_cause</th>\n",
       "        <th>count</th>\n",
       "    </tr>\n",
       "    <tr>\n",
       "        <td>CLEAR</td>\n",
       "        <td>UNABLE TO DETERMINE</td>\n",
       "        <td>102314</td>\n",
       "    </tr>\n",
       "    <tr>\n",
       "        <td>CLEAR</td>\n",
       "        <td>FAILING TO YIELD RIGHT-OF-WAY</td>\n",
       "        <td>33162</td>\n",
       "    </tr>\n",
       "    <tr>\n",
       "        <td>CLEAR</td>\n",
       "        <td>FOLLOWING TOO CLOSELY</td>\n",
       "        <td>33006</td>\n",
       "    </tr>\n",
       "    <tr>\n",
       "        <td>CLEAR</td>\n",
       "        <td>NOT APPLICABLE</td>\n",
       "        <td>15590</td>\n",
       "    </tr>\n",
       "    <tr>\n",
       "        <td>CLEAR</td>\n",
       "        <td>IMPROPER OVERTAKING/PASSING</td>\n",
       "        <td>14828</td>\n",
       "    </tr>\n",
       "    <tr>\n",
       "        <td>RAIN</td>\n",
       "        <td>UNABLE TO DETERMINE</td>\n",
       "        <td>10667</td>\n",
       "    </tr>\n",
       "    <tr>\n",
       "        <td>RAIN</td>\n",
       "        <td>FOLLOWING TOO CLOSELY</td>\n",
       "        <td>4178</td>\n",
       "    </tr>\n",
       "    <tr>\n",
       "        <td>RAIN</td>\n",
       "        <td>FAILING TO YIELD RIGHT-OF-WAY</td>\n",
       "        <td>4152</td>\n",
       "    </tr>\n",
       "    <tr>\n",
       "        <td>RAIN</td>\n",
       "        <td>WEATHER</td>\n",
       "        <td>2180</td>\n",
       "    </tr>\n",
       "    <tr>\n",
       "        <td>RAIN</td>\n",
       "        <td>FAILING TO REDUCE SPEED TO AVOID CRASH</td>\n",
       "        <td>1711</td>\n",
       "    </tr>\n",
       "    <tr>\n",
       "        <td>UNKNOWN</td>\n",
       "        <td>UNABLE TO DETERMINE</td>\n",
       "        <td>10051</td>\n",
       "    </tr>\n",
       "    <tr>\n",
       "        <td>UNKNOWN</td>\n",
       "        <td>NOT APPLICABLE</td>\n",
       "        <td>1540</td>\n",
       "    </tr>\n",
       "    <tr>\n",
       "        <td>UNKNOWN</td>\n",
       "        <td>FOLLOWING TOO CLOSELY</td>\n",
       "        <td>736</td>\n",
       "    </tr>\n",
       "    <tr>\n",
       "        <td>UNKNOWN</td>\n",
       "        <td>FAILING TO YIELD RIGHT-OF-WAY</td>\n",
       "        <td>556</td>\n",
       "    </tr>\n",
       "    <tr>\n",
       "        <td>UNKNOWN</td>\n",
       "        <td>IMPROPER BACKING</td>\n",
       "        <td>500</td>\n",
       "    </tr>\n",
       "    <tr>\n",
       "        <td>SNOW</td>\n",
       "        <td>UNABLE TO DETERMINE</td>\n",
       "        <td>3871</td>\n",
       "    </tr>\n",
       "    <tr>\n",
       "        <td>SNOW</td>\n",
       "        <td>WEATHER</td>\n",
       "        <td>2460</td>\n",
       "    </tr>\n",
       "    <tr>\n",
       "        <td>SNOW</td>\n",
       "        <td>FOLLOWING TOO CLOSELY</td>\n",
       "        <td>1242</td>\n",
       "    </tr>\n",
       "    <tr>\n",
       "        <td>SNOW</td>\n",
       "        <td>FAILING TO YIELD RIGHT-OF-WAY</td>\n",
       "        <td>1071</td>\n",
       "    </tr>\n",
       "    <tr>\n",
       "        <td>SNOW</td>\n",
       "        <td>NOT APPLICABLE</td>\n",
       "        <td>603</td>\n",
       "    </tr>\n",
       "    <tr>\n",
       "        <td>CLOUDY/OVERCAST</td>\n",
       "        <td>UNABLE TO DETERMINE</td>\n",
       "        <td>3430</td>\n",
       "    </tr>\n",
       "    <tr>\n",
       "        <td>CLOUDY/OVERCAST</td>\n",
       "        <td>FAILING TO YIELD RIGHT-OF-WAY</td>\n",
       "        <td>1543</td>\n",
       "    </tr>\n",
       "    <tr>\n",
       "        <td>CLOUDY/OVERCAST</td>\n",
       "        <td>FOLLOWING TOO CLOSELY</td>\n",
       "        <td>1271</td>\n",
       "    </tr>\n",
       "    <tr>\n",
       "        <td>CLOUDY/OVERCAST</td>\n",
       "        <td>IMPROPER OVERTAKING/PASSING</td>\n",
       "        <td>589</td>\n",
       "    </tr>\n",
       "    <tr>\n",
       "        <td>CLOUDY/OVERCAST</td>\n",
       "        <td>IMPROPER BACKING</td>\n",
       "        <td>515</td>\n",
       "    </tr>\n",
       "    <tr>\n",
       "        <td>OTHER</td>\n",
       "        <td>UNABLE TO DETERMINE</td>\n",
       "        <td>345</td>\n",
       "    </tr>\n",
       "    <tr>\n",
       "        <td>OTHER</td>\n",
       "        <td>WEATHER</td>\n",
       "        <td>145</td>\n",
       "    </tr>\n",
       "    <tr>\n",
       "        <td>OTHER</td>\n",
       "        <td>FAILING TO YIELD RIGHT-OF-WAY</td>\n",
       "        <td>97</td>\n",
       "    </tr>\n",
       "    <tr>\n",
       "        <td>OTHER</td>\n",
       "        <td>FOLLOWING TOO CLOSELY</td>\n",
       "        <td>91</td>\n",
       "    </tr>\n",
       "    <tr>\n",
       "        <td>OTHER</td>\n",
       "        <td>NOT APPLICABLE</td>\n",
       "        <td>80</td>\n",
       "    </tr>\n",
       "    <tr>\n",
       "        <td>FOG/SMOKE/HAZE</td>\n",
       "        <td>UNABLE TO DETERMINE</td>\n",
       "        <td>207</td>\n",
       "    </tr>\n",
       "    <tr>\n",
       "        <td>FOG/SMOKE/HAZE</td>\n",
       "        <td>FOLLOWING TOO CLOSELY</td>\n",
       "        <td>82</td>\n",
       "    </tr>\n",
       "    <tr>\n",
       "        <td>FOG/SMOKE/HAZE</td>\n",
       "        <td>FAILING TO YIELD RIGHT-OF-WAY</td>\n",
       "        <td>67</td>\n",
       "    </tr>\n",
       "    <tr>\n",
       "        <td>FOG/SMOKE/HAZE</td>\n",
       "        <td>WEATHER</td>\n",
       "        <td>36</td>\n",
       "    </tr>\n",
       "    <tr>\n",
       "        <td>FOG/SMOKE/HAZE</td>\n",
       "        <td>NOT APPLICABLE</td>\n",
       "        <td>35</td>\n",
       "    </tr>\n",
       "    <tr>\n",
       "        <td>SLEET/HAIL</td>\n",
       "        <td>UNABLE TO DETERMINE</td>\n",
       "        <td>164</td>\n",
       "    </tr>\n",
       "    <tr>\n",
       "        <td>SLEET/HAIL</td>\n",
       "        <td>WEATHER</td>\n",
       "        <td>120</td>\n",
       "    </tr>\n",
       "    <tr>\n",
       "        <td>SLEET/HAIL</td>\n",
       "        <td>FAILING TO YIELD RIGHT-OF-WAY</td>\n",
       "        <td>66</td>\n",
       "    </tr>\n",
       "    <tr>\n",
       "        <td>SLEET/HAIL</td>\n",
       "        <td>FOLLOWING TOO CLOSELY</td>\n",
       "        <td>52</td>\n",
       "    </tr>\n",
       "    <tr>\n",
       "        <td>SLEET/HAIL</td>\n",
       "        <td>FAILING TO REDUCE SPEED TO AVOID CRASH</td>\n",
       "        <td>20</td>\n",
       "    </tr>\n",
       "    <tr>\n",
       "        <td>FREEZING RAIN/DRIZZLE</td>\n",
       "        <td>UNABLE TO DETERMINE</td>\n",
       "        <td>53</td>\n",
       "    </tr>\n",
       "    <tr>\n",
       "        <td>FREEZING RAIN/DRIZZLE</td>\n",
       "        <td>NOT APPLICABLE</td>\n",
       "        <td>14</td>\n",
       "    </tr>\n",
       "    <tr>\n",
       "        <td>FREEZING RAIN/DRIZZLE</td>\n",
       "        <td>FOLLOWING TOO CLOSELY</td>\n",
       "        <td>11</td>\n",
       "    </tr>\n",
       "    <tr>\n",
       "        <td>FREEZING RAIN/DRIZZLE</td>\n",
       "        <td>FAILING TO YIELD RIGHT-OF-WAY</td>\n",
       "        <td>11</td>\n",
       "    </tr>\n",
       "    <tr>\n",
       "        <td>FREEZING RAIN/DRIZZLE</td>\n",
       "        <td>WEATHER</td>\n",
       "        <td>8</td>\n",
       "    </tr>\n",
       "    <tr>\n",
       "        <td>FREEZING RAIN/DRIZZLE</td>\n",
       "        <td>FAILING TO REDUCE SPEED TO AVOID CRASH</td>\n",
       "        <td>8</td>\n",
       "    </tr>\n",
       "    <tr>\n",
       "        <td>SEVERE CROSS WIND GATE</td>\n",
       "        <td>WEATHER</td>\n",
       "        <td>23</td>\n",
       "    </tr>\n",
       "    <tr>\n",
       "        <td>SEVERE CROSS WIND GATE</td>\n",
       "        <td>UNABLE TO DETERMINE</td>\n",
       "        <td>17</td>\n",
       "    </tr>\n",
       "    <tr>\n",
       "        <td>SEVERE CROSS WIND GATE</td>\n",
       "        <td>FAILING TO YIELD RIGHT-OF-WAY</td>\n",
       "        <td>10</td>\n",
       "    </tr>\n",
       "    <tr>\n",
       "        <td>SEVERE CROSS WIND GATE</td>\n",
       "        <td>NOT APPLICABLE</td>\n",
       "        <td>6</td>\n",
       "    </tr>\n",
       "    <tr>\n",
       "        <td>SEVERE CROSS WIND GATE</td>\n",
       "        <td>FAILING TO REDUCE SPEED TO AVOID CRASH</td>\n",
       "        <td>6</td>\n",
       "    </tr>\n",
       "    <tr>\n",
       "        <td>BLOWING SNOW</td>\n",
       "        <td>WEATHER</td>\n",
       "        <td>4</td>\n",
       "    </tr>\n",
       "    <tr>\n",
       "        <td>BLOWING SNOW</td>\n",
       "        <td>UNABLE TO DETERMINE</td>\n",
       "        <td>4</td>\n",
       "    </tr>\n",
       "    <tr>\n",
       "        <td>BLOWING SNOW</td>\n",
       "        <td>FOLLOWING TOO CLOSELY</td>\n",
       "        <td>3</td>\n",
       "    </tr>\n",
       "    <tr>\n",
       "        <td>BLOWING SNOW</td>\n",
       "        <td>FAILING TO REDUCE SPEED TO AVOID CRASH</td>\n",
       "        <td>2</td>\n",
       "    </tr>\n",
       "    <tr>\n",
       "        <td>BLOWING SNOW</td>\n",
       "        <td>DRIVING SKILLS/KNOWLEDGE/EXPERIENCE</td>\n",
       "        <td>2</td>\n",
       "    </tr>\n",
       "</table>"
      ],
      "text/plain": [
       "[('CLEAR', 'UNABLE TO DETERMINE', 102314),\n",
       " ('CLEAR', 'FAILING TO YIELD RIGHT-OF-WAY', 33162),\n",
       " ('CLEAR', 'FOLLOWING TOO CLOSELY', 33006),\n",
       " ('CLEAR', 'NOT APPLICABLE', 15590),\n",
       " ('CLEAR', 'IMPROPER OVERTAKING/PASSING', 14828),\n",
       " ('RAIN', 'UNABLE TO DETERMINE', 10667),\n",
       " ('RAIN', 'FOLLOWING TOO CLOSELY', 4178),\n",
       " ('RAIN', 'FAILING TO YIELD RIGHT-OF-WAY', 4152),\n",
       " ('RAIN', 'WEATHER', 2180),\n",
       " ('RAIN', 'FAILING TO REDUCE SPEED TO AVOID CRASH', 1711),\n",
       " ('UNKNOWN', 'UNABLE TO DETERMINE', 10051),\n",
       " ('UNKNOWN', 'NOT APPLICABLE', 1540),\n",
       " ('UNKNOWN', 'FOLLOWING TOO CLOSELY', 736),\n",
       " ('UNKNOWN', 'FAILING TO YIELD RIGHT-OF-WAY', 556),\n",
       " ('UNKNOWN', 'IMPROPER BACKING', 500),\n",
       " ('SNOW', 'UNABLE TO DETERMINE', 3871),\n",
       " ('SNOW', 'WEATHER', 2460),\n",
       " ('SNOW', 'FOLLOWING TOO CLOSELY', 1242),\n",
       " ('SNOW', 'FAILING TO YIELD RIGHT-OF-WAY', 1071),\n",
       " ('SNOW', 'NOT APPLICABLE', 603),\n",
       " ('CLOUDY/OVERCAST', 'UNABLE TO DETERMINE', 3430),\n",
       " ('CLOUDY/OVERCAST', 'FAILING TO YIELD RIGHT-OF-WAY', 1543),\n",
       " ('CLOUDY/OVERCAST', 'FOLLOWING TOO CLOSELY', 1271),\n",
       " ('CLOUDY/OVERCAST', 'IMPROPER OVERTAKING/PASSING', 589),\n",
       " ('CLOUDY/OVERCAST', 'IMPROPER BACKING', 515),\n",
       " ('OTHER', 'UNABLE TO DETERMINE', 345),\n",
       " ('OTHER', 'WEATHER', 145),\n",
       " ('OTHER', 'FAILING TO YIELD RIGHT-OF-WAY', 97),\n",
       " ('OTHER', 'FOLLOWING TOO CLOSELY', 91),\n",
       " ('OTHER', 'NOT APPLICABLE', 80),\n",
       " ('FOG/SMOKE/HAZE', 'UNABLE TO DETERMINE', 207),\n",
       " ('FOG/SMOKE/HAZE', 'FOLLOWING TOO CLOSELY', 82),\n",
       " ('FOG/SMOKE/HAZE', 'FAILING TO YIELD RIGHT-OF-WAY', 67),\n",
       " ('FOG/SMOKE/HAZE', 'WEATHER', 36),\n",
       " ('FOG/SMOKE/HAZE', 'NOT APPLICABLE', 35),\n",
       " ('SLEET/HAIL', 'UNABLE TO DETERMINE', 164),\n",
       " ('SLEET/HAIL', 'WEATHER', 120),\n",
       " ('SLEET/HAIL', 'FAILING TO YIELD RIGHT-OF-WAY', 66),\n",
       " ('SLEET/HAIL', 'FOLLOWING TOO CLOSELY', 52),\n",
       " ('SLEET/HAIL', 'FAILING TO REDUCE SPEED TO AVOID CRASH', 20),\n",
       " ('FREEZING RAIN/DRIZZLE', 'UNABLE TO DETERMINE', 53),\n",
       " ('FREEZING RAIN/DRIZZLE', 'NOT APPLICABLE', 14),\n",
       " ('FREEZING RAIN/DRIZZLE', 'FOLLOWING TOO CLOSELY', 11),\n",
       " ('FREEZING RAIN/DRIZZLE', 'FAILING TO YIELD RIGHT-OF-WAY', 11),\n",
       " ('FREEZING RAIN/DRIZZLE', 'WEATHER', 8),\n",
       " ('FREEZING RAIN/DRIZZLE', 'FAILING TO REDUCE SPEED TO AVOID CRASH', 8),\n",
       " ('SEVERE CROSS WIND GATE', 'WEATHER', 23),\n",
       " ('SEVERE CROSS WIND GATE', 'UNABLE TO DETERMINE', 17),\n",
       " ('SEVERE CROSS WIND GATE', 'FAILING TO YIELD RIGHT-OF-WAY', 10),\n",
       " ('SEVERE CROSS WIND GATE', 'NOT APPLICABLE', 6),\n",
       " ('SEVERE CROSS WIND GATE', 'FAILING TO REDUCE SPEED TO AVOID CRASH', 6),\n",
       " ('BLOWING SNOW', 'WEATHER', 4),\n",
       " ('BLOWING SNOW', 'UNABLE TO DETERMINE', 4),\n",
       " ('BLOWING SNOW', 'FOLLOWING TOO CLOSELY', 3),\n",
       " ('BLOWING SNOW', 'FAILING TO REDUCE SPEED TO AVOID CRASH', 2),\n",
       " ('BLOWING SNOW', 'DRIVING SKILLS/KNOWLEDGE/EXPERIENCE', 2)]"
      ]
     },
     "execution_count": 68,
     "metadata": {},
     "output_type": "execute_result"
    }
   ],
   "source": [
    "%%sql\n",
    "select weather_condition,prim_contributory_cause,count from(\n",
    "select * from(\n",
    "select weather_condition,prim_contributory_cause,count(*), sum(count(*)) over (Partition BY n.weather_condition) as total, rank()\n",
    "over(Partition BY n.weather_condition ORDER BY count(*) DESC) as rank\n",
    "from(\n",
    "select accidents.*, crash_dump.*,weather.*\n",
    "from accidents, crash_dump,weather\n",
    "where crash_dump.key=accidents.crash_dump_key and weather.key=accidents.weather_key) as n\n",
    "group by n.weather_condition,n.prim_contributory_cause\n",
    ") as m\n",
    "where rank<6\n",
    "order by total desc, rank asc\n",
    ")\n",
    "as l;"
   ]
  },
  {
   "cell_type": "markdown",
   "metadata": {},
   "source": [
    "Observation:\n",
    "1.FOLLOWING TOO CLOSELY and FAILING TO YIELD RIGHT-OF-WAY are both prevalent in all kinds of weathers. \n",
    "2.In harsh weather, WEATHER is often the main cause and ranks high in all the causes."
   ]
  },
  {
   "cell_type": "markdown",
   "metadata": {},
   "source": [
    "##### Top 5 Primary_Contributory_Cause for Three Levels of Damage"
   ]
  },
  {
   "cell_type": "code",
   "execution_count": 69,
   "metadata": {},
   "outputs": [
    {
     "name": "stdout",
     "output_type": "stream",
     "text": [
      " * postgresql://student@/dk\n",
      "15 rows affected.\n"
     ]
    },
    {
     "data": {
      "text/html": [
       "<table>\n",
       "    <tr>\n",
       "        <th>damage</th>\n",
       "        <th>prim_contributory_cause</th>\n",
       "        <th>count</th>\n",
       "        <th>rank</th>\n",
       "    </tr>\n",
       "    <tr>\n",
       "        <td>500</td>\n",
       "        <td>FOLLOWING TOO CLOSELY</td>\n",
       "        <td>5505</td>\n",
       "        <td>1</td>\n",
       "    </tr>\n",
       "    <tr>\n",
       "        <td>500</td>\n",
       "        <td>FAILING TO YIELD RIGHT-OF-WAY</td>\n",
       "        <td>4985</td>\n",
       "        <td>2</td>\n",
       "    </tr>\n",
       "    <tr>\n",
       "        <td>500</td>\n",
       "        <td>IMPROPER BACKING</td>\n",
       "        <td>3093</td>\n",
       "        <td>3</td>\n",
       "    </tr>\n",
       "    <tr>\n",
       "        <td>500</td>\n",
       "        <td>IMPROPER OVERTAKING/PASSING</td>\n",
       "        <td>2655</td>\n",
       "        <td>4</td>\n",
       "    </tr>\n",
       "    <tr>\n",
       "        <td>500</td>\n",
       "        <td>IMPROPER LANE USAGE</td>\n",
       "        <td>1821</td>\n",
       "        <td>5</td>\n",
       "    </tr>\n",
       "    <tr>\n",
       "        <td>1000</td>\n",
       "        <td>FOLLOWING TOO CLOSELY</td>\n",
       "        <td>13419</td>\n",
       "        <td>1</td>\n",
       "    </tr>\n",
       "    <tr>\n",
       "        <td>1000</td>\n",
       "        <td>FAILING TO YIELD RIGHT-OF-WAY</td>\n",
       "        <td>10472</td>\n",
       "        <td>2</td>\n",
       "    </tr>\n",
       "    <tr>\n",
       "        <td>1000</td>\n",
       "        <td>IMPROPER BACKING</td>\n",
       "        <td>6039</td>\n",
       "        <td>3</td>\n",
       "    </tr>\n",
       "    <tr>\n",
       "        <td>1000</td>\n",
       "        <td>IMPROPER OVERTAKING/PASSING</td>\n",
       "        <td>5960</td>\n",
       "        <td>4</td>\n",
       "    </tr>\n",
       "    <tr>\n",
       "        <td>1000</td>\n",
       "        <td>IMPROPER LANE USAGE</td>\n",
       "        <td>4508</td>\n",
       "        <td>5</td>\n",
       "    </tr>\n",
       "    <tr>\n",
       "        <td>1500</td>\n",
       "        <td>FAILING TO YIELD RIGHT-OF-WAY</td>\n",
       "        <td>25278</td>\n",
       "        <td>1</td>\n",
       "    </tr>\n",
       "    <tr>\n",
       "        <td>1500</td>\n",
       "        <td>FOLLOWING TOO CLOSELY</td>\n",
       "        <td>21750</td>\n",
       "        <td>2</td>\n",
       "    </tr>\n",
       "    <tr>\n",
       "        <td>1500</td>\n",
       "        <td>FAILING TO REDUCE SPEED TO AVOID CRASH</td>\n",
       "        <td>10053</td>\n",
       "        <td>3</td>\n",
       "    </tr>\n",
       "    <tr>\n",
       "        <td>1500</td>\n",
       "        <td>IMPROPER OVERTAKING/PASSING</td>\n",
       "        <td>9076</td>\n",
       "        <td>4</td>\n",
       "    </tr>\n",
       "    <tr>\n",
       "        <td>1500</td>\n",
       "        <td>IMPROPER LANE USAGE</td>\n",
       "        <td>8436</td>\n",
       "        <td>5</td>\n",
       "    </tr>\n",
       "</table>"
      ],
      "text/plain": [
       "[(Decimal('500'), 'FOLLOWING TOO CLOSELY', 5505, 1),\n",
       " (Decimal('500'), 'FAILING TO YIELD RIGHT-OF-WAY', 4985, 2),\n",
       " (Decimal('500'), 'IMPROPER BACKING', 3093, 3),\n",
       " (Decimal('500'), 'IMPROPER OVERTAKING/PASSING', 2655, 4),\n",
       " (Decimal('500'), 'IMPROPER LANE USAGE', 1821, 5),\n",
       " (Decimal('1000'), 'FOLLOWING TOO CLOSELY', 13419, 1),\n",
       " (Decimal('1000'), 'FAILING TO YIELD RIGHT-OF-WAY', 10472, 2),\n",
       " (Decimal('1000'), 'IMPROPER BACKING', 6039, 3),\n",
       " (Decimal('1000'), 'IMPROPER OVERTAKING/PASSING', 5960, 4),\n",
       " (Decimal('1000'), 'IMPROPER LANE USAGE', 4508, 5),\n",
       " (Decimal('1500'), 'FAILING TO YIELD RIGHT-OF-WAY', 25278, 1),\n",
       " (Decimal('1500'), 'FOLLOWING TOO CLOSELY', 21750, 2),\n",
       " (Decimal('1500'), 'FAILING TO REDUCE SPEED TO AVOID CRASH', 10053, 3),\n",
       " (Decimal('1500'), 'IMPROPER OVERTAKING/PASSING', 9076, 4),\n",
       " (Decimal('1500'), 'IMPROPER LANE USAGE', 8436, 5)]"
      ]
     },
     "execution_count": 69,
     "metadata": {},
     "output_type": "execute_result"
    }
   ],
   "source": [
    "%%sql\n",
    "select * from(\n",
    "select damage,prim_contributory_cause,count(*), rank()\n",
    "over(Partition BY n.damage ORDER BY count(*) DESC) as rank\n",
    "from(\n",
    "select accidents.*, crash_dump.*\n",
    "from accidents, crash_dump\n",
    "where crash_dump.key=accidents.crash_dump_key and (prim_contributory_cause!='UNABLE TO DETERMINE') and (prim_contributory_cause!='NOT APPLICABLE')\n",
    ") as n\n",
    "group by n.damage,n.prim_contributory_cause\n",
    ") as m\n",
    "where rank<6;"
   ]
  },
  {
   "cell_type": "markdown",
   "metadata": {},
   "source": [
    "Observation:1.FAILING TO YIELD RIGHT-OF-WAY overtakes FOLLOWING TOO CLOSELY as the number 1 cause in damages over 1500 category. 2. FAILING TO REDUCE SPEED TO AVOID CRASH is unique to the damages over 1500 category which means this cause usually is very detrimental."
   ]
  },
  {
   "cell_type": "markdown",
   "metadata": {},
   "source": [
    "#####  Top 10 Average Damage Primary_Contributory_Cause"
   ]
  },
  {
   "cell_type": "code",
   "execution_count": 70,
   "metadata": {},
   "outputs": [
    {
     "name": "stdout",
     "output_type": "stream",
     "text": [
      " * postgresql://student@/dk\n",
      "10 rows affected.\n"
     ]
    },
    {
     "data": {
      "text/html": [
       "<table>\n",
       "    <tr>\n",
       "        <th>prim_contributory_cause</th>\n",
       "        <th>average</th>\n",
       "    </tr>\n",
       "    <tr>\n",
       "        <td>UNDER THE INFLUENCE OF ALCOHOL/DRUGS</td>\n",
       "        <td>1367.7309007981755986</td>\n",
       "    </tr>\n",
       "    <tr>\n",
       "        <td>DISREGARDING TRAFFIC SIGNALS</td>\n",
       "        <td>1365.3551354113438937</td>\n",
       "    </tr>\n",
       "    <tr>\n",
       "        <td>EXCEEDING SAFE SPEED FOR CONDITIONS</td>\n",
       "        <td>1356.7181926278240190</td>\n",
       "    </tr>\n",
       "    <tr>\n",
       "        <td>EXCEEDING AUTHORIZED SPEED LIMIT</td>\n",
       "        <td>1345.5098934550989346</td>\n",
       "    </tr>\n",
       "    <tr>\n",
       "        <td>DISREGARDING STOP SIGN</td>\n",
       "        <td>1340.3183023872679045</td>\n",
       "    </tr>\n",
       "    <tr>\n",
       "        <td>PHYSICAL CONDITION OF DRIVER</td>\n",
       "        <td>1329.0194126431060229</td>\n",
       "    </tr>\n",
       "    <tr>\n",
       "        <td>EQUIPMENT - VEHICLE CONDITION</td>\n",
       "        <td>1317.3307729236677868</td>\n",
       "    </tr>\n",
       "    <tr>\n",
       "        <td>DISREGARDING OTHER TRAFFIC SIGNS</td>\n",
       "        <td>1312.0759837177747626</td>\n",
       "    </tr>\n",
       "    <tr>\n",
       "        <td>DRIVING ON WRONG SIDE/WRONG WAY</td>\n",
       "        <td>1293.8511326860841424</td>\n",
       "    </tr>\n",
       "    <tr>\n",
       "        <td>FAILING TO REDUCE SPEED TO AVOID CRASH</td>\n",
       "        <td>1289.8585226499795946</td>\n",
       "    </tr>\n",
       "</table>"
      ],
      "text/plain": [
       "[('UNDER THE INFLUENCE OF ALCOHOL/DRUGS', Decimal('1367.7309007981755986')),\n",
       " ('DISREGARDING TRAFFIC SIGNALS', Decimal('1365.3551354113438937')),\n",
       " ('EXCEEDING SAFE SPEED FOR CONDITIONS', Decimal('1356.7181926278240190')),\n",
       " ('EXCEEDING AUTHORIZED SPEED LIMIT', Decimal('1345.5098934550989346')),\n",
       " ('DISREGARDING STOP SIGN', Decimal('1340.3183023872679045')),\n",
       " ('PHYSICAL CONDITION OF DRIVER', Decimal('1329.0194126431060229')),\n",
       " ('EQUIPMENT - VEHICLE CONDITION', Decimal('1317.3307729236677868')),\n",
       " ('DISREGARDING OTHER TRAFFIC SIGNS', Decimal('1312.0759837177747626')),\n",
       " ('DRIVING ON WRONG SIDE/WRONG WAY', Decimal('1293.8511326860841424')),\n",
       " ('FAILING TO REDUCE SPEED TO AVOID CRASH', Decimal('1289.8585226499795946'))]"
      ]
     },
     "execution_count": 70,
     "metadata": {},
     "output_type": "execute_result"
    }
   ],
   "source": [
    "%%sql\n",
    "select prim_contributory_cause,average from(\n",
    "select prim_contributory_cause,avg(damage) as average,count(*)\n",
    "from(\n",
    "select CASE\n",
    "      WHEN prim_contributory_cause='UNDER THE INFLUENCE OF ALCOHOL/DRUGS (USE WHEN ARREST IS EFFECTED)' THEN\n",
    "         'UNDER THE INFLUENCE OF ALCOHOL/DRUGS'\n",
    "      ELSE\n",
    "         prim_contributory_cause\n",
    "      End as prim_contributory_cause\n",
    "    ,damage,key,crash_dump_key\n",
    "from accidents, crash_dump\n",
    "where crash_dump.key=accidents.crash_dump_key and (prim_contributory_cause!='UNABLE TO DETERMINE') and (prim_contributory_cause!='NOT APPLICABLE')\n",
    ") as n\n",
    "group by n.prim_contributory_cause\n",
    "having count(*)>100\n",
    "ORDER BY avg(damage) DESC\n",
    "\n",
    ") as m\n",
    "limit 10;"
   ]
  },
  {
   "cell_type": "code",
   "execution_count": 71,
   "metadata": {},
   "outputs": [
    {
     "data": {
      "text/plain": [
       "(array([0, 1, 2, 3, 4, 5, 6, 7, 8, 9]), <a list of 10 Text xticklabel objects>)"
      ]
     },
     "execution_count": 71,
     "metadata": {},
     "output_type": "execute_result"
    },
    {
     "data": {
      "image/png": "[encoded data removed]",
      "text/plain": [
       "<Figure size 1280x640 with 1 Axes>"
      ]
     },
     "metadata": {},
     "output_type": "display_data"
    }
   ],
   "source": [
    "fig=plt.figure(figsize=(16, 8), dpi= 80, facecolor='w', edgecolor='k')\n",
    "\n",
    "_.bar(width=0.5)\n",
    "plt.xticks(rotation='vertical')\n"
   ]
  },
  {
   "cell_type": "markdown",
   "metadata": {},
   "source": [
    "Observation:1.The top nine causes in this graph is not present in the previous two ranking tables which means these causes happen rarely but are more dangerous if they happen. 2.Most of the causes may indicate deliberation of ignoring the regulation rather than carelessness or distraction."
   ]
  },
  {
   "cell_type": "markdown",
   "metadata": {},
   "source": [
    "##### Top 10 Primary_Contributory_Cause for HIT_AND_RUN_I"
   ]
  },
  {
   "cell_type": "code",
   "execution_count": 72,
   "metadata": {},
   "outputs": [
    {
     "name": "stdout",
     "output_type": "stream",
     "text": [
      " * postgresql://student@/dk\n",
      "20 rows affected.\n"
     ]
    },
    {
     "data": {
      "text/html": [
       "<table>\n",
       "    <tr>\n",
       "        <th>hitandrun</th>\n",
       "        <th>prim_contributory_cause</th>\n",
       "        <th>count</th>\n",
       "        <th>rank</th>\n",
       "    </tr>\n",
       "    <tr>\n",
       "        <td>N</td>\n",
       "        <td>FAILING TO YIELD RIGHT-OF-WAY</td>\n",
       "        <td>34921</td>\n",
       "        <td>1</td>\n",
       "    </tr>\n",
       "    <tr>\n",
       "        <td>N</td>\n",
       "        <td>FOLLOWING TOO CLOSELY</td>\n",
       "        <td>33484</td>\n",
       "        <td>2</td>\n",
       "    </tr>\n",
       "    <tr>\n",
       "        <td>N</td>\n",
       "        <td>IMPROPER BACKING</td>\n",
       "        <td>12927</td>\n",
       "        <td>3</td>\n",
       "    </tr>\n",
       "    <tr>\n",
       "        <td>N</td>\n",
       "        <td>IMPROPER OVERTAKING/PASSING</td>\n",
       "        <td>12430</td>\n",
       "        <td>4</td>\n",
       "    </tr>\n",
       "    <tr>\n",
       "        <td>N</td>\n",
       "        <td>FAILING TO REDUCE SPEED TO AVOID CRASH</td>\n",
       "        <td>11575</td>\n",
       "        <td>5</td>\n",
       "    </tr>\n",
       "    <tr>\n",
       "        <td>N</td>\n",
       "        <td>IMPROPER LANE USAGE</td>\n",
       "        <td>11236</td>\n",
       "        <td>6</td>\n",
       "    </tr>\n",
       "    <tr>\n",
       "        <td>N</td>\n",
       "        <td>IMPROPER TURNING/NO SIGNAL</td>\n",
       "        <td>10198</td>\n",
       "        <td>7</td>\n",
       "    </tr>\n",
       "    <tr>\n",
       "        <td>N</td>\n",
       "        <td>DRIVING SKILLS/KNOWLEDGE/EXPERIENCE</td>\n",
       "        <td>9261</td>\n",
       "        <td>8</td>\n",
       "    </tr>\n",
       "    <tr>\n",
       "        <td>N</td>\n",
       "        <td>WEATHER</td>\n",
       "        <td>5405</td>\n",
       "        <td>9</td>\n",
       "    </tr>\n",
       "    <tr>\n",
       "        <td>N</td>\n",
       "        <td>DISREGARDING TRAFFIC SIGNALS</td>\n",
       "        <td>4486</td>\n",
       "        <td>10</td>\n",
       "    </tr>\n",
       "    <tr>\n",
       "        <td>Y</td>\n",
       "        <td>FOLLOWING TOO CLOSELY</td>\n",
       "        <td>7190</td>\n",
       "        <td>1</td>\n",
       "    </tr>\n",
       "    <tr>\n",
       "        <td>Y</td>\n",
       "        <td>FAILING TO YIELD RIGHT-OF-WAY</td>\n",
       "        <td>5814</td>\n",
       "        <td>2</td>\n",
       "    </tr>\n",
       "    <tr>\n",
       "        <td>Y</td>\n",
       "        <td>IMPROPER OVERTAKING/PASSING</td>\n",
       "        <td>5261</td>\n",
       "        <td>3</td>\n",
       "    </tr>\n",
       "    <tr>\n",
       "        <td>Y</td>\n",
       "        <td>IMPROPER BACKING</td>\n",
       "        <td>3648</td>\n",
       "        <td>4</td>\n",
       "    </tr>\n",
       "    <tr>\n",
       "        <td>Y</td>\n",
       "        <td>IMPROPER LANE USAGE</td>\n",
       "        <td>3529</td>\n",
       "        <td>5</td>\n",
       "    </tr>\n",
       "    <tr>\n",
       "        <td>Y</td>\n",
       "        <td>FAILING TO REDUCE SPEED TO AVOID CRASH</td>\n",
       "        <td>3127</td>\n",
       "        <td>6</td>\n",
       "    </tr>\n",
       "    <tr>\n",
       "        <td>Y</td>\n",
       "        <td>&quot;OPERATING VEHICLE IN ERRATIC, RECKLESS, CARELESS, NEGLIGENT OR AGGRESSIVE MANNER&quot;</td>\n",
       "        <td>2325</td>\n",
       "        <td>7</td>\n",
       "    </tr>\n",
       "    <tr>\n",
       "        <td>Y</td>\n",
       "        <td>IMPROPER TURNING/NO SIGNAL</td>\n",
       "        <td>2124</td>\n",
       "        <td>8</td>\n",
       "    </tr>\n",
       "    <tr>\n",
       "        <td>Y</td>\n",
       "        <td>DRIVING SKILLS/KNOWLEDGE/EXPERIENCE</td>\n",
       "        <td>2095</td>\n",
       "        <td>9</td>\n",
       "    </tr>\n",
       "    <tr>\n",
       "        <td>Y</td>\n",
       "        <td>DISREGARDING TRAFFIC SIGNALS</td>\n",
       "        <td>1385</td>\n",
       "        <td>10</td>\n",
       "    </tr>\n",
       "</table>"
      ],
      "text/plain": [
       "[('N', 'FAILING TO YIELD RIGHT-OF-WAY', 34921, 1),\n",
       " ('N', 'FOLLOWING TOO CLOSELY', 33484, 2),\n",
       " ('N', 'IMPROPER BACKING', 12927, 3),\n",
       " ('N', 'IMPROPER OVERTAKING/PASSING', 12430, 4),\n",
       " ('N', 'FAILING TO REDUCE SPEED TO AVOID CRASH', 11575, 5),\n",
       " ('N', 'IMPROPER LANE USAGE', 11236, 6),\n",
       " ('N', 'IMPROPER TURNING/NO SIGNAL', 10198, 7),\n",
       " ('N', 'DRIVING SKILLS/KNOWLEDGE/EXPERIENCE', 9261, 8),\n",
       " ('N', 'WEATHER', 5405, 9),\n",
       " ('N', 'DISREGARDING TRAFFIC SIGNALS', 4486, 10),\n",
       " ('Y', 'FOLLOWING TOO CLOSELY', 7190, 1),\n",
       " ('Y', 'FAILING TO YIELD RIGHT-OF-WAY', 5814, 2),\n",
       " ('Y', 'IMPROPER OVERTAKING/PASSING', 5261, 3),\n",
       " ('Y', 'IMPROPER BACKING', 3648, 4),\n",
       " ('Y', 'IMPROPER LANE USAGE', 3529, 5),\n",
       " ('Y', 'FAILING TO REDUCE SPEED TO AVOID CRASH', 3127, 6),\n",
       " ('Y', '\"OPERATING VEHICLE IN ERRATIC, RECKLESS, CARELESS, NEGLIGENT OR AGGRESSIVE MANNER\"', 2325, 7),\n",
       " ('Y', 'IMPROPER TURNING/NO SIGNAL', 2124, 8),\n",
       " ('Y', 'DRIVING SKILLS/KNOWLEDGE/EXPERIENCE', 2095, 9),\n",
       " ('Y', 'DISREGARDING TRAFFIC SIGNALS', 1385, 10)]"
      ]
     },
     "execution_count": 72,
     "metadata": {},
     "output_type": "execute_result"
    }
   ],
   "source": [
    "\n",
    "\n",
    "%%sql\n",
    "select * from(\n",
    "select HitandRun, prim_contributory_cause,count(*), rank()\n",
    "over(Partition BY n.HitandRun ORDER BY count(*) DESC) as rank\n",
    "from(\n",
    "select CASE\n",
    "      WHEN HIT_AND_RUN_I='' THEN\n",
    "         'N'\n",
    "      ELSE\n",
    "         HIT_AND_RUN_I\n",
    "      END AS HitandRun,prim_contributory_cause,crash_dump_key,key\n",
    "from accidents, crash_dump\n",
    "where crash_dump.key=accidents.crash_dump_key  and (prim_contributory_cause!='UNABLE TO DETERMINE') and (prim_contributory_cause!='NOT APPLICABLE')\n",
    ") as n\n",
    "group by n.HitandRun,n.prim_contributory_cause\n",
    ") as m\n",
    "where rank<11;\n"
   ]
  },
  {
   "cell_type": "markdown",
   "metadata": {},
   "source": [
    "Observation:1.The top six causes for two partitions are exactly the same, which indicates whether hit and run happens may not be related to the causes. 2.The \"OPERATING VEHICLE IN ERRATIC, RECKLESS, CARELESS, NEGLIGENT OR AGGRESSIVE MANNER\" is unique to the group who hit and run and that may suggests such behaviour is related to a person's driving behaviour or personality."
   ]
  },
  {
   "cell_type": "markdown",
   "metadata": {},
   "source": [
    "##### Top 10 Primary_Contributory_Cause by Time"
   ]
  },
  {
   "cell_type": "code",
   "execution_count": 73,
   "metadata": {},
   "outputs": [
    {
     "name": "stdout",
     "output_type": "stream",
     "text": [
      " * postgresql://student@/dk\n",
      "Done.\n"
     ]
    },
    {
     "data": {
      "text/plain": [
       "[]"
      ]
     },
     "execution_count": 73,
     "metadata": {},
     "output_type": "execute_result"
    }
   ],
   "source": [
    "\n",
    "\n",
    "%%sql\n",
    "Create or replace view period as \n",
    "select * from(\n",
    "select time,prim_contributory_cause,count(*), COUNT(*) / SUM(count(*))\n",
    "over(Partition BY n.time) as percent,rank() over (Partition BY n.time order by count(*) desc) as rank\n",
    "from(\n",
    "    \n",
    "    \n",
    "select CASE\n",
    "      WHEN crash_hour in ('6','7','8','9','10','11') THEN\n",
    "         'Morning'\n",
    "    WHEN crash_hour in ('12','13','14','15','16') THEN\n",
    "         'Afternoon'\n",
    "    WHEN crash_hour in ('17','18','19','20','21') THEN\n",
    "         'Evening'\n",
    "      ELSE\n",
    "         'Night'\n",
    "      END AS time,prim_contributory_cause,crash_dump_key,crash_dump.key,day.key\n",
    "from accidents, crash_dump,day\n",
    "where crash_dump.key=accidents.crash_dump_key and day.key=day_key\n",
    "    and (prim_contributory_cause!='UNABLE TO DETERMINE') and (prim_contributory_cause!='NOT APPLICABLE')\n",
    ") as n\n",
    "    \n",
    "group by n.time,prim_contributory_cause\n",
    "\n",
    ") as m\n",
    "where rank<11"
   ]
  },
  {
   "cell_type": "code",
   "execution_count": 74,
   "metadata": {},
   "outputs": [
    {
     "name": "stdout",
     "output_type": "stream",
     "text": [
      " * postgresql://student@/dk\n",
      "20 rows affected.\n"
     ]
    },
    {
     "data": {
      "text/html": [
       "<table>\n",
       "    <tr>\n",
       "        <th>time</th>\n",
       "        <th>prim_contributory_cause</th>\n",
       "        <th>count</th>\n",
       "        <th>percent</th>\n",
       "        <th>rank</th>\n",
       "    </tr>\n",
       "    <tr>\n",
       "        <td>Afternoon</td>\n",
       "        <td>FAILING TO YIELD RIGHT-OF-WAY</td>\n",
       "        <td>15265</td>\n",
       "        <td>0.21215827438117607816</td>\n",
       "        <td>1</td>\n",
       "    </tr>\n",
       "    <tr>\n",
       "        <td>Afternoon</td>\n",
       "        <td>FOLLOWING TOO CLOSELY</td>\n",
       "        <td>14916</td>\n",
       "        <td>0.20730775110839321205</td>\n",
       "        <td>2</td>\n",
       "    </tr>\n",
       "    <tr>\n",
       "        <td>Afternoon</td>\n",
       "        <td>IMPROPER OVERTAKING/PASSING</td>\n",
       "        <td>6426</td>\n",
       "        <td>0.08931078094814526553</td>\n",
       "        <td>3</td>\n",
       "    </tr>\n",
       "    <tr>\n",
       "        <td>Afternoon</td>\n",
       "        <td>IMPROPER BACKING</td>\n",
       "        <td>6370</td>\n",
       "        <td>0.08853247348890216953</td>\n",
       "        <td>4</td>\n",
       "    </tr>\n",
       "    <tr>\n",
       "        <td>Afternoon</td>\n",
       "        <td>IMPROPER LANE USAGE</td>\n",
       "        <td>4843</td>\n",
       "        <td>0.06730969687704131979</td>\n",
       "        <td>5</td>\n",
       "    </tr>\n",
       "    <tr>\n",
       "        <td>Afternoon</td>\n",
       "        <td>FAILING TO REDUCE SPEED TO AVOID CRASH</td>\n",
       "        <td>4435</td>\n",
       "        <td>0.06163917110255590610</td>\n",
       "        <td>6</td>\n",
       "    </tr>\n",
       "    <tr>\n",
       "        <td>Afternoon</td>\n",
       "        <td>IMPROPER TURNING/NO SIGNAL</td>\n",
       "        <td>4162</td>\n",
       "        <td>0.05784492223874581312</td>\n",
       "        <td>7</td>\n",
       "    </tr>\n",
       "    <tr>\n",
       "        <td>Afternoon</td>\n",
       "        <td>DRIVING SKILLS/KNOWLEDGE/EXPERIENCE</td>\n",
       "        <td>4024</td>\n",
       "        <td>0.05592695028561104085</td>\n",
       "        <td>8</td>\n",
       "    </tr>\n",
       "    <tr>\n",
       "        <td>Afternoon</td>\n",
       "        <td>DISREGARDING TRAFFIC SIGNALS</td>\n",
       "        <td>1503</td>\n",
       "        <td>0.02088921627218523718</td>\n",
       "        <td>9</td>\n",
       "    </tr>\n",
       "    <tr>\n",
       "        <td>Afternoon</td>\n",
       "        <td>WEATHER</td>\n",
       "        <td>1465</td>\n",
       "        <td>0.02036107906769885061</td>\n",
       "        <td>10</td>\n",
       "    </tr>\n",
       "    <tr>\n",
       "        <td>Evening</td>\n",
       "        <td>FOLLOWING TOO CLOSELY</td>\n",
       "        <td>10706</td>\n",
       "        <td>0.19994397235969745074</td>\n",
       "        <td>1</td>\n",
       "    </tr>\n",
       "    <tr>\n",
       "        <td>Evening</td>\n",
       "        <td>FAILING TO YIELD RIGHT-OF-WAY</td>\n",
       "        <td>10513</td>\n",
       "        <td>0.19633952750023344850</td>\n",
       "        <td>2</td>\n",
       "    </tr>\n",
       "    <tr>\n",
       "        <td>Evening</td>\n",
       "        <td>IMPROPER OVERTAKING/PASSING</td>\n",
       "        <td>4607</td>\n",
       "        <td>0.08603977962461480997</td>\n",
       "        <td>3</td>\n",
       "    </tr>\n",
       "    <tr>\n",
       "        <td>Evening</td>\n",
       "        <td>IMPROPER BACKING</td>\n",
       "        <td>4021</td>\n",
       "        <td>0.07509571388551685498</td>\n",
       "        <td>4</td>\n",
       "    </tr>\n",
       "    <tr>\n",
       "        <td>Evening</td>\n",
       "        <td>FAILING TO REDUCE SPEED TO AVOID CRASH</td>\n",
       "        <td>3879</td>\n",
       "        <td>0.07244373891119619012</td>\n",
       "        <td>5</td>\n",
       "    </tr>\n",
       "    <tr>\n",
       "        <td>Evening</td>\n",
       "        <td>IMPROPER LANE USAGE</td>\n",
       "        <td>3776</td>\n",
       "        <td>0.07052012326080866561</td>\n",
       "        <td>6</td>\n",
       "    </tr>\n",
       "    <tr>\n",
       "        <td>Evening</td>\n",
       "        <td>IMPROPER TURNING/NO SIGNAL</td>\n",
       "        <td>3191</td>\n",
       "        <td>0.05959473340181156037</td>\n",
       "        <td>7</td>\n",
       "    </tr>\n",
       "    <tr>\n",
       "        <td>Evening</td>\n",
       "        <td>DRIVING SKILLS/KNOWLEDGE/EXPERIENCE</td>\n",
       "        <td>2617</td>\n",
       "        <td>0.04887477822392380241</td>\n",
       "        <td>8</td>\n",
       "    </tr>\n",
       "    <tr>\n",
       "        <td>Evening</td>\n",
       "        <td>WEATHER</td>\n",
       "        <td>1297</td>\n",
       "        <td>0.02422261649080212905</td>\n",
       "        <td>9</td>\n",
       "    </tr>\n",
       "    <tr>\n",
       "        <td>Evening</td>\n",
       "        <td>DISREGARDING TRAFFIC SIGNALS</td>\n",
       "        <td>1283</td>\n",
       "        <td>0.02396115416939023251</td>\n",
       "        <td>10</td>\n",
       "    </tr>\n",
       "</table>"
      ],
      "text/plain": [
       "[('Afternoon', 'FAILING TO YIELD RIGHT-OF-WAY', 15265, Decimal('0.21215827438117607816'), 1),\n",
       " ('Afternoon', 'FOLLOWING TOO CLOSELY', 14916, Decimal('0.20730775110839321205'), 2),\n",
       " ('Afternoon', 'IMPROPER OVERTAKING/PASSING', 6426, Decimal('0.08931078094814526553'), 3),\n",
       " ('Afternoon', 'IMPROPER BACKING', 6370, Decimal('0.08853247348890216953'), 4),\n",
       " ('Afternoon', 'IMPROPER LANE USAGE', 4843, Decimal('0.06730969687704131979'), 5),\n",
       " ('Afternoon', 'FAILING TO REDUCE SPEED TO AVOID CRASH', 4435, Decimal('0.06163917110255590610'), 6),\n",
       " ('Afternoon', 'IMPROPER TURNING/NO SIGNAL', 4162, Decimal('0.05784492223874581312'), 7),\n",
       " ('Afternoon', 'DRIVING SKILLS/KNOWLEDGE/EXPERIENCE', 4024, Decimal('0.05592695028561104085'), 8),\n",
       " ('Afternoon', 'DISREGARDING TRAFFIC SIGNALS', 1503, Decimal('0.02088921627218523718'), 9),\n",
       " ('Afternoon', 'WEATHER', 1465, Decimal('0.02036107906769885061'), 10),\n",
       " ('Evening', 'FOLLOWING TOO CLOSELY', 10706, Decimal('0.19994397235969745074'), 1),\n",
       " ('Evening', 'FAILING TO YIELD RIGHT-OF-WAY', 10513, Decimal('0.19633952750023344850'), 2),\n",
       " ('Evening', 'IMPROPER OVERTAKING/PASSING', 4607, Decimal('0.08603977962461480997'), 3),\n",
       " ('Evening', 'IMPROPER BACKING', 4021, Decimal('0.07509571388551685498'), 4),\n",
       " ('Evening', 'FAILING TO REDUCE SPEED TO AVOID CRASH', 3879, Decimal('0.07244373891119619012'), 5),\n",
       " ('Evening', 'IMPROPER LANE USAGE', 3776, Decimal('0.07052012326080866561'), 6),\n",
       " ('Evening', 'IMPROPER TURNING/NO SIGNAL', 3191, Decimal('0.05959473340181156037'), 7),\n",
       " ('Evening', 'DRIVING SKILLS/KNOWLEDGE/EXPERIENCE', 2617, Decimal('0.04887477822392380241'), 8),\n",
       " ('Evening', 'WEATHER', 1297, Decimal('0.02422261649080212905'), 9),\n",
       " ('Evening', 'DISREGARDING TRAFFIC SIGNALS', 1283, Decimal('0.02396115416939023251'), 10)]"
      ]
     },
     "execution_count": 74,
     "metadata": {},
     "output_type": "execute_result"
    }
   ],
   "source": [
    "%%sql\n",
    "select * from period limit 20;"
   ]
  },
  {
   "cell_type": "code",
   "execution_count": 75,
   "metadata": {},
   "outputs": [
    {
     "name": "stdout",
     "output_type": "stream",
     "text": [
      " * postgresql://student@/dk\n",
      "10 rows affected.\n"
     ]
    },
    {
     "data": {
      "text/html": [
       "<table>\n",
       "    <tr>\n",
       "        <th>prim_contributory_cause</th>\n",
       "        <th>percent</th>\n",
       "    </tr>\n",
       "    <tr>\n",
       "        <td>FAILING TO YIELD RIGHT-OF-WAY</td>\n",
       "        <td>0.20014620380129883377</td>\n",
       "    </tr>\n",
       "    <tr>\n",
       "        <td>FOLLOWING TOO CLOSELY</td>\n",
       "        <td>0.19360103362687429873</td>\n",
       "    </tr>\n",
       "    <tr>\n",
       "        <td>IMPROPER OVERTAKING/PASSING</td>\n",
       "        <td>0.08432219237700180205</td>\n",
       "    </tr>\n",
       "    <tr>\n",
       "        <td>IMPROPER BACKING</td>\n",
       "        <td>0.07558396518309476046</td>\n",
       "    </tr>\n",
       "    <tr>\n",
       "        <td>IMPROPER LANE USAGE</td>\n",
       "        <td>0.07288089490326748495</td>\n",
       "    </tr>\n",
       "    <tr>\n",
       "        <td>FAILING TO REDUCE SPEED TO AVOID CRASH</td>\n",
       "        <td>0.05894053245384379994</td>\n",
       "    </tr>\n",
       "    <tr>\n",
       "        <td>IMPROPER TURNING/NO SIGNAL</td>\n",
       "        <td>0.05882152935976335385</td>\n",
       "    </tr>\n",
       "    <tr>\n",
       "        <td>DRIVING SKILLS/KNOWLEDGE/EXPERIENCE</td>\n",
       "        <td>0.05802250858522321580</td>\n",
       "    </tr>\n",
       "    <tr>\n",
       "        <td>WEATHER</td>\n",
       "        <td>0.03559892557206487369</td>\n",
       "    </tr>\n",
       "    <tr>\n",
       "        <td>DISREGARDING TRAFFIC SIGNALS</td>\n",
       "        <td>0.02626568290775560165</td>\n",
       "    </tr>\n",
       "</table>"
      ],
      "text/plain": [
       "[('FAILING TO YIELD RIGHT-OF-WAY', Decimal('0.20014620380129883377')),\n",
       " ('FOLLOWING TOO CLOSELY', Decimal('0.19360103362687429873')),\n",
       " ('IMPROPER OVERTAKING/PASSING', Decimal('0.08432219237700180205')),\n",
       " ('IMPROPER BACKING', Decimal('0.07558396518309476046')),\n",
       " ('IMPROPER LANE USAGE', Decimal('0.07288089490326748495')),\n",
       " ('FAILING TO REDUCE SPEED TO AVOID CRASH', Decimal('0.05894053245384379994')),\n",
       " ('IMPROPER TURNING/NO SIGNAL', Decimal('0.05882152935976335385')),\n",
       " ('DRIVING SKILLS/KNOWLEDGE/EXPERIENCE', Decimal('0.05802250858522321580')),\n",
       " ('WEATHER', Decimal('0.03559892557206487369')),\n",
       " ('DISREGARDING TRAFFIC SIGNALS', Decimal('0.02626568290775560165'))]"
      ]
     },
     "execution_count": 75,
     "metadata": {},
     "output_type": "execute_result"
    }
   ],
   "source": [
    "%%sql\n",
    "select prim_contributory_cause,percent from period\n",
    "where time='Morning'\n",
    "order by percent desc\n",
    "limit 10"
   ]
  },
  {
   "cell_type": "code",
   "execution_count": 76,
   "metadata": {},
   "outputs": [
    {
     "data": {
      "text/plain": [
       "Text(0.5,1,'Morning')"
      ]
     },
     "execution_count": 76,
     "metadata": {},
     "output_type": "execute_result"
    },
    {
     "data": {
      "image/png": "[encoded data removed]",
      "text/plain": [
       "<Figure size 720x720 with 1 Axes>"
      ]
     },
     "metadata": {},
     "output_type": "display_data"
    }
   ],
   "source": [
    "fig=plt.figure(figsize=(9, 9), dpi= 80, facecolor='w', edgecolor='k')\n",
    "_.pie(autopct='%.2f%%')\n",
    "plt.title(\"Morning\")"
   ]
  },
  {
   "cell_type": "code",
   "execution_count": 77,
   "metadata": {},
   "outputs": [
    {
     "name": "stdout",
     "output_type": "stream",
     "text": [
      " * postgresql://student@/dk\n",
      "10 rows affected.\n"
     ]
    },
    {
     "data": {
      "text/html": [
       "<table>\n",
       "    <tr>\n",
       "        <th>prim_contributory_cause</th>\n",
       "        <th>percent</th>\n",
       "    </tr>\n",
       "    <tr>\n",
       "        <td>FAILING TO YIELD RIGHT-OF-WAY</td>\n",
       "        <td>0.21215827438117607816</td>\n",
       "    </tr>\n",
       "    <tr>\n",
       "        <td>FOLLOWING TOO CLOSELY</td>\n",
       "        <td>0.20730775110839321205</td>\n",
       "    </tr>\n",
       "    <tr>\n",
       "        <td>IMPROPER OVERTAKING/PASSING</td>\n",
       "        <td>0.08931078094814526553</td>\n",
       "    </tr>\n",
       "    <tr>\n",
       "        <td>IMPROPER BACKING</td>\n",
       "        <td>0.08853247348890216953</td>\n",
       "    </tr>\n",
       "    <tr>\n",
       "        <td>IMPROPER LANE USAGE</td>\n",
       "        <td>0.06730969687704131979</td>\n",
       "    </tr>\n",
       "    <tr>\n",
       "        <td>FAILING TO REDUCE SPEED TO AVOID CRASH</td>\n",
       "        <td>0.06163917110255590610</td>\n",
       "    </tr>\n",
       "    <tr>\n",
       "        <td>IMPROPER TURNING/NO SIGNAL</td>\n",
       "        <td>0.05784492223874581312</td>\n",
       "    </tr>\n",
       "    <tr>\n",
       "        <td>DRIVING SKILLS/KNOWLEDGE/EXPERIENCE</td>\n",
       "        <td>0.05592695028561104085</td>\n",
       "    </tr>\n",
       "    <tr>\n",
       "        <td>DISREGARDING TRAFFIC SIGNALS</td>\n",
       "        <td>0.02088921627218523718</td>\n",
       "    </tr>\n",
       "    <tr>\n",
       "        <td>WEATHER</td>\n",
       "        <td>0.02036107906769885061</td>\n",
       "    </tr>\n",
       "</table>"
      ],
      "text/plain": [
       "[('FAILING TO YIELD RIGHT-OF-WAY', Decimal('0.21215827438117607816')),\n",
       " ('FOLLOWING TOO CLOSELY', Decimal('0.20730775110839321205')),\n",
       " ('IMPROPER OVERTAKING/PASSING', Decimal('0.08931078094814526553')),\n",
       " ('IMPROPER BACKING', Decimal('0.08853247348890216953')),\n",
       " ('IMPROPER LANE USAGE', Decimal('0.06730969687704131979')),\n",
       " ('FAILING TO REDUCE SPEED TO AVOID CRASH', Decimal('0.06163917110255590610')),\n",
       " ('IMPROPER TURNING/NO SIGNAL', Decimal('0.05784492223874581312')),\n",
       " ('DRIVING SKILLS/KNOWLEDGE/EXPERIENCE', Decimal('0.05592695028561104085')),\n",
       " ('DISREGARDING TRAFFIC SIGNALS', Decimal('0.02088921627218523718')),\n",
       " ('WEATHER', Decimal('0.02036107906769885061'))]"
      ]
     },
     "execution_count": 77,
     "metadata": {},
     "output_type": "execute_result"
    }
   ],
   "source": [
    "%%sql\n",
    "select prim_contributory_cause,percent from period\n",
    "where time='Afternoon'\n",
    "order by percent desc\n",
    "limit 10\n"
   ]
  },
  {
   "cell_type": "code",
   "execution_count": 78,
   "metadata": {},
   "outputs": [
    {
     "data": {
      "text/plain": [
       "Text(0.5,1,'Afternoon')"
      ]
     },
     "execution_count": 78,
     "metadata": {},
     "output_type": "execute_result"
    },
    {
     "data": {
      "image/png": "[encoded data removed]",
      "text/plain": [
       "<Figure size 720x720 with 1 Axes>"
      ]
     },
     "metadata": {},
     "output_type": "display_data"
    }
   ],
   "source": [
    "fig=plt.figure(figsize=(9, 9), dpi= 80, facecolor='w', edgecolor='k')\n",
    "_.pie(autopct='%.2f%%')\n",
    "plt.title(\"Afternoon\")"
   ]
  },
  {
   "cell_type": "code",
   "execution_count": 79,
   "metadata": {},
   "outputs": [
    {
     "name": "stdout",
     "output_type": "stream",
     "text": [
      " * postgresql://student@/dk\n",
      "10 rows affected.\n"
     ]
    },
    {
     "data": {
      "text/html": [
       "<table>\n",
       "    <tr>\n",
       "        <th>prim_contributory_cause</th>\n",
       "        <th>percent</th>\n",
       "    </tr>\n",
       "    <tr>\n",
       "        <td>FOLLOWING TOO CLOSELY</td>\n",
       "        <td>0.19994397235969745074</td>\n",
       "    </tr>\n",
       "    <tr>\n",
       "        <td>FAILING TO YIELD RIGHT-OF-WAY</td>\n",
       "        <td>0.19633952750023344850</td>\n",
       "    </tr>\n",
       "    <tr>\n",
       "        <td>IMPROPER OVERTAKING/PASSING</td>\n",
       "        <td>0.08603977962461480997</td>\n",
       "    </tr>\n",
       "    <tr>\n",
       "        <td>IMPROPER BACKING</td>\n",
       "        <td>0.07509571388551685498</td>\n",
       "    </tr>\n",
       "    <tr>\n",
       "        <td>FAILING TO REDUCE SPEED TO AVOID CRASH</td>\n",
       "        <td>0.07244373891119619012</td>\n",
       "    </tr>\n",
       "    <tr>\n",
       "        <td>IMPROPER LANE USAGE</td>\n",
       "        <td>0.07052012326080866561</td>\n",
       "    </tr>\n",
       "    <tr>\n",
       "        <td>IMPROPER TURNING/NO SIGNAL</td>\n",
       "        <td>0.05959473340181156037</td>\n",
       "    </tr>\n",
       "    <tr>\n",
       "        <td>DRIVING SKILLS/KNOWLEDGE/EXPERIENCE</td>\n",
       "        <td>0.04887477822392380241</td>\n",
       "    </tr>\n",
       "    <tr>\n",
       "        <td>WEATHER</td>\n",
       "        <td>0.02422261649080212905</td>\n",
       "    </tr>\n",
       "    <tr>\n",
       "        <td>DISREGARDING TRAFFIC SIGNALS</td>\n",
       "        <td>0.02396115416939023251</td>\n",
       "    </tr>\n",
       "</table>"
      ],
      "text/plain": [
       "[('FOLLOWING TOO CLOSELY', Decimal('0.19994397235969745074')),\n",
       " ('FAILING TO YIELD RIGHT-OF-WAY', Decimal('0.19633952750023344850')),\n",
       " ('IMPROPER OVERTAKING/PASSING', Decimal('0.08603977962461480997')),\n",
       " ('IMPROPER BACKING', Decimal('0.07509571388551685498')),\n",
       " ('FAILING TO REDUCE SPEED TO AVOID CRASH', Decimal('0.07244373891119619012')),\n",
       " ('IMPROPER LANE USAGE', Decimal('0.07052012326080866561')),\n",
       " ('IMPROPER TURNING/NO SIGNAL', Decimal('0.05959473340181156037')),\n",
       " ('DRIVING SKILLS/KNOWLEDGE/EXPERIENCE', Decimal('0.04887477822392380241')),\n",
       " ('WEATHER', Decimal('0.02422261649080212905')),\n",
       " ('DISREGARDING TRAFFIC SIGNALS', Decimal('0.02396115416939023251'))]"
      ]
     },
     "execution_count": 79,
     "metadata": {},
     "output_type": "execute_result"
    }
   ],
   "source": [
    "%%sql\n",
    "select prim_contributory_cause,percent from period\n",
    "where time='Evening'\n",
    "order by percent desc\n",
    "limit 10\n"
   ]
  },
  {
   "cell_type": "code",
   "execution_count": 80,
   "metadata": {},
   "outputs": [
    {
     "data": {
      "text/plain": [
       "Text(0.5,1,'Evening')"
      ]
     },
     "execution_count": 80,
     "metadata": {},
     "output_type": "execute_result"
    },
    {
     "data": {
      "image/png": "[encoded data removed]",
      "text/plain": [
       "<Figure size 720x720 with 1 Axes>"
      ]
     },
     "metadata": {},
     "output_type": "display_data"
    }
   ],
   "source": [
    "\n",
    "fig=plt.figure(figsize=(9, 9), dpi= 80, facecolor='w', edgecolor='k')\n",
    "_.pie(autopct='%.2f%%')\n",
    "plt.title(\"Evening\")"
   ]
  },
  {
   "cell_type": "code",
   "execution_count": 81,
   "metadata": {},
   "outputs": [
    {
     "name": "stdout",
     "output_type": "stream",
     "text": [
      " * postgresql://student@/dk\n",
      "10 rows affected.\n"
     ]
    },
    {
     "data": {
      "text/html": [
       "<table>\n",
       "    <tr>\n",
       "        <th>prim_contributory_cause</th>\n",
       "        <th>percent</th>\n",
       "    </tr>\n",
       "    <tr>\n",
       "        <td>FOLLOWING TOO CLOSELY</td>\n",
       "        <td>0.13133557961144168041</td>\n",
       "    </tr>\n",
       "    <tr>\n",
       "        <td>FAILING TO YIELD RIGHT-OF-WAY</td>\n",
       "        <td>0.11413004516452792315</td>\n",
       "    </tr>\n",
       "    <tr>\n",
       "        <td>FAILING TO REDUCE SPEED TO AVOID CRASH</td>\n",
       "        <td>0.10470284608215642698</td>\n",
       "    </tr>\n",
       "    <tr>\n",
       "        <td>IMPROPER LANE USAGE</td>\n",
       "        <td>0.06663560111835973905</td>\n",
       "    </tr>\n",
       "    <tr>\n",
       "        <td>IMPROPER BACKING</td>\n",
       "        <td>0.06229837264320022941</td>\n",
       "    </tr>\n",
       "    <tr>\n",
       "        <td>IMPROPER OVERTAKING/PASSING</td>\n",
       "        <td>0.06086457810595741630</td>\n",
       "    </tr>\n",
       "    <tr>\n",
       "        <td>DISREGARDING TRAFFIC SIGNALS</td>\n",
       "        <td>0.05520108968384830454</td>\n",
       "    </tr>\n",
       "    <tr>\n",
       "        <td>IMPROPER TURNING/NO SIGNAL</td>\n",
       "        <td>0.05408989891748512438</td>\n",
       "    </tr>\n",
       "    <tr>\n",
       "        <td>DRIVING SKILLS/KNOWLEDGE/EXPERIENCE</td>\n",
       "        <td>0.04667001218725356656</td>\n",
       "    </tr>\n",
       "    <tr>\n",
       "        <td>&quot;OPERATING VEHICLE IN ERRATIC, RECKLESS, CARELESS, NEGLIGENT OR AGGRESSIVE MANNER&quot;</td>\n",
       "        <td>0.03978779840848806366</td>\n",
       "    </tr>\n",
       "</table>"
      ],
      "text/plain": [
       "[('FOLLOWING TOO CLOSELY', Decimal('0.13133557961144168041')),\n",
       " ('FAILING TO YIELD RIGHT-OF-WAY', Decimal('0.11413004516452792315')),\n",
       " ('FAILING TO REDUCE SPEED TO AVOID CRASH', Decimal('0.10470284608215642698')),\n",
       " ('IMPROPER LANE USAGE', Decimal('0.06663560111835973905')),\n",
       " ('IMPROPER BACKING', Decimal('0.06229837264320022941')),\n",
       " ('IMPROPER OVERTAKING/PASSING', Decimal('0.06086457810595741630')),\n",
       " ('DISREGARDING TRAFFIC SIGNALS', Decimal('0.05520108968384830454')),\n",
       " ('IMPROPER TURNING/NO SIGNAL', Decimal('0.05408989891748512438')),\n",
       " ('DRIVING SKILLS/KNOWLEDGE/EXPERIENCE', Decimal('0.04667001218725356656')),\n",
       " ('\"OPERATING VEHICLE IN ERRATIC, RECKLESS, CARELESS, NEGLIGENT OR AGGRESSIVE MANNER\"', Decimal('0.03978779840848806366'))]"
      ]
     },
     "execution_count": 81,
     "metadata": {},
     "output_type": "execute_result"
    }
   ],
   "source": [
    "%%sql\n",
    "select prim_contributory_cause,percent from period\n",
    "where time='Night'\n",
    "order by percent desc\n",
    "limit 10\n"
   ]
  },
  {
   "cell_type": "code",
   "execution_count": 82,
   "metadata": {},
   "outputs": [
    {
     "data": {
      "text/plain": [
       "Text(0.5,1,'Night')"
      ]
     },
     "execution_count": 82,
     "metadata": {},
     "output_type": "execute_result"
    },
    {
     "data": {
      "image/png": "[encoded data removed]",
      "text/plain": [
       "<Figure size 720x720 with 1 Axes>"
      ]
     },
     "metadata": {},
     "output_type": "display_data"
    }
   ],
   "source": [
    "\n",
    "fig=plt.figure(figsize=(9, 9), dpi= 80, facecolor='w', edgecolor='k')\n",
    "_.pie(autopct='%.2f%%')\n",
    "plt.title(\"Night\")"
   ]
  },
  {
   "cell_type": "code",
   "execution_count": null,
   "metadata": {},
   "outputs": [],
   "source": [
    "#Observation:1.Of the four main pie charts, Morning, Afternoon and Evening have almost identical components and percentages, which means the traffic conditions during these times are similar.  \n",
    "#2.The Night pie chart is significantly different with the previous three charts as the top 10 causes make up for less than 75% of the whole graph, the top two causes' shares reduce sharply, maybe due to significantly less cars on the road. \n",
    "#3. The Night chart may indicate that during the period, traffic accidents's causes are more diversified and requires special attention."
   ]
  },
  {
   "cell_type": "code",
   "execution_count": null,
   "metadata": {},
   "outputs": [],
   "source": []
  }
 ],
 "metadata": {
  "kernelspec": {
   "display_name": "Python 3",
   "language": "python",
   "name": "python3"
  },
  "language_info": {
   "codemirror_mode": {
    "name": "ipython",
    "version": 3
   },
   "file_extension": ".py",
   "mimetype": "text/x-python",
   "name": "python",
   "nbconvert_exporter": "python",
   "pygments_lexer": "ipython3",
   "version": "3.7.4"
  }
 },
 "nbformat": 4,
 "nbformat_minor": 2
}
